{
 "cells": [
  {
   "cell_type": "markdown",
   "metadata": {},
   "source": [
    "# Twitter Sentiment Analysis"
   ]
  },
  {
   "cell_type": "markdown",
   "metadata": {},
   "source": [
    "## Import Libraries"
   ]
  },
  {
   "cell_type": "code",
   "execution_count": 1,
   "metadata": {
    "collapsed": false
   },
   "outputs": [],
   "source": [
    "import numpy as np\n",
    "import pandas as pd"
   ]
  },
  {
   "cell_type": "markdown",
   "metadata": {},
   "source": [
    "#### Helpers"
   ]
  },
  {
   "cell_type": "code",
   "execution_count": 2,
   "metadata": {
    "collapsed": false
   },
   "outputs": [],
   "source": [
    "from utils import *\n",
    "from preprocessing import *\n",
    "from plots import *"
   ]
  },
  {
   "cell_type": "markdown",
   "metadata": {},
   "source": [
    "#### Data Preprocessing"
   ]
  },
  {
   "cell_type": "code",
   "execution_count": 3,
   "metadata": {
    "collapsed": true
   },
   "outputs": [],
   "source": [
    "from nltk.probability import FreqDist\n",
    "from nltk.corpus import stopwords"
   ]
  },
  {
   "cell_type": "markdown",
   "metadata": {},
   "source": [
    "#### Feature Extraction"
   ]
  },
  {
   "cell_type": "code",
   "execution_count": 4,
   "metadata": {
    "collapsed": true
   },
   "outputs": [],
   "source": [
    "from sklearn.feature_extraction.text import TfidfVectorizer\n",
    "from sklearn.feature_extraction.text import CountVectorizer\n",
    "from sklearn.feature_extraction import text\n",
    "from sklearn.metrics import classification_report\n",
    "from sklearn.metrics import accuracy_score\n",
    "\n",
    "from sklearn.model_selection import train_test_split"
   ]
  },
  {
   "cell_type": "markdown",
   "metadata": {},
   "source": [
    "#### Cross validation"
   ]
  },
  {
   "cell_type": "code",
   "execution_count": 5,
   "metadata": {
    "collapsed": false
   },
   "outputs": [
    {
     "name": "stderr",
     "output_type": "stream",
     "text": [
      "/home/sarigian/miniconda3/lib/python3.5/site-packages/sklearn/cross_validation.py:44: DeprecationWarning: This module was deprecated in version 0.18 in favor of the model_selection module into which all the refactored classes and functions are moved. Also note that the interface of the new CV iterators are different from that of this module. This module will be removed in 0.20.\n",
      "  \"This module will be removed in 0.20.\", DeprecationWarning)\n"
     ]
    }
   ],
   "source": [
    "from sklearn.cross_validation import cross_val_score\n",
    "from sklearn.cross_validation import KFold as cross_validation_KFold\n",
    "\n",
    "from sklearn.model_selection import learning_curve"
   ]
  },
  {
   "cell_type": "markdown",
   "metadata": {},
   "source": [
    "#### Machine Learning"
   ]
  },
  {
   "cell_type": "code",
   "execution_count": 6,
   "metadata": {
    "collapsed": true
   },
   "outputs": [],
   "source": [
    "from sklearn.naive_bayes import MultinomialNB, GaussianNB, BernoulliNB\n",
    "from sklearn import svm"
   ]
  },
  {
   "cell_type": "markdown",
   "metadata": {},
   "source": [
    "#### Options"
   ]
  },
  {
   "cell_type": "code",
   "execution_count": 7,
   "metadata": {
    "collapsed": true
   },
   "outputs": [],
   "source": [
    "pd.options.mode.chained_assignment = None"
   ]
  },
  {
   "cell_type": "markdown",
   "metadata": {},
   "source": [
    "## Load Data"
   ]
  },
  {
   "cell_type": "code",
   "execution_count": 8,
   "metadata": {
    "collapsed": false
   },
   "outputs": [],
   "source": [
    "data_path = '../data/'\n",
    "pos_tweets_file = 'train_pos_full.txt'\n",
    "neg_tweets_file = 'train_neg_full.txt'\n",
    "test_tweets_file = 'test_data.txt'"
   ]
  },
  {
   "cell_type": "markdown",
   "metadata": {},
   "source": [
    "### Train Data"
   ]
  },
  {
   "cell_type": "code",
   "execution_count": 9,
   "metadata": {
    "collapsed": false
   },
   "outputs": [
    {
     "name": "stderr",
     "output_type": "stream",
     "text": [
      "/home/sarigian/.local/lib/python3.5/site-packages/IPython/core/interactiveshell.py:2717: DtypeWarning: Columns (1) have mixed types. Specify dtype option on import or set low_memory=False.\n",
      "  interactivity=interactivity, compiler=compiler, result=result)\n"
     ]
    }
   ],
   "source": [
    "pos_tweets = pd.read_table(data_path+pos_tweets_file, names=['tweet','sentiment'])\n",
    "pos_tweets['sentiment'] = 'pos'\n",
    "neg_tweets = pd.read_table(data_path+neg_tweets_file ,names=['tweet','sentiment'])\n",
    "neg_tweets['sentiment'] = 'neg'"
   ]
  },
  {
   "cell_type": "code",
   "execution_count": 10,
   "metadata": {
    "collapsed": false
   },
   "outputs": [
    {
     "data": {
      "text/html": [
       "<div>\n",
       "<table border=\"1\" class=\"dataframe\">\n",
       "  <thead>\n",
       "    <tr style=\"text-align: right;\">\n",
       "      <th></th>\n",
       "      <th>tweet</th>\n",
       "      <th>sentiment</th>\n",
       "    </tr>\n",
       "  </thead>\n",
       "  <tbody>\n",
       "    <tr>\n",
       "      <th>0</th>\n",
       "      <td>&lt;user&gt; i dunno justin read my mention or not ....</td>\n",
       "      <td>pos</td>\n",
       "    </tr>\n",
       "    <tr>\n",
       "      <th>1</th>\n",
       "      <td>because your logic is so dumb , i won't even c...</td>\n",
       "      <td>pos</td>\n",
       "    </tr>\n",
       "    <tr>\n",
       "      <th>2</th>\n",
       "      <td>&lt;user&gt; just put casper in a box !  looved the...</td>\n",
       "      <td>pos</td>\n",
       "    </tr>\n",
       "    <tr>\n",
       "      <th>3</th>\n",
       "      <td>&lt;user&gt; &lt;user&gt; thanks sir &gt; &gt; don't trip lil ma...</td>\n",
       "      <td>pos</td>\n",
       "    </tr>\n",
       "    <tr>\n",
       "      <th>4</th>\n",
       "      <td>visiting my brother tmr is the bestest birthda...</td>\n",
       "      <td>pos</td>\n",
       "    </tr>\n",
       "  </tbody>\n",
       "</table>\n",
       "</div>"
      ],
      "text/plain": [
       "                                               tweet sentiment\n",
       "0  <user> i dunno justin read my mention or not ....       pos\n",
       "1  because your logic is so dumb , i won't even c...       pos\n",
       "2   <user> just put casper in a box !  looved the...       pos\n",
       "3  <user> <user> thanks sir > > don't trip lil ma...       pos\n",
       "4  visiting my brother tmr is the bestest birthda...       pos"
      ]
     },
     "execution_count": 10,
     "metadata": {},
     "output_type": "execute_result"
    }
   ],
   "source": [
    "pos_tweets.head()"
   ]
  },
  {
   "cell_type": "code",
   "execution_count": 11,
   "metadata": {
    "collapsed": false
   },
   "outputs": [
    {
     "data": {
      "text/html": [
       "<div>\n",
       "<table border=\"1\" class=\"dataframe\">\n",
       "  <thead>\n",
       "    <tr style=\"text-align: right;\">\n",
       "      <th></th>\n",
       "      <th>tweet</th>\n",
       "      <th>sentiment</th>\n",
       "    </tr>\n",
       "  </thead>\n",
       "  <tbody>\n",
       "    <tr>\n",
       "      <th>0</th>\n",
       "      <td>vinco tresorpack 6 ( difficulty 10 of 10 objec...</td>\n",
       "      <td>neg</td>\n",
       "    </tr>\n",
       "    <tr>\n",
       "      <th>1</th>\n",
       "      <td>glad i dot have taks tomorrow ! ! #thankful #s...</td>\n",
       "      <td>neg</td>\n",
       "    </tr>\n",
       "    <tr>\n",
       "      <th>2</th>\n",
       "      <td>1-3 vs celtics in the regular season = were fu...</td>\n",
       "      <td>neg</td>\n",
       "    </tr>\n",
       "    <tr>\n",
       "      <th>3</th>\n",
       "      <td>&lt;user&gt; i could actually kill that girl i'm so ...</td>\n",
       "      <td>neg</td>\n",
       "    </tr>\n",
       "    <tr>\n",
       "      <th>4</th>\n",
       "      <td>&lt;user&gt; &lt;user&gt; &lt;user&gt; i find that very hard to ...</td>\n",
       "      <td>neg</td>\n",
       "    </tr>\n",
       "  </tbody>\n",
       "</table>\n",
       "</div>"
      ],
      "text/plain": [
       "                                               tweet sentiment\n",
       "0  vinco tresorpack 6 ( difficulty 10 of 10 objec...       neg\n",
       "1  glad i dot have taks tomorrow ! ! #thankful #s...       neg\n",
       "2  1-3 vs celtics in the regular season = were fu...       neg\n",
       "3  <user> i could actually kill that girl i'm so ...       neg\n",
       "4  <user> <user> <user> i find that very hard to ...       neg"
      ]
     },
     "execution_count": 11,
     "metadata": {},
     "output_type": "execute_result"
    }
   ],
   "source": [
    "neg_tweets.head()"
   ]
  },
  {
   "cell_type": "code",
   "execution_count": 12,
   "metadata": {
    "collapsed": false
   },
   "outputs": [
    {
     "name": "stdout",
     "output_type": "stream",
     "text": [
      "positive tweets shape:  (1218655, 2)\n",
      "negative tweets shape:  (1239642, 2)\n"
     ]
    }
   ],
   "source": [
    "print('positive tweets shape: ',pos_tweets.shape)\n",
    "print('negative tweets shape: ',neg_tweets.shape)"
   ]
  },
  {
   "cell_type": "code",
   "execution_count": 13,
   "metadata": {
    "collapsed": false
   },
   "outputs": [
    {
     "data": {
      "text/plain": [
       "(2458297, 2)"
      ]
     },
     "execution_count": 13,
     "metadata": {},
     "output_type": "execute_result"
    }
   ],
   "source": [
    "tweets = pd.concat([pos_tweets, neg_tweets], axis=0)\n",
    "tweets.shape"
   ]
  },
  {
   "cell_type": "code",
   "execution_count": 14,
   "metadata": {
    "collapsed": false
   },
   "outputs": [
    {
     "data": {
      "text/html": [
       "<div>\n",
       "<table border=\"1\" class=\"dataframe\">\n",
       "  <thead>\n",
       "    <tr style=\"text-align: right;\">\n",
       "      <th></th>\n",
       "      <th>tweet</th>\n",
       "      <th>sentiment</th>\n",
       "    </tr>\n",
       "  </thead>\n",
       "  <tbody>\n",
       "    <tr>\n",
       "      <th>0</th>\n",
       "      <td>&lt;user&gt; i dunno justin read my mention or not ....</td>\n",
       "      <td>pos</td>\n",
       "    </tr>\n",
       "    <tr>\n",
       "      <th>1</th>\n",
       "      <td>because your logic is so dumb , i won't even c...</td>\n",
       "      <td>pos</td>\n",
       "    </tr>\n",
       "    <tr>\n",
       "      <th>2</th>\n",
       "      <td>&lt;user&gt; just put casper in a box !  looved the...</td>\n",
       "      <td>pos</td>\n",
       "    </tr>\n",
       "    <tr>\n",
       "      <th>3</th>\n",
       "      <td>&lt;user&gt; &lt;user&gt; thanks sir &gt; &gt; don't trip lil ma...</td>\n",
       "      <td>pos</td>\n",
       "    </tr>\n",
       "    <tr>\n",
       "      <th>4</th>\n",
       "      <td>visiting my brother tmr is the bestest birthda...</td>\n",
       "      <td>pos</td>\n",
       "    </tr>\n",
       "  </tbody>\n",
       "</table>\n",
       "</div>"
      ],
      "text/plain": [
       "                                               tweet sentiment\n",
       "0  <user> i dunno justin read my mention or not ....       pos\n",
       "1  because your logic is so dumb , i won't even c...       pos\n",
       "2   <user> just put casper in a box !  looved the...       pos\n",
       "3  <user> <user> thanks sir > > don't trip lil ma...       pos\n",
       "4  visiting my brother tmr is the bestest birthda...       pos"
      ]
     },
     "execution_count": 14,
     "metadata": {},
     "output_type": "execute_result"
    }
   ],
   "source": [
    "tweets.head()"
   ]
  },
  {
   "cell_type": "code",
   "execution_count": 15,
   "metadata": {
    "collapsed": false
   },
   "outputs": [
    {
     "data": {
      "text/html": [
       "<div>\n",
       "<table border=\"1\" class=\"dataframe\">\n",
       "  <thead>\n",
       "    <tr style=\"text-align: right;\">\n",
       "      <th></th>\n",
       "      <th>tweet</th>\n",
       "      <th>sentiment</th>\n",
       "    </tr>\n",
       "  </thead>\n",
       "  <tbody>\n",
       "    <tr>\n",
       "      <th>1239637</th>\n",
       "      <td>im so sorry ! &lt;user&gt; &amp; to &lt;user&gt; &amp; &lt;user&gt; u gu...</td>\n",
       "      <td>neg</td>\n",
       "    </tr>\n",
       "    <tr>\n",
       "      <th>1239638</th>\n",
       "      <td>i can't find food coloring anywhere</td>\n",
       "      <td>neg</td>\n",
       "    </tr>\n",
       "    <tr>\n",
       "      <th>1239639</th>\n",
       "      <td>&lt;user&gt; same here ! ! but tort ! ! wonder why y...</td>\n",
       "      <td>neg</td>\n",
       "    </tr>\n",
       "    <tr>\n",
       "      <th>1239640</th>\n",
       "      <td>keyless entry remote fob clicker for 2005 buic...</td>\n",
       "      <td>neg</td>\n",
       "    </tr>\n",
       "    <tr>\n",
       "      <th>1239641</th>\n",
       "      <td>&lt;user&gt; yeap . doctor don't know what's wrong w...</td>\n",
       "      <td>neg</td>\n",
       "    </tr>\n",
       "  </tbody>\n",
       "</table>\n",
       "</div>"
      ],
      "text/plain": [
       "                                                     tweet sentiment\n",
       "1239637  im so sorry ! <user> & to <user> & <user> u gu...       neg\n",
       "1239638                i can't find food coloring anywhere       neg\n",
       "1239639  <user> same here ! ! but tort ! ! wonder why y...       neg\n",
       "1239640  keyless entry remote fob clicker for 2005 buic...       neg\n",
       "1239641  <user> yeap . doctor don't know what's wrong w...       neg"
      ]
     },
     "execution_count": 15,
     "metadata": {},
     "output_type": "execute_result"
    }
   ],
   "source": [
    "tweets.tail()"
   ]
  },
  {
   "cell_type": "markdown",
   "metadata": {},
   "source": [
    "### Test Data"
   ]
  },
  {
   "cell_type": "code",
   "execution_count": 16,
   "metadata": {
    "collapsed": false
   },
   "outputs": [
    {
     "data": {
      "text/html": [
       "<div>\n",
       "<table border=\"1\" class=\"dataframe\">\n",
       "  <thead>\n",
       "    <tr style=\"text-align: right;\">\n",
       "      <th></th>\n",
       "      <th>tweet</th>\n",
       "      <th>sentiment</th>\n",
       "    </tr>\n",
       "  </thead>\n",
       "  <tbody>\n",
       "    <tr>\n",
       "      <th>0</th>\n",
       "      <td>sea doo pro sea scooter ( sports with the port...</td>\n",
       "      <td>NaN</td>\n",
       "    </tr>\n",
       "    <tr>\n",
       "      <th>1</th>\n",
       "      <td>&lt;user&gt; shucks well i work all week so now i ca...</td>\n",
       "      <td>NaN</td>\n",
       "    </tr>\n",
       "    <tr>\n",
       "      <th>2</th>\n",
       "      <td>i cant stay away from bug thats my baby</td>\n",
       "      <td>NaN</td>\n",
       "    </tr>\n",
       "    <tr>\n",
       "      <th>3</th>\n",
       "      <td>&lt;user&gt; no ma'am ! ! ! lol im perfectly fine an...</td>\n",
       "      <td>NaN</td>\n",
       "    </tr>\n",
       "    <tr>\n",
       "      <th>4</th>\n",
       "      <td>whenever i fall asleep watching the tv , i alw...</td>\n",
       "      <td>NaN</td>\n",
       "    </tr>\n",
       "  </tbody>\n",
       "</table>\n",
       "</div>"
      ],
      "text/plain": [
       "                                               tweet  sentiment\n",
       "0  sea doo pro sea scooter ( sports with the port...        NaN\n",
       "1  <user> shucks well i work all week so now i ca...        NaN\n",
       "2            i cant stay away from bug thats my baby        NaN\n",
       "3  <user> no ma'am ! ! ! lol im perfectly fine an...        NaN\n",
       "4  whenever i fall asleep watching the tv , i alw...        NaN"
      ]
     },
     "execution_count": 16,
     "metadata": {},
     "output_type": "execute_result"
    }
   ],
   "source": [
    "test_tweets = pd.read_table(data_path+test_tweets_file, names=['tweet','sentiment'])\n",
    "test_tweets['tweet'] = test_tweets.apply(lambda tweet: remove_tweet_id(tweet['tweet']), axis=1)\n",
    "test_tweets.head()"
   ]
  },
  {
   "cell_type": "markdown",
   "metadata": {},
   "source": [
    "## Tweets Preprocessing"
   ]
  },
  {
   "cell_type": "markdown",
   "metadata": {},
   "source": [
    "### Remove Duplicate Tweets"
   ]
  },
  {
   "cell_type": "markdown",
   "metadata": {},
   "source": [
    "Duplicates are removed to avoid putting extra weight on any particular tweet."
   ]
  },
  {
   "cell_type": "code",
   "execution_count": 17,
   "metadata": {
    "collapsed": false
   },
   "outputs": [
    {
     "name": "stdout",
     "output_type": "stream",
     "text": [
      "number of tweets before duplicates removal:\t 2458297\n",
      "number of tweets after duplicates removal:\t 2230333\n"
     ]
    }
   ],
   "source": [
    "print('number of tweets before duplicates removal:\\t', tweets.shape[0])\n",
    "tweets.drop_duplicates(subset='tweet', inplace=True)\n",
    "print('number of tweets after duplicates removal:\\t', tweets.shape[0])"
   ]
  },
  {
   "cell_type": "markdown",
   "metadata": {},
   "source": [
    "### Fix repeated letters"
   ]
  },
  {
   "cell_type": "markdown",
   "metadata": {},
   "source": [
    "We use preprocessing so that any letter occurring more than two times in a row is replaced with two occurrences.\n",
    "As an example, the words haaaaaaaaappy and haaaaappy should be converted to haappy"
   ]
  },
  {
   "cell_type": "code",
   "execution_count": 18,
   "metadata": {
    "collapsed": false
   },
   "outputs": [],
   "source": [
    "tweets['tweet'] = tweets.apply(lambda tweet: filter_repeated_chars_on_tweet(tweet['tweet']), axis=1)"
   ]
  },
  {
   "cell_type": "markdown",
   "metadata": {},
   "source": [
    "### Convert all tweets to lowercase"
   ]
  },
  {
   "cell_type": "code",
   "execution_count": 19,
   "metadata": {
    "collapsed": false
   },
   "outputs": [],
   "source": [
    "# done by default\n",
    "# tweets['tweet'] = convert_to_lowercase(tweets['tweet'])"
   ]
  },
  {
   "cell_type": "markdown",
   "metadata": {},
   "source": [
    "### Filter Punctuation"
   ]
  },
  {
   "cell_type": "code",
   "execution_count": 20,
   "metadata": {
    "collapsed": true
   },
   "outputs": [],
   "source": [
    "# done by default from vectorizer?"
   ]
  },
  {
   "cell_type": "markdown",
   "metadata": {},
   "source": [
    "### filter Stopwords"
   ]
  },
  {
   "cell_type": "code",
   "execution_count": 21,
   "metadata": {
    "collapsed": false
   },
   "outputs": [],
   "source": [
    "stoplist = stopwords.words('english')\n",
    "fdist = FreqDist(stoplist)\n",
    "top = fdist.most_common(1000)\n",
    "top = [x[0] for x in top] \n",
    "\n",
    "stop_words = set(top)\n",
    "my_stop_words = text.ENGLISH_STOP_WORDS.union(stop_words)"
   ]
  },
  {
   "cell_type": "markdown",
   "metadata": {},
   "source": [
    "### Part of speech tagging"
   ]
  },
  {
   "cell_type": "code",
   "execution_count": 22,
   "metadata": {
    "collapsed": true
   },
   "outputs": [],
   "source": [
    "# tweets['tagged'] = tweets.apply(lambda tweet: pos_tag(tweet['tweet']), axis=1)"
   ]
  },
  {
   "cell_type": "markdown",
   "metadata": {},
   "source": [
    "### Lemmatization/Stemming"
   ]
  },
  {
   "cell_type": "code",
   "execution_count": null,
   "metadata": {
    "collapsed": true
   },
   "outputs": [],
   "source": []
  },
  {
   "cell_type": "markdown",
   "metadata": {},
   "source": [
    "### Tweets final representation"
   ]
  },
  {
   "cell_type": "code",
   "execution_count": 23,
   "metadata": {
    "collapsed": false
   },
   "outputs": [
    {
     "data": {
      "text/html": [
       "<div>\n",
       "<table border=\"1\" class=\"dataframe\">\n",
       "  <thead>\n",
       "    <tr style=\"text-align: right;\">\n",
       "      <th></th>\n",
       "      <th>tweet</th>\n",
       "      <th>sentiment</th>\n",
       "    </tr>\n",
       "  </thead>\n",
       "  <tbody>\n",
       "    <tr>\n",
       "      <th>0</th>\n",
       "      <td>&lt;user&gt; i dunno justin read my mention or not ....</td>\n",
       "      <td>pos</td>\n",
       "    </tr>\n",
       "    <tr>\n",
       "      <th>1</th>\n",
       "      <td>because your logic is so dumb , i won't even c...</td>\n",
       "      <td>pos</td>\n",
       "    </tr>\n",
       "    <tr>\n",
       "      <th>2</th>\n",
       "      <td>&lt;user&gt; just put casper in a box !  looved the...</td>\n",
       "      <td>pos</td>\n",
       "    </tr>\n",
       "    <tr>\n",
       "      <th>3</th>\n",
       "      <td>&lt;user&gt; &lt;user&gt; thanks sir &gt; &gt; don't trip lil ma...</td>\n",
       "      <td>pos</td>\n",
       "    </tr>\n",
       "    <tr>\n",
       "      <th>4</th>\n",
       "      <td>visiting my brother tmr is the bestest birthda...</td>\n",
       "      <td>pos</td>\n",
       "    </tr>\n",
       "    <tr>\n",
       "      <th>5</th>\n",
       "      <td>&lt;user&gt; yay ! ! #lifecompleted . tweet / facebo...</td>\n",
       "      <td>pos</td>\n",
       "    </tr>\n",
       "    <tr>\n",
       "      <th>6</th>\n",
       "      <td>&lt;user&gt; #1dnextalbumtitle : feel for you / roll...</td>\n",
       "      <td>pos</td>\n",
       "    </tr>\n",
       "    <tr>\n",
       "      <th>7</th>\n",
       "      <td>workin hard or hardly workin rt &lt;user&gt; at hard...</td>\n",
       "      <td>pos</td>\n",
       "    </tr>\n",
       "    <tr>\n",
       "      <th>8</th>\n",
       "      <td>&lt;user&gt; i saw . i'll be replying in a bit .</td>\n",
       "      <td>pos</td>\n",
       "    </tr>\n",
       "    <tr>\n",
       "      <th>9</th>\n",
       "      <td>this is were i belong</td>\n",
       "      <td>pos</td>\n",
       "    </tr>\n",
       "    <tr>\n",
       "      <th>10</th>\n",
       "      <td>&lt;user&gt; andd to cheer #nationals2013 ?</td>\n",
       "      <td>pos</td>\n",
       "    </tr>\n",
       "    <tr>\n",
       "      <th>11</th>\n",
       "      <td>we send an invitation to shop on-line ! here y...</td>\n",
       "      <td>pos</td>\n",
       "    </tr>\n",
       "    <tr>\n",
       "      <th>12</th>\n",
       "      <td>just woke up , finna go to church</td>\n",
       "      <td>pos</td>\n",
       "    </tr>\n",
       "    <tr>\n",
       "      <th>13</th>\n",
       "      <td>&lt;user&gt; agreed ! 12 more days left tho</td>\n",
       "      <td>pos</td>\n",
       "    </tr>\n",
       "    <tr>\n",
       "      <th>14</th>\n",
       "      <td>monet with katemelo</td>\n",
       "      <td>pos</td>\n",
       "    </tr>\n",
       "    <tr>\n",
       "      <th>15</th>\n",
       "      <td>like damm &lt;user&gt; lexis u got a lot to say when...</td>\n",
       "      <td>pos</td>\n",
       "    </tr>\n",
       "    <tr>\n",
       "      <th>16</th>\n",
       "      <td>grateful today for a dream fulfilled ! ! my he...</td>\n",
       "      <td>pos</td>\n",
       "    </tr>\n",
       "    <tr>\n",
       "      <th>17</th>\n",
       "      <td>&lt;user&gt; at home affairs shall do it later</td>\n",
       "      <td>pos</td>\n",
       "    </tr>\n",
       "    <tr>\n",
       "      <th>18</th>\n",
       "      <td>barca bout to beat real madrid on saturday doe</td>\n",
       "      <td>pos</td>\n",
       "    </tr>\n",
       "    <tr>\n",
       "      <th>19</th>\n",
       "      <td>&lt;user&gt; a lot of parts of asia . especially rat...</td>\n",
       "      <td>pos</td>\n",
       "    </tr>\n",
       "    <tr>\n",
       "      <th>20</th>\n",
       "      <td>&lt;user&gt; &lt;user&gt; i wasn't even sleeping . so shut...</td>\n",
       "      <td>pos</td>\n",
       "    </tr>\n",
       "    <tr>\n",
       "      <th>21</th>\n",
       "      <td>i have the worlds best dad . &lt;3</td>\n",
       "      <td>pos</td>\n",
       "    </tr>\n",
       "    <tr>\n",
       "      <th>22</th>\n",
       "      <td>&lt;user&gt; &lt;user&gt; ab jaeyay werna meeting khatam h...</td>\n",
       "      <td>pos</td>\n",
       "    </tr>\n",
       "    <tr>\n",
       "      <th>23</th>\n",
       "      <td>&lt;user&gt; no one doubts that ability !</td>\n",
       "      <td>pos</td>\n",
       "    </tr>\n",
       "    <tr>\n",
       "      <th>24</th>\n",
       "      <td>&lt;user&gt; check my tweet pic out . that was the o...</td>\n",
       "      <td>pos</td>\n",
       "    </tr>\n",
       "    <tr>\n",
       "      <th>25</th>\n",
       "      <td>just got my mid-term and i'm impressed ! ! #happy</td>\n",
       "      <td>pos</td>\n",
       "    </tr>\n",
       "    <tr>\n",
       "      <th>26</th>\n",
       "      <td>my summer days : 1 . ) work from 10:30- 2:30 i...</td>\n",
       "      <td>pos</td>\n",
       "    </tr>\n",
       "    <tr>\n",
       "      <th>27</th>\n",
       "      <td>&lt;user&gt; lol noo .. food is ur friend</td>\n",
       "      <td>pos</td>\n",
       "    </tr>\n",
       "    <tr>\n",
       "      <th>28</th>\n",
       "      <td>&lt;user&gt; #16millionbritneyfan rt and tweet</td>\n",
       "      <td>pos</td>\n",
       "    </tr>\n",
       "    <tr>\n",
       "      <th>29</th>\n",
       "      <td>&lt;user&gt; but seriously though .. it's called van...</td>\n",
       "      <td>pos</td>\n",
       "    </tr>\n",
       "    <tr>\n",
       "      <th>...</th>\n",
       "      <td>...</td>\n",
       "      <td>...</td>\n",
       "    </tr>\n",
       "    <tr>\n",
       "      <th>1239612</th>\n",
       "      <td>need to go to the library but sounds like hell...</td>\n",
       "      <td>neg</td>\n",
       "    </tr>\n",
       "    <tr>\n",
       "      <th>1239613</th>\n",
       "      <td>&lt;user&gt; miss you lil sis . you just left me all...</td>\n",
       "      <td>neg</td>\n",
       "    </tr>\n",
       "    <tr>\n",
       "      <th>1239614</th>\n",
       "      <td>silver alert issued for elderly leesburg man (...</td>\n",
       "      <td>neg</td>\n",
       "    </tr>\n",
       "    <tr>\n",
       "      <th>1239615</th>\n",
       "      <td>just finished the game . leg hurts like crap</td>\n",
       "      <td>neg</td>\n",
       "    </tr>\n",
       "    <tr>\n",
       "      <th>1239616</th>\n",
       "      <td>i waant this jeep so bad &lt;url&gt;</td>\n",
       "      <td>neg</td>\n",
       "    </tr>\n",
       "    <tr>\n",
       "      <th>1239617</th>\n",
       "      <td>so sad my phone cannot download twitter ahh</td>\n",
       "      <td>neg</td>\n",
       "    </tr>\n",
       "    <tr>\n",
       "      <th>1239618</th>\n",
       "      <td>i have a mother 2 remember \" &lt;user&gt; &lt;user&gt; she...</td>\n",
       "      <td>neg</td>\n",
       "    </tr>\n",
       "    <tr>\n",
       "      <th>1239619</th>\n",
       "      <td>extremal combinatorics : with applications in ...</td>\n",
       "      <td>neg</td>\n",
       "    </tr>\n",
       "    <tr>\n",
       "      <th>1239620</th>\n",
       "      <td>african presence in early america ( paperback ...</td>\n",
       "      <td>neg</td>\n",
       "    </tr>\n",
       "    <tr>\n",
       "      <th>1239621</th>\n",
       "      <td>i'm really sad about charlotte though . she ha...</td>\n",
       "      <td>neg</td>\n",
       "    </tr>\n",
       "    <tr>\n",
       "      <th>1239622</th>\n",
       "      <td>didn't know keeping fit was so difficult ! str...</td>\n",
       "      <td>neg</td>\n",
       "    </tr>\n",
       "    <tr>\n",
       "      <th>1239623</th>\n",
       "      <td>&lt;user&gt; dont know yet al let you know ! am knac...</td>\n",
       "      <td>neg</td>\n",
       "    </tr>\n",
       "    <tr>\n",
       "      <th>1239624</th>\n",
       "      <td>i wish that i had vip</td>\n",
       "      <td>neg</td>\n",
       "    </tr>\n",
       "    <tr>\n",
       "      <th>1239625</th>\n",
       "      <td>so sad so dang lonely .. i guess my best isn't...</td>\n",
       "      <td>neg</td>\n",
       "    </tr>\n",
       "    <tr>\n",
       "      <th>1239626</th>\n",
       "      <td>&lt;user&gt; ohh im sure it'll be on youtube !</td>\n",
       "      <td>neg</td>\n",
       "    </tr>\n",
       "    <tr>\n",
       "      <th>1239627</th>\n",
       "      <td>tomarrow we would have to do the \" impossible ...</td>\n",
       "      <td>neg</td>\n",
       "    </tr>\n",
       "    <tr>\n",
       "      <th>1239628</th>\n",
       "      <td>&lt;user&gt; hell yeah and my.phone is huge it hurt ...</td>\n",
       "      <td>neg</td>\n",
       "    </tr>\n",
       "    <tr>\n",
       "      <th>1239629</th>\n",
       "      <td>&lt;user&gt; i really wish i could be in london now ...</td>\n",
       "      <td>neg</td>\n",
       "    </tr>\n",
       "    <tr>\n",
       "      <th>1239630</th>\n",
       "      <td>&lt;user&gt; i know , i can't help it though - i've ...</td>\n",
       "      <td>neg</td>\n",
       "    </tr>\n",
       "    <tr>\n",
       "      <th>1239631</th>\n",
       "      <td>&lt;user&gt; not funny , but i guess its better than...</td>\n",
       "      <td>neg</td>\n",
       "    </tr>\n",
       "    <tr>\n",
       "      <th>1239632</th>\n",
       "      <td>my abs are soo sore . that's what i get for tr...</td>\n",
       "      <td>neg</td>\n",
       "    </tr>\n",
       "    <tr>\n",
       "      <th>1239633</th>\n",
       "      <td>market sellers \" &lt;user&gt; wah movie ? \" &lt;user&gt; l...</td>\n",
       "      <td>neg</td>\n",
       "    </tr>\n",
       "    <tr>\n",
       "      <th>1239634</th>\n",
       "      <td>&lt;user&gt; let's go there &lt;user&gt;</td>\n",
       "      <td>neg</td>\n",
       "    </tr>\n",
       "    <tr>\n",
       "      <th>1239635</th>\n",
       "      <td>&lt;user&gt; haarryy seriously , when are you follow...</td>\n",
       "      <td>neg</td>\n",
       "    </tr>\n",
       "    <tr>\n",
       "      <th>1239636</th>\n",
       "      <td>st . croix avid casting rods model : avc 70mf ...</td>\n",
       "      <td>neg</td>\n",
       "    </tr>\n",
       "    <tr>\n",
       "      <th>1239637</th>\n",
       "      <td>im so sorry ! &lt;user&gt; &amp; to &lt;user&gt; &amp; &lt;user&gt; u gu...</td>\n",
       "      <td>neg</td>\n",
       "    </tr>\n",
       "    <tr>\n",
       "      <th>1239638</th>\n",
       "      <td>i can't find food coloring anywhere</td>\n",
       "      <td>neg</td>\n",
       "    </tr>\n",
       "    <tr>\n",
       "      <th>1239639</th>\n",
       "      <td>&lt;user&gt; same here ! ! but tort ! ! wonder why y...</td>\n",
       "      <td>neg</td>\n",
       "    </tr>\n",
       "    <tr>\n",
       "      <th>1239640</th>\n",
       "      <td>keyless entry remote fob clicker for 2005 buic...</td>\n",
       "      <td>neg</td>\n",
       "    </tr>\n",
       "    <tr>\n",
       "      <th>1239641</th>\n",
       "      <td>&lt;user&gt; yeap . doctor don't know what's wrong w...</td>\n",
       "      <td>neg</td>\n",
       "    </tr>\n",
       "  </tbody>\n",
       "</table>\n",
       "<p>2230333 rows × 2 columns</p>\n",
       "</div>"
      ],
      "text/plain": [
       "                                                     tweet sentiment\n",
       "0        <user> i dunno justin read my mention or not ....       pos\n",
       "1        because your logic is so dumb , i won't even c...       pos\n",
       "2         <user> just put casper in a box !  looved the...       pos\n",
       "3        <user> <user> thanks sir > > don't trip lil ma...       pos\n",
       "4        visiting my brother tmr is the bestest birthda...       pos\n",
       "5        <user> yay ! ! #lifecompleted . tweet / facebo...       pos\n",
       "6        <user> #1dnextalbumtitle : feel for you / roll...       pos\n",
       "7        workin hard or hardly workin rt <user> at hard...       pos\n",
       "8               <user> i saw . i'll be replying in a bit .       pos\n",
       "9                                    this is were i belong       pos\n",
       "10                   <user> andd to cheer #nationals2013 ?       pos\n",
       "11       we send an invitation to shop on-line ! here y...       pos\n",
       "12                       just woke up , finna go to church       pos\n",
       "13                   <user> agreed ! 12 more days left tho       pos\n",
       "14                                     monet with katemelo       pos\n",
       "15       like damm <user> lexis u got a lot to say when...       pos\n",
       "16       grateful today for a dream fulfilled ! ! my he...       pos\n",
       "17                <user> at home affairs shall do it later       pos\n",
       "18          barca bout to beat real madrid on saturday doe       pos\n",
       "19       <user> a lot of parts of asia . especially rat...       pos\n",
       "20       <user> <user> i wasn't even sleeping . so shut...       pos\n",
       "21                         i have the worlds best dad . <3       pos\n",
       "22       <user> <user> ab jaeyay werna meeting khatam h...       pos\n",
       "23                     <user> no one doubts that ability !       pos\n",
       "24       <user> check my tweet pic out . that was the o...       pos\n",
       "25       just got my mid-term and i'm impressed ! ! #happy       pos\n",
       "26       my summer days : 1 . ) work from 10:30- 2:30 i...       pos\n",
       "27                     <user> lol noo .. food is ur friend       pos\n",
       "28                <user> #16millionbritneyfan rt and tweet       pos\n",
       "29       <user> but seriously though .. it's called van...       pos\n",
       "...                                                    ...       ...\n",
       "1239612  need to go to the library but sounds like hell...       neg\n",
       "1239613  <user> miss you lil sis . you just left me all...       neg\n",
       "1239614  silver alert issued for elderly leesburg man (...       neg\n",
       "1239615       just finished the game . leg hurts like crap       neg\n",
       "1239616                     i waant this jeep so bad <url>       neg\n",
       "1239617        so sad my phone cannot download twitter ahh       neg\n",
       "1239618  i have a mother 2 remember \" <user> <user> she...       neg\n",
       "1239619  extremal combinatorics : with applications in ...       neg\n",
       "1239620  african presence in early america ( paperback ...       neg\n",
       "1239621  i'm really sad about charlotte though . she ha...       neg\n",
       "1239622  didn't know keeping fit was so difficult ! str...       neg\n",
       "1239623  <user> dont know yet al let you know ! am knac...       neg\n",
       "1239624                              i wish that i had vip       neg\n",
       "1239625  so sad so dang lonely .. i guess my best isn't...       neg\n",
       "1239626           <user> ohh im sure it'll be on youtube !       neg\n",
       "1239627  tomarrow we would have to do the \" impossible ...       neg\n",
       "1239628  <user> hell yeah and my.phone is huge it hurt ...       neg\n",
       "1239629  <user> i really wish i could be in london now ...       neg\n",
       "1239630  <user> i know , i can't help it though - i've ...       neg\n",
       "1239631  <user> not funny , but i guess its better than...       neg\n",
       "1239632  my abs are soo sore . that's what i get for tr...       neg\n",
       "1239633  market sellers \" <user> wah movie ? \" <user> l...       neg\n",
       "1239634                       <user> let's go there <user>       neg\n",
       "1239635  <user> haarryy seriously , when are you follow...       neg\n",
       "1239636  st . croix avid casting rods model : avc 70mf ...       neg\n",
       "1239637  im so sorry ! <user> & to <user> & <user> u gu...       neg\n",
       "1239638                i can't find food coloring anywhere       neg\n",
       "1239639  <user> same here ! ! but tort ! ! wonder why y...       neg\n",
       "1239640  keyless entry remote fob clicker for 2005 buic...       neg\n",
       "1239641  <user> yeap . doctor don't know what's wrong w...       neg\n",
       "\n",
       "[2230333 rows x 2 columns]"
      ]
     },
     "execution_count": 23,
     "metadata": {},
     "output_type": "execute_result"
    }
   ],
   "source": [
    "tweets"
   ]
  },
  {
   "cell_type": "markdown",
   "metadata": {},
   "source": [
    "## Feature Extraction"
   ]
  },
  {
   "cell_type": "code",
   "execution_count": 24,
   "metadata": {
    "collapsed": false
   },
   "outputs": [],
   "source": [
    "X_train, X_test, y_train, y_test = train_test_split(tweets['tweet'], tweets['sentiment'], test_size=0.10, random_state=4)"
   ]
  },
  {
   "cell_type": "markdown",
   "metadata": {},
   "source": [
    "### bag of words"
   ]
  },
  {
   "cell_type": "markdown",
   "metadata": {},
   "source": [
    "#### occurencies"
   ]
  },
  {
   "cell_type": "code",
   "execution_count": 25,
   "metadata": {
    "collapsed": false
   },
   "outputs": [],
   "source": [
    "# #initialize bag of words\n",
    "# count_vectorizer = CountVectorizer(min_df=1)\n",
    "\n",
    "# count_train_vectors = count_vectorizer.fit_transform(X_train)\n",
    "# count_test_vectors = count_vectorizer.transform(X_test)\n",
    "# #shape: (number_of_tweets, all_words)"
   ]
  },
  {
   "cell_type": "markdown",
   "metadata": {},
   "source": [
    "#### frequencies TF-IDF"
   ]
  },
  {
   "cell_type": "code",
   "execution_count": 26,
   "metadata": {
    "collapsed": false
   },
   "outputs": [],
   "source": [
    "#initialize bag of words (tf-idf)\n",
    "#ngram_range=(1, 2)\n",
    "tfidf_vectorizer = TfidfVectorizer(min_df=5, max_df = 0.8, sublinear_tf=True, use_idf=True, stop_words=my_stop_words)\n",
    "\n",
    "tfidf_train_vectors = tfidf_vectorizer.fit_transform(X_train)\n",
    "tfidf_test_vectors = tfidf_vectorizer.transform(X_test)\n",
    "#shape: (number_of_tweets, all_words)"
   ]
  },
  {
   "cell_type": "markdown",
   "metadata": {},
   "source": [
    "## Feature Expansion"
   ]
  },
  {
   "cell_type": "markdown",
   "metadata": {},
   "source": [
    "### polynomial expansion"
   ]
  },
  {
   "cell_type": "markdown",
   "metadata": {},
   "source": [
    "### standardization"
   ]
  },
  {
   "cell_type": "markdown",
   "metadata": {},
   "source": [
    "## Classification"
   ]
  },
  {
   "cell_type": "markdown",
   "metadata": {},
   "source": [
    "### Naive Bayes"
   ]
  },
  {
   "cell_type": "code",
   "execution_count": 27,
   "metadata": {
    "collapsed": false
   },
   "outputs": [],
   "source": [
    "# clf = MultinomialNB()\n",
    "# clf.fit(count_train_vectors, y_train)\n",
    "# prediction_bayes = clf.predict(count_test_vectors)\n",
    "# prediction_bayes.shape"
   ]
  },
  {
   "cell_type": "code",
   "execution_count": 28,
   "metadata": {
    "collapsed": false
   },
   "outputs": [],
   "source": [
    "# print(classification_report(y_test, prediction_bayes))\n",
    "# print('score: ',accuracy_score(y_test,prediction_bayes))"
   ]
  },
  {
   "cell_type": "code",
   "execution_count": 29,
   "metadata": {
    "collapsed": false
   },
   "outputs": [
    {
     "data": {
      "text/plain": [
       "(223034,)"
      ]
     },
     "execution_count": 29,
     "metadata": {},
     "output_type": "execute_result"
    }
   ],
   "source": [
    "clf = MultinomialNB()\n",
    "clf.fit(tfidf_train_vectors, y_train)\n",
    "prediction_bayes = clf.predict(tfidf_test_vectors)\n",
    "prediction_bayes.shape"
   ]
  },
  {
   "cell_type": "code",
   "execution_count": 30,
   "metadata": {
    "collapsed": false
   },
   "outputs": [
    {
     "name": "stdout",
     "output_type": "stream",
     "text": [
      "             precision    recall  f1-score   support\n",
      "\n",
      "        neg       0.81      0.68      0.74    113501\n",
      "        pos       0.71      0.84      0.77    109533\n",
      "\n",
      "avg / total       0.76      0.76      0.75    223034\n",
      "\n",
      "score:  0.755436390864\n"
     ]
    }
   ],
   "source": [
    "print(classification_report(y_test, prediction_bayes))\n",
    "print('score: ',accuracy_score(y_test,prediction_bayes))"
   ]
  },
  {
   "cell_type": "markdown",
   "metadata": {},
   "source": [
    "#### Get top k most important features"
   ]
  },
  {
   "cell_type": "code",
   "execution_count": 31,
   "metadata": {
    "collapsed": false
   },
   "outputs": [
    {
     "name": "stdout",
     "output_type": "stream",
     "text": [
      "['user', 'love', 'good', 'follow', 'lol', 'thanks', 'rt', 'know', 'url', 'like']\n"
     ]
    }
   ],
   "source": [
    "print(topk_most_important_features(tfidf_vectorizer, clf, k=10))"
   ]
  },
  {
   "cell_type": "code",
   "execution_count": 32,
   "metadata": {
    "collapsed": false
   },
   "outputs": [
    {
     "name": "stdout",
     "output_type": "stream",
     "text": [
      "\t-14.6422\t0010           \t\t-3.2602\tuser           \n",
      "\t-14.6422\t0012           \t\t-4.8331\tlove           \n",
      "\t-14.6422\t0015           \t\t-4.9225\tgood           \n",
      "\t-14.6422\t0016           \t\t-5.0416\tfollow         \n",
      "\t-14.6422\t0017           \t\t-5.0481\tlol            \n",
      "\t-14.6422\t001us          \t\t-5.0538\tthanks         \n",
      "\t-14.6422\t0021           \t\t-5.1344\trt             \n",
      "\t-14.6422\t0024           \t\t-5.2063\tknow           \n",
      "\t-14.6422\t0026           \t\t-5.2081\turl            \n",
      "\t-14.6422\t0028           \t\t-5.2316\tlike           \n",
      "\t-14.6422\t0030           \t\t-5.2848\tday            \n",
      "\t-14.6422\t0032           \t\t-5.3430\thaha           \n",
      "\t-14.6422\t003us          \t\t-5.4620\txx             \n",
      "\t-14.6422\t004us          \t\t-5.4691\tthank          \n",
      "\t-14.6422\t0052           \t\t-5.6332\thappy          \n",
      "\t-14.6422\t0078           \t\t-5.6603\ttime           \n",
      "\t-14.6422\t0079           \t\t-5.6633\ttoday          \n",
      "\t-14.6422\t0085           \t\t-5.6687\tgot            \n",
      "\t-14.6422\t00h            \t\t-5.7019\tthink          \n",
      "\t-14.6422\t00m            \t\t-5.7867\tgoing          \n",
      "\t-14.6422\t00mhz          \t\t-5.8403\tbest           \n",
      "\t-14.6422\t00pj1          \t\t-5.8503\tim             \n",
      "\t-14.6422\t00w            \t\t-5.8773\twant           \n",
      "\t-14.6422\t0101           \t\t-5.8780\tmake           \n",
      "\t-14.6422\t0102           \t\t-5.8871\treally         \n",
      "\t-14.6422\t010m           \t\t-5.8970\tyeah           \n",
      "\t-14.6422\t0125           \t\t-5.9010\thope           \n",
      "\t-14.6422\t0148           \t\t-5.9339\tgreat          \n",
      "\t-14.6422\t019us          \t\t-5.9386\ttomorrow       \n",
      "\t-14.6422\t01a            \t\t-5.9605\toh             \n",
      "\t-14.6422\t01h            \t\t-6.0042\twait           \n",
      "\t-14.6422\t0200           \t\t-6.0097\tcome           \n",
      "\t-14.6422\t0201           \t\t-6.0168\they            \n",
      "\t-14.6422\t0250           \t\t-6.0465\tyes            \n",
      "\t-14.6422\t026            \t\t-6.0526\tneed           \n",
      "\t-14.6422\t027            \t\t-6.0531\tnice           \n",
      "\t-14.6422\t0279           \t\t-6.0544\tnight          \n",
      "\t-14.6422\t028            \t\t-6.0579\tbirthday       \n",
      "\t-14.6422\t02k6513        \t\t-6.0707\tsay            \n",
      "\t-14.6422\t02k6614        \t\t-6.0730\tbetter         \n",
      "\t-14.6422\t02k664         \t\t-6.0980\tright          \n",
      "\t-14.6422\t02k6644        \t\t-6.1298\tnew            \n",
      "\t-14.6422\t02k67          \t\t-6.1801\tlet            \n",
      "\t-14.6422\t02k67020       \t\t-6.1814\tgirl           \n",
      "\t-14.6422\t02k6728        \t\t-6.1954\tmorning        \n",
      "\t-14.6422\t02k683         \t\t-6.2163\ttweet          \n",
      "\t-14.6422\t02k6837        \t\t-6.2368\tway            \n",
      "\t-14.6422\t02k7027        \t\t-6.2453\tgonna          \n",
      "\t-14.6422\t02k7028        \t\t-6.2458\tokay           \n",
      "\t-14.6422\t02k7034        \t\t-6.2881\tpeople         \n",
      "\t-14.6422\t02k7039        \t\t-6.3045\ttwitter        \n",
      "\t-14.6422\t0306           \t\t-6.3058\tlook           \n",
      "\t-14.6422\t031207         \t\t-6.3095\ttonight        \n",
      "\t-14.6422\t0322           \t\t-6.3163\tcute           \n",
      "\t-14.6422\t034            \t\t-6.3284\twork           \n",
      "\t-14.6422\t037            \t\t-6.3317\tamazing        \n",
      "\t-14.6422\t038            \t\t-6.3456\tfun            \n",
      "\t-14.6422\t0386           \t\t-6.3489\tsure           \n",
      "\t-14.6422\t03c            \t\t-6.3635\tpretty         \n",
      "\t-14.6422\t03x03          \t\t-6.3835\taww            \n",
      "\t-14.6422\t03x07          \t\t-6.3841\tguys           \n",
      "\t-14.6422\t03x09          \t\t-6.3914\tlive           \n",
      "\t-14.6422\t03x10          \t\t-6.4027\tschool         \n",
      "\t-14.6422\t03x11          \t\t-6.4151\thahaha         \n",
      "\t-14.6422\t03x12          \t\t-6.4294\tbaby           \n",
      "\t-14.6422\t03x13          \t\t-6.4390\tbeautiful      \n",
      "\t-14.6422\t03x14          \t\t-6.4544\ttell           \n",
      "\t-14.6422\t03x15          \t\t-6.4587\tlife           \n",
      "\t-14.6422\t03x16          \t\t-6.4774\tawesome        \n",
      "\t-14.6422\t03x17          \t\t-6.4941\twanna          \n",
      "\t-14.6422\t03x18          \t\t-6.5066\tok             \n",
      "\t-14.6422\t03x19          \t\t-6.5139\tweekend        \n",
      "\t-14.6422\t03x20          \t\t-6.5250\tsoon           \n",
      "\t-14.6422\t03x21          \t\t-6.5337\tfollowing      \n",
      "\t-14.6422\t03x22          \t\t-6.5502\tsmile          \n",
      "\t-14.6422\t03x23          \t\t-6.5546\thi             \n",
      "\t-14.6422\t03x24          \t\t-6.5551\tcool           \n",
      "\t-14.6422\t03x25          \t\t-6.5816\thome           \n",
      "\t-14.6422\t03x26          \t\t-6.5925\tfriend         \n",
      "\t-14.6422\t03x27          \t\t-6.6153\tthing          \n",
      "\t-14.6422\t03x28          \t\t-6.6235\tur             \n",
      "\t-14.6422\t03x29          \t\t-6.6565\tlittle         \n",
      "\t-14.6422\t03x30          \t\t-6.6631\tya             \n",
      "\t-14.6422\t03x31          \t\t-6.6678\tfeel           \n",
      "\t-14.6422\t03x32          \t\t-6.6778\tdont           \n",
      "\t-14.6422\t03x33          \t\t-6.6838\tmiss           \n",
      "\t-14.6422\t03x34          \t\t-6.6861\tthats          \n",
      "\t-14.6422\t03x35          \t\t-6.6951\tgetting        \n",
      "\t-14.6422\t03x36          \t\t-6.6981\twatch          \n",
      "\t-14.6422\t0402           \t\t-6.7065\tsoo            \n",
      "\t-14.6422\t0403           \t\t-6.7075\tfinally        \n",
      "\t-14.6422\t041            \t\t-6.7126\tsaid           \n",
      "\t-14.6422\t0416           \t\t-6.7175\ttho            \n",
      "\t-14.6422\t0427           \t\t-6.7191\texcited        \n",
      "\t-14.6422\t0428           \t\t-6.7254\tglad           \n",
      "\t-14.6422\t043            \t\t-6.7347\ttalk           \n",
      "\t-14.6422\t044            \t\t-6.7442\ttext           \n",
      "\t-14.6422\t045            \t\t-6.7445\tsleep          \n",
      "\t-14.6422\t047            \t\t-6.7476\ttry            \n",
      "\t-14.6422\t049            \t\t-6.7492\tsong           \n",
      "\t-14.6422\t04c            \t\t-6.7498\tgod            \n",
      "\t-14.6422\t04x04          \t\t-6.7513\tfriends        \n",
      "\t-14.6422\t04x05          \t\t-6.7558\tlmao           \n",
      "\t-14.6422\t04x06          \t\t-6.7559\tmaybe          \n",
      "\t-14.6422\t04x08          \t\t-6.7607\tfollowers      \n",
      "\t-14.6422\t04x09          \t\t-6.7690\tfriday         \n",
      "\t-14.6422\t04x11          \t\t-6.7809\tweek           \n",
      "\t-14.6422\t04x12          \t\t-6.8007\twelcome        \n",
      "\t-14.6422\t04x13          \t\t-6.8054\till            \n",
      "\t-14.6422\t04x14          \t\t-6.8116\twatching       \n",
      "\t-14.6422\t04x15          \t\t-6.8196\tman            \n",
      "\t-14.6422\t04x16          \t\t-6.8224\tbig            \n",
      "\t-14.6422\t04x17          \t\t-6.8247\tthings         \n",
      "\t-14.6422\t04x18          \t\t-6.8333\tshit           \n",
      "\t-14.6422\t04x19          \t\t-6.8337\tfunny          \n",
      "\t-14.6422\t04x20          \t\t-6.8423\twish           \n",
      "\t-14.6422\t04x21          \t\t-6.8706\tgirls          \n",
      "\t-14.6422\t04x22          \t\t-6.8809\tready          \n",
      "\t-14.6422\t04x23          \t\t-6.8817\tlong           \n",
      "\t-14.6422\t04x24          \t\t-6.8869\tmean           \n",
      "\t-14.6422\t04x25          \t\t-6.8881\thelp           \n",
      "\t-14.6422\t04x26          \t\t-6.8887\tbed            \n",
      "\t-14.6422\t04x27          \t\t-6.8939\tcause          \n",
      "\t-14.6422\t04x28          \t\t-6.8980\tthought        \n",
      "\t-14.6422\t04x29          \t\t-6.8981\tsweet          \n",
      "\t-14.6422\t04x30          \t\t-6.9049\tcoming         \n",
      "\t-14.6422\t04x31          \t\t-6.9085\tass            \n",
      "\t-14.6422\t04x32          \t\t-6.9162\tdays           \n",
      "\t-14.6422\t04x33          \t\t-6.9188\tbad            \n",
      "\t-14.6422\t04x34          \t\t-6.9288\tsorry          \n",
      "\t-14.6422\t04x35          \t\t-6.9387\tworld          \n",
      "\t-14.6422\t04x36          \t\t-6.9507\tphone          \n",
      "\t-14.6422\t0500           \t\t-6.9525\tactually       \n",
      "\t-14.6422\t0508           \t\t-6.9684\ttrue           \n",
      "\t-14.6422\t050m           \t\t-6.9701\tshoutout       \n",
      "\t-14.6422\t051            \t\t-6.9771\tlooking        \n",
      "\t-14.6422\t0513           \t\t-6.9781\tyear           \n",
      "\t-14.6422\t053            \t\t-6.9924\tmeet           \n",
      "\t-14.6422\t05x06          \t\t-6.9945\tgame           \n",
      "\t-14.6422\t05x08          \t\t-6.9964\ttweets         \n",
      "\t-14.6422\t05x09          \t\t-7.0008\thehe           \n",
      "\t-14.6422\t05x10          \t\t-7.0116\tlot            \n",
      "\t-14.6422\t05x11          \t\t-7.0132\tguess          \n",
      "\t-14.6422\t05x12          \t\t-7.0277\tfuck           \n",
      "\t-14.6422\t05x13          \t\t-7.0445\tcourse         \n",
      "\t-14.6422\t05x14          \t\t-7.0522\tcheck          \n",
      "\t-14.6422\t05x15          \t\t-7.0541\tmakes          \n",
      "\t-14.6422\t05x16          \t\t-7.0557\tfine           \n",
      "\t-14.6422\t05x17          \t\t-7.0587\tomg            \n",
      "\t-14.6422\t05x18          \t\t-7.0600\tyay            \n",
      "\t-14.6422\t05x19          \t\t-7.0659\tluck           \n",
      "\t-14.6422\t05x20          \t\t-7.0690\tlovely         \n",
      "\t-14.6422\t05x21          \t\t-7.0741\tbabe           \n",
      "\t-14.6422\t05x22          \t\t-7.0885\tface           \n",
      "\t-14.6422\t05x23          \t\t-7.0900\tmind           \n",
      "\t-14.6422\t05x24          \t\t-7.0949\tproud          \n",
      "\t-14.6422\t05x25          \t\t-7.1074\tgoodnight      \n",
      "\t-14.6422\t05x26          \t\t-7.1149\thair           \n",
      "\t-14.6422\t05x27          \t\t-7.1194\ttalking        \n",
      "\t-14.6422\t05x28          \t\t-7.1258\tplay           \n",
      "\t-14.6422\t05x29          \t\t-7.1272\tstart          \n",
      "\t-14.6422\t05x30          \t\t-7.1294\tboys           \n",
      "\t-14.6422\t05x31          \t\t-7.1317\tmusic          \n",
      "\t-14.6422\t05x32          \t\t-7.1442\treal           \n",
      "\t-14.6422\t05x33          \t\t-7.1537\tenjoy          \n",
      "\t-14.6422\t05x34          \t\t-7.1539\tclass          \n",
      "\t-14.6422\t05x35          \t\t-7.1576\tperson         \n",
      "\t-14.6422\t05x36          \t\t-7.1641\tliam           \n",
      "\t-14.6422\t060            \t\t-7.1854\tboy            \n",
      "\t-14.6422\t062            \t\t-7.1857\told            \n",
      "\t-14.6422\t063            \t\t-7.1861\task            \n",
      "\t-14.6422\t064            \t\t-7.1880\tgotta          \n",
      "\t-14.6422\t0641           \t\t-7.1887\thello          \n",
      "\t-14.6422\t0663           \t\t-7.1988\t20             \n",
      "\t-14.6422\t067            \t\t-7.2055\tremember       \n",
      "\t-14.6422\t068            \t\t-7.2084\thear           \n",
      "\t-14.6422\t06x08          \t\t-7.2088\tff             \n",
      "\t-14.6422\t06x10          \t\t-7.2103\tsaw            \n",
      "\t-14.6422\t06x11          \t\t-7.2205\tbitch          \n",
      "\t-14.6422\t06x12          \t\t-7.2246\tahh            \n",
      "\t-14.6422\t06x14          \t\t-7.2327\tmom            \n",
      "\t-14.6422\t06x15          \t\t-7.2353\tsexy           \n",
      "\t-14.6422\t06x16          \t\t-7.2368\tlucky          \n",
      "\t-14.6422\t06x17          \t\t-7.2374\tlater          \n",
      "\t-14.6422\t06x18          \t\t-7.2412\tlooks          \n",
      "\t-14.6422\t06x19          \t\t-7.2422\tha             \n",
      "\t-14.6422\t06x20          \t\t-7.2510\tcare           \n",
      "\t-14.6422\t06x21          \t\t-7.2587\tvideo          \n",
      "\t-14.6422\t06x22          \t\t-7.2603\tstop           \n",
      "\t-14.6422\t06x23          \t\t-7.2612\twaiting        \n",
      "\t-14.6422\t06x24          \t\t-7.2703\tguy            \n",
      "\t-14.6422\t06x25          \t\t-7.2714\tboyfriend      \n",
      "\t-14.6422\t06x26          \t\t-7.2725\tfavorite       \n",
      "\t-14.6422\t06x27          \t\t-7.2735\tsummer         \n",
      "\t-14.6422\t06x28          \t\t-7.2783\tread           \n",
      "\t-14.6422\t06x29          \t\t-7.2794\toomf           \n",
      "\t-14.6422\t06x30          \t\t-7.2811\thouse          \n",
      "\t-14.6422\t06x31          \t\t-7.2858\tbout           \n",
      "\t-14.6422\t06x32          \t\t-7.2866\tfollowed       \n",
      "\t-14.6422\t06x33          \t\t-7.3019\tjob            \n",
      "\t-14.6422\t06x34          \t\t-7.3083\tstay           \n",
      "\t-14.6422\t06x35          \t\t-7.3106\tperfect        \n",
      "\t-14.6422\t06x36          \t\t-7.3137\twow            \n",
      "\t-14.6422\t072            \t\t-7.3147\tyea            \n",
      "\t-14.6422\t073            \t\t-7.3249\tohh            \n",
      "\t-14.6422\t076            \t\t-7.3252\tbit            \n",
      "\t-14.6422\t077            \t\t-7.3262\tfree           \n",
      "\t-14.6422\t07mm           \t\t-7.3263\twants          \n",
      "\t-14.6422\t07x07          \t\t-7.3277\ttold           \n",
      "\t-14.6422\t07x08          \t\t-7.3281\thopefully      \n",
      "\t-14.6422\t07x09          \t\t-7.3288\tfeeling        \n",
      "\t-14.6422\t07x10          \t\t-7.3362\teat            \n",
      "\t-14.6422\t07x11          \t\t-7.3505\thard           \n",
      "\t-14.6422\t07x12          \t\t-7.3507\tsounds         \n",
      "\t-14.6422\t07x13          \t\t-7.3533\tpic            \n",
      "\t-14.6422\t07x14          \t\t-7.3538\tfan            \n",
      "\t-14.6422\t07x15          \t\t-7.3538\taw             \n",
      "\t-14.6422\t07x16          \t\t-7.3598\tworry          \n",
      "\t-14.6422\t07x17          \t\t-7.3652\tthinking       \n",
      "\t-14.6422\t07x18          \t\t-7.3660\tyouu           \n",
      "\t-14.6422\t07x19          \t\t-7.3809\tsend           \n",
      "\t-14.6422\t07x20          \t\t-7.3887\tbelieve        \n",
      "\t-14.6422\t07x21          \t\t-7.3891\tbring          \n",
      "\t-14.6422\t07x22          \t\t-7.4006\thot            \n",
      "\t-14.6422\t07x23          \t\t-7.4024\ttrying         \n",
      "\t-14.6422\t07x24          \t\t-7.4042\tmaking         \n",
      "\t-14.6422\t07x25          \t\t-7.4104\tparty          \n",
      "\t-14.6422\t07x26          \t\t-7.4122\twin            \n",
      "\t-14.6422\t07x27          \t\t-7.4164\talright        \n",
      "\t-14.6422\t07x28          \t\t-7.4214\tshout          \n",
      "\t-14.6422\t07x29          \t\t-7.4230\tlaugh          \n",
      "\t-14.6422\t07x30          \t\t-7.4345\twent           \n",
      "\t-14.6422\t07x31          \t\t-7.4371\thahah          \n",
      "\t-14.6422\t07x32          \t\t-7.4420\tboo            \n",
      "\t-14.6422\t07x33          \t\t-7.4469\ttill           \n",
      "\t-14.6422\t07x34          \t\t-7.4470\tcrazy          \n",
      "\t-14.6422\t07x35          \t\t-7.4479\tfamily         \n",
      "\t-14.6422\t07x36          \t\t-7.4518\tearly          \n",
      "\t-14.6422\t0808           \t\t-7.4524\taway           \n",
      "\t-14.6422\t081            \t\t-7.4529\theart          \n",
      "\t-14.6422\t084            \t\t-7.4544\tdm             \n",
      "\t-14.6422\t089            \t\t-7.4560\tima            \n",
      "\t-14.6422\t08k819         \t\t-7.4600\tend            \n",
      "\t-14.6422\t08k8192        \t\t-7.4642\tbtw            \n",
      "\t-14.6422\t08x08          \t\t-7.4738\tloves          \n",
      "\t-14.6422\t08x09          \t\t-7.4776\tgoes           \n",
      "\t-14.6422\t08x11          \t\t-7.4798\tseen           \n",
      "\t-14.6422\t08x13          \t\t-7.4831\thell           \n",
      "\t-14.6422\t08x14          \t\t-7.4856\tpicture        \n",
      "\t-14.6422\t08x15          \t\t-7.4870\thead           \n",
      "\t-14.6422\t08x16          \t\t-7.4916\tlunch          \n",
      "\t-14.6422\t08x17          \t\t-7.4931\tdate           \n",
      "\t-14.6422\t08x18          \t\t-7.4938\tmovie          \n",
      "\t-14.6422\t08x19          \t\t-7.4959\tyess           \n",
      "\t-14.6422\t08x20          \t\t-7.4977\tforward        \n",
      "\t-14.6422\t08x21          \t\t-7.5054\tstuff          \n",
      "\t-14.6422\t08x22          \t\t-7.5136\tsaturday       \n",
      "\t-14.6422\t08x23          \t\t-7.5182\tthankyou       \n",
      "\t-14.6422\t08x24          \t\t-7.5199\tlistening      \n",
      "\t-14.6422\t08x25          \t\t-7.5222\tforget         \n",
      "\t-14.6422\t08x26          \t\t-7.5275\tsister         \n",
      "\t-14.6422\t08x27          \t\t-7.5276\tuse            \n",
      "\t-14.6422\t08x28          \t\t-7.5308\tbrother        \n",
      "\t-14.6422\t08x29          \t\t-7.5330\tmee            \n",
      "\t-14.6422\t08x30          \t\t-7.5360\tprobably       \n",
      "\t-14.6422\t08x31          \t\t-7.5378\tyougetmajorpointsif\n",
      "\t-14.6422\t08x32          \t\t-7.5383\tnumber         \n",
      "\t-14.6422\t08x33          \t\t-7.5385\tfood           \n",
      "\t-14.6422\t08x34          \t\t-7.5403\tlil            \n",
      "\t-14.6422\t08x35          \t\t-7.5427\thate           \n",
      "\t-14.6422\t08x36          \t\t-7.5478\tcongrats       \n",
      "\t-14.6422\t092            \t\t-7.5503\tfans           \n",
      "\t-14.6422\t094            \t\t-7.5555\tdamn           \n",
      "\t-14.6422\t095            \t\t-7.5555\tchange         \n",
      "\t-14.6422\t096            \t\t-7.5572\tworking        \n",
      "\t-14.6422\t09x09          \t\t-7.5626\tbro            \n",
      "\t-14.6422\t09x10          \t\t-7.5684\tproblem        \n",
      "\t-14.6422\t09x11          \t\t-7.5698\tseeing         \n",
      "\t-14.6422\t09x12          \t\t-7.5714\t10             \n",
      "\t-14.6422\t09x13          \t\t-7.5750\tbuy            \n",
      "\t-14.6422\t09x14          \t\t-7.5785\tsaying         \n",
      "\t-14.6422\t09x15          \t\t-7.5808\tprom           \n",
      "\t-14.6422\t09x16          \t\t-7.5815\thit            \n",
      "\t-14.6422\t09x17          \t\t-7.5860\twanted         \n",
      "\t-14.6422\t09x18          \t\t-7.5988\tlate           \n",
      "\t-14.6422\t09x19          \t\t-7.6021\tdefinitely     \n",
      "\t-14.6422\t09x20          \t\t-7.6063\tdinner         \n",
      "\t-14.6422\t09x21          \t\t-7.6068\tplaying        \n",
      "\t-14.6422\t09x22          \t\t-7.6139\tah             \n",
      "\t-14.6422\t09x23          \t\t-7.6206\tmeans          \n",
      "\t-14.6422\t09x24          \t\t-7.6260\tloved          \n",
      "\t-14.6422\t09x25          \t\t-7.6265\thmm            \n",
      "\t-14.6422\t09x26          \t\t-7.6285\tteam           \n",
      "\t-14.6422\t09x27          \t\t-7.6315\tkind           \n",
      "\t-14.6422\t09x28          \t\t-7.6325\tniall          \n",
      "\t-14.6422\t09x29          \t\t-7.6328\ttimes          \n",
      "\t-14.6422\t09x30          \t\t-7.6362\tlets           \n",
      "\t-14.6422\t09x31          \t\t-7.6483\theard          \n",
      "\t-14.6422\t09x32          \t\t-7.6486\tleave          \n",
      "\t-14.6422\t09x33          \t\t-7.6490\tgoodmorning    \n",
      "\t-14.6422\t09x34          \t\t-7.6501\tcame           \n",
      "\t-14.6422\t09x35          \t\t-7.6526\tvoice          \n",
      "\t-14.6422\t09x36          \t\t-7.6537\tretweet        \n",
      "\t-14.6422\t0about         \t\t-7.6543\tgone           \n",
      "\t-14.6422\t0author        \t\t-7.6550\tfar            \n",
      "\t-14.6422\t0b             \t\t-7.6566\tplace          \n",
      "\t-14.6422\t0bk            \t\t-7.6671\tlisten         \n",
      "\t-14.6422\t0d             \t\t-7.6726\thigh           \n",
      "\t-14.6422\t0device        \t\t-7.6768\taha            \n",
      "\t-14.6422\t0gb            \t\t-7.6781\thahahaha       \n",
      "\t-14.6422\t0gd787         \t\t-7.6786\tdream          \n",
      "\t-14.6422\t0jd605         \t\t-7.6832\tyo             \n",
      "\t-14.6422\t0jd606         \t\t-7.6840\tdance          \n",
      "\t-14.6422\t0mah           \t\t-7.6911\twonderful      \n",
      "\t-14.6422\t0min           \t\t-7.6938\tdear           \n",
      "\t-14.6422\t0mm            \t\t-7.7000\tmood           \n",
      "\t-14.6422\t0px            \t\t-7.7017\tbet            \n",
      "\t-14.6422\t0ru033         \t\t-7.7033\tbestfriend     \n",
      "\t-14.6422\t0t             \t\t-7.7094\tspecial        \n",
      "\t-14.6422\t0u003          \t\t-7.7141\tyesterday      \n",
      "\t-14.6422\t0x10c          \t\t-7.7144\tlmfao          \n",
      "\t-14.6422\t0xd184         \t\t-7.7229\tleft           \n",
      "\t-14.6422\t1005ha         \t\t-7.7296\tcar            \n",
      "\t-14.6422\t1006           \t\t-7.7349\tcuz            \n",
      "\t-14.6422\t1008           \t\t-7.7370\trest           \n",
      "\t-14.6422\t1008ha         \t\t-7.7388\tgorgeous       \n",
      "\t-14.6422\t100b           \t\t-7.7521\tforever        \n",
      "\t-14.6422\t100base        \t\t-7.7540\thours          \n",
      "\t-14.6422\t100ct          \t\t-7.7552\tknew           \n",
      "\t-14.6422\t100dell        \t\t-7.7628\tgets           \n",
      "\t-14.6422\t100l           \t\t-7.7657\treason         \n",
      "\t-14.6422\t100mah         \t\t-7.7684\tmoney          \n",
      "\t-14.6422\t100mb          \t\t-7.7712\tyu             \n",
      "\t-14.6422\t100mbps        \t\t-7.7719\tword           \n",
      "\t-14.6422\t100mm          \t\t-7.7782\twrong          \n",
      "\t-14.6422\t100pc          \t\t-7.7922\tharry          \n",
      "\t-14.6422\t100pk          \t\t-7.7955\thun            \n",
      "\t-14.6422\t100ppm         \t\t-7.7985\tlool           \n",
      "\t-14.6422\t100r           \t\t-7.7997\tjustin         \n",
      "\t-14.6422\t100va          \t\t-7.8013\tphoto          \n",
      "\t-14.6422\t100w           \t\t-7.8049\tsuper          \n",
      "\t-14.6422\t100xl          \t\t-7.8102\twit            \n",
      "\t-14.6422\t1014           \t\t-7.8166\thalf           \n",
      "\t-14.6422\t1015pem        \t\t-7.8182\tsupport        \n",
      "\t-14.6422\t101a           \t\t-7.8182\troom           \n",
      "\t-14.6422\t1022           \t\t-7.8214\ttweeting       \n",
      "\t-14.6422\t1024mb         \t\t-7.8242\tmet            \n",
      "\t-14.6422\t1025           \t\t-7.8251\tyears          \n",
      "\t-14.6422\t1033           \t\t-7.8272\tdirection      \n",
      "\t-14.6422\t1042           \t\t-7.8289\ttotally        \n",
      "\t-14.6422\t1050vp4        \t\t-7.8308\tidea           \n",
      "\t-14.6422\t1060           \t\t-7.8311\ttaking         \n",
      "\t-14.6422\t10600          \t\t-7.8319\tmad            \n",
      "\t-14.6422\t1061           \t\t-7.8320\tmate           \n",
      "\t-14.6422\t1063           \t\t-7.8322\tknows          \n",
      "\t-14.6422\t1066mhz        \t\t-7.8367\tworth          \n",
      "\t-14.6422\t1067           \t\t-7.8394\tagree          \n",
      "\t-14.6422\t1070           \t\t-7.8398\tmoment         \n",
      "\t-14.6422\t1080i          \t\t-7.8437\tloving         \n",
      "\t-14.6422\t1085           \t\t-7.8443\trun            \n",
      "\t-14.6422\t1090           \t\t-7.8489\tdad            \n",
      "\t-14.6422\t1094yd         \t\t-7.8525\tshower         \n",
      "\t-14.6422\t1099           \t\t-7.8540\tcalled         \n",
      "\t-14.6422\t109yds         \t\t-7.8545\tones           \n",
      "\t-14.6422\t10b            \t\t-7.8574\teyes           \n",
      "\t-14.6422\t10base         \t\t-7.8629\tneeds          \n",
      "\t-14.6422\t10bixp         \t\t-7.8633\tmissed         \n",
      "\t-14.6422\t10bt           \t\t-7.8666\tshall          \n",
      "\t-14.6422\t10e            \t\t-7.8683\tcomes          \n",
      "\t-14.6422\t10ft           \t\t-7.8690\tdude           \n",
      "\t-14.6422\t10gb           \t\t-7.8692\teverybody      \n",
      "\t-14.6422\t10h            \t\t-7.8718\tfacebook       \n",
      "\t-14.6422\t10l            \t\t-7.8742\tem             \n",
      "\t-14.6422\t10ml           \t\t-7.8770\tappreciate     \n",
      "\t-14.6422\t10mp           \t\t-7.8799\tsongs          \n",
      "\t-14.6422\t10oz           \t\t-7.8847\texactly        \n",
      "\t-14.6422\t10pc           \t\t-7.8850\tkinda          \n",
      "\t-14.6422\t10picture      \t\t-7.8855\tused           \n",
      "\t-14.6422\t10pk           \t\t-7.8899\tavi            \n",
      "\t-14.6422\t10pks          \t\t-7.8934\tbday           \n",
      "\t-14.6422\t10r            \t\t-7.8972\thappen         \n",
      "\t-14.6422\t10v            \t\t-7.8986\treply          \n",
      "\t-14.6422\t10x11          \t\t-7.8996\tpost           \n",
      "\t-14.6422\t10x12          \t\t-7.9015\tmatter         \n",
      "\t-14.6422\t10x13          \t\t-7.9046\ttired          \n",
      "\t-14.6422\t10x14          \t\t-7.9066\t30             \n",
      "\t-14.6422\t10x15          \t\t-7.9069\tblessed        \n",
      "\t-14.6422\t10x16          \t\t-7.9073\tsays           \n",
      "\t-14.6422\t10x17          \t\t-7.9096\tyep            \n",
      "\t-14.6422\t10x18          \t\t-7.9113\twalk           \n",
      "\t-14.6422\t10x19          \t\t-7.9119\tna             \n",
      "\t-14.6422\t10x20          \t\t-7.9120\tchance         \n",
      "\t-14.6422\t10x21          \t\t-7.9128\tconcert        \n",
      "\t-14.6422\t10x22          \t\t-7.9141\tchill          \n",
      "\t-14.6422\t10x23          \t\t-7.9144\tmention        \n",
      "\t-14.6422\t10x24          \t\t-7.9154\tkiss           \n",
      "\t-14.6422\t10x25          \t\t-7.9163\tfollower       \n",
      "\t-14.6422\t10x26          \t\t-7.9191\timma           \n",
      "\t-14.6422\t10x27          \t\t-7.9231\tsis            \n",
      "\t-14.6422\t10x28          \t\t-7.9267\tweeks          \n",
      "\t-14.6422\t10x29          \t\t-7.9272\tvisit          \n",
      "\t-14.6422\t10x30          \t\t-7.9302\twhats          \n",
      "\t-14.6422\t10x31          \t\t-7.9314\tbless          \n",
      "\t-14.6422\t10x32          \t\t-7.9326\tyall           \n",
      "\t-14.6422\t10x33          \t\t-7.9328\tseriously      \n",
      "\t-14.6422\t10x34          \t\t-7.9341\tfucking        \n",
      "\t-14.6422\t10x35          \t\t-7.9374\tplan           \n",
      "\t-14.6422\t10x36          \t\t-7.9378\treading        \n",
      "\t-14.6422\t10x42          \t\t-7.9387\twear           \n",
      "\t-14.6422\t10x50          \t\t-7.9397\tweather        \n",
      "\t-14.6422\t10x8           \t\t-7.9415\tjk             \n",
      "\t-14.6422\t1102           \t\t-7.9451\tthx            \n",
      "\t-14.6422\t110mm          \t\t-7.9459\ttook           \n",
      "\t-14.6422\t110v           \t\t-7.9507\t100            \n",
      "\t-14.6422\t113lb          \t\t-7.9513\tdress          \n",
      "\t-14.6422\t1153           \t\t-7.9557\txd             \n",
      "\t-14.6422\t1155           \t\t-7.9561\ttrip           \n",
      "\t-14.6422\t1156           \t\t-7.9625\tturn           \n",
      "\t-14.6422\t115v           \t\t-7.9651\tnigga          \n",
      "\t-14.6422\t1161           \t\t-7.9652\tlots           \n",
      "\t-14.6422\t1171           \t\t-7.9675\tsmoke          \n",
      "\t-14.6422\t1191           \t\t-7.9698\taint           \n",
      "\t-14.6422\t11b            \t\t-7.9714\tyeahh          \n",
      "\t-14.6422\t11g            \t\t-7.9720\teveryday       \n",
      "\t-14.6422\t11lb           \t\t-7.9724\twake           \n",
      "\t-14.6422\t11oz           \t\t-7.9772\ttickets        \n",
      "\t-14.6422\t11x11          \t\t-7.9842\tsing           \n",
      "\t-14.6422\t11x12          \t\t-7.9878\twords          \n",
      "\t-14.6422\t11x13          \t\t-7.9880\thour           \n",
      "\t-14.6422\t11x14          \t\t-7.9932\tgym            \n",
      "\t-14.6422\t11x15          \t\t-7.9979\tpictures       \n",
      "\t-14.6422\t11x16          \t\t-7.9982\tooh            \n",
      "\t-14.6422\t11x17          \t\t-7.9992\taccount        \n",
      "\t-14.6422\t11x18          \t\t-8.0015\tinstagram      \n",
      "\t-14.6422\t11x19          \t\t-8.0023\ttrust          \n",
      "\t-14.6422\t11x20          \t\t-8.0043\tsunday         \n",
      "\t-14.6422\t11x21          \t\t-8.0053\tcatch          \n",
      "\t-14.6422\t11x22          \t\t-8.0063\tshare          \n",
      "\t-14.6422\t11x23          \t\t-8.0072\tfeels          \n",
      "\t-14.6422\t11x24          \t\t-8.0090\tpick           \n",
      "\t-14.6422\t11x25          \t\t-8.0093\tmovies         \n",
      "\t-14.6422\t11x26          \t\t-8.0097\tpleasee        \n",
      "\t-14.6422\t11x27          \t\t-8.0106\tsex            \n",
      "\t-14.6422\t11x28          \t\t-8.0120\twonder         \n",
      "\t-14.6422\t11x29          \t\t-8.0131\tpromise        \n",
      "\t-14.6422\t11x30          \t\t-8.0131\t1d             \n",
      "\t-14.6422\t11x31          \t\t-8.0145\tbusy           \n",
      "\t-14.6422\t11x32          \t\t-8.0152\tidk            \n",
      "\t-14.6422\t11x33          \t\t-8.0157\tnap            \n",
      "\t-14.6422\t11x34          \t\t-8.0186\tthursday       \n",
      "\t-14.6422\t11x35          \t\t-8.0220\tfb             \n",
      "\t-14.6422\t11x36          \t\t-8.0248\tlady           \n",
      "\t-14.6422\t1200mah        \t\t-8.0250\tkids           \n",
      "\t-14.6422\t1201           \t\t-8.0251\tbreak          \n",
      "\t-14.6422\t1202           \t\t-8.0251\tbook           \n",
      "\t-14.6422\t120424         \t\t-8.0258\tbeat           \n",
      "\t-14.6422\t120425         \t\t-8.0271\tsingle         \n",
      "\t-14.6422\t120427         \t\t-8.0355\train           \n",
      "\t-14.6422\t1206           \t\t-8.0400\thang           \n",
      "\t-14.6422\t120614x        \t\t-8.0404\t00             \n",
      "\t-14.6422\t120mm          \t\t-8.0414\tmonth          \n",
      "\t-14.6422\t120v           \t\t-8.0421\tgirlfriend     \n",
      "\t-14.6422\t1235           \t\t-8.0450\tclose          \n",
      "\t-14.6422\t1240           \t\t-8.0467\tsecond         \n",
      "\t-14.6422\t124581         \t\t-8.0480\tgave           \n",
      "\t-14.6422\t125ml          \t\t-8.0530\tdrink          \n",
      "\t-14.6422\t125mm          \t\t-8.0533\teating         \n",
      "\t-14.6422\t125v           \t\t-8.0546\tcouple         \n",
      "\t-14.6422\t1270           \t\t-8.0575\tnotice         \n",
      "\t-14.6422\t1280           \t\t-8.0634\ttwitcam        \n",
      "\t-14.6422\t1280x1024      \t\t-8.0642\tunderstand     \n",
      "\t-14.6422\t128gb          \t\t-8.0645\tstarted        \n",
      "\t-14.6422\t128m           \t\t-8.0717\teasy           \n",
      "\t-14.6422\t128mb          \t\t-8.0721\tpage           \n",
      "\t-14.6422\t128mx64        \t\t-8.0732\tjealous        \n",
      "\t-14.6422\t128mx72        \t\t-8.0752\twrite          \n",
      "\t-14.6422\t1290           \t\t-8.0774\txo             \n",
      "\t-14.6422\t1299           \t\t-8.0795\tsent           \n",
      "\t-14.6422\t129mm          \t\t-8.0817\tlink           \n",
      "\t-14.6422\t12a            \t\t-8.0849\twoke           \n",
      "\t-14.6422\t12awg          \t\t-8.0885\tsound          \n",
      "\t-14.6422\t12c            \t\t-8.0885\t__             \n",
      "\t-14.6422\t12cm           \t\t-8.0892\tweird          \n",
      "\t-14.6422\t12h            \t\t-8.0895\tfinished       \n",
      "\t-14.6422\t12in           \t\t-8.0901\tfuture         \n",
      "\t-14.6422\t12l14          \t\t-8.0918\tzayn           \n",
      "\t-14.6422\t12lbs          \t\t-8.0932\tyup            \n",
      "\t-14.6422\t12m            \t\t-8.0947\tbored          \n",
      "\t-14.6422\t12ml           \t\t-8.0972\txoxo           \n",
      "\t-14.6422\t12mmx1         \t\t-8.0977\tjoin           \n",
      "\t-14.6422\t12mp           \t\t-8.1001\t33             \n",
      "\t-14.6422\t12pc           \t\t-8.1040\tgoin           \n",
      "\t-14.6422\t12pcs          \t\t-8.1044\twoo            \n",
      "\t-14.6422\t12pk           \t\t-8.1046\tbought         \n",
      "\t-14.6422\t12pks          \t\t-8.1058\tbitches        \n",
      "\t-14.6422\t12vdc          \t\t-8.1087\tanymore        \n",
      "\t-14.6422\t12w            \t\t-8.1088\tsomebody       \n",
      "\t-14.6422\t12x            \t\t-8.1089\tbeach          \n",
      "\t-14.6422\t12x1           \t\t-8.1106\tpoint          \n",
      "\t-14.6422\t12x13          \t\t-8.1154\tpics           \n",
      "\t-14.6422\t12x14          \t\t-8.1169\tsafe           \n",
      "\t-14.6422\t12x15          \t\t-8.1169\ttour           \n",
      "\t-14.6422\t12x16          \t\t-8.1199\t12             \n",
      "\t-14.6422\t12x18          \t\t-8.1229\tsinging        \n",
      "\t-14.6422\t12x19          \t\t-8.1233\ttest           \n",
      "\t-14.6422\t12x20          \t\t-8.1255\tladies         \n",
      "\t-14.6422\t12x21          \t\t-8.1291\talbum          \n",
      "\t-14.6422\t12x22          \t\t-8.1295\t11             \n",
      "\t-14.6422\t12x23          \t\t-8.1314\tshopping       \n",
      "\t-14.6422\t12x24          \t\t-8.1316\tdreams         \n",
      "\t-14.6422\t12x25          \t\t-8.1364\ttv             \n",
      "\t-14.6422\t12x26          \t\t-8.1385\tnews           \n",
      "\t-14.6422\t12x27          \t\t-8.1409\tanswer         \n",
      "\t-14.6422\t12x28          \t\t-8.1448\tmr             \n",
      "\t-14.6422\t12x29          \t\t-8.1506\tfall           \n",
      "\t-14.6422\t12x30          \t\t-8.1530\tbye            \n",
      "\t-14.6422\t12x31          \t\t-8.1531\tppl            \n",
      "\t-14.6422\t12x32          \t\t-8.1557\twhite          \n",
      "\t-14.6422\t12x33          \t\t-8.1558\tbreakfast      \n",
      "\t-14.6422\t12x34          \t\t-8.1564\tasked          \n",
      "\t-14.6422\t12x35          \t\t-8.1570\tdifferent      \n",
      "\t-14.6422\t12x36          \t\t-8.1584\tquite          \n",
      "\t-14.6422\t12x9           \t\t-8.1624\tcake           \n",
      "\t-14.6422\t12yds          \t\t-8.1652\tneeded         \n",
      "\t-14.6422\t130ash105      \t\t-8.1669\tnd             \n",
      "\t-14.6422\t130ash138      \t\t-8.1725\t420            \n",
      "\t-14.6422\t130ashbk       \t\t-8.1742\tago            \n",
      "\t-14.6422\t130ashch       \t\t-8.1754\tmm             \n",
      "\t-14.6422\t130ashww       \t\t-8.1805\tred            \n",
      "\t-14.6422\t1318           \t\t-8.1832\tkid            \n",
      "\t-14.6422\t131ldell       \t\t-8.1912\tlmaoo          \n",
      "\t-14.6422\t1320           \t\t-8.1987\tdaddy          \n",
      "\t-14.6422\t1320c          \t\t-8.1987\tahaha          \n",
      "\t-14.6422\t13282936       \t\t-8.2007\tbuddy          \n",
      "\t-14.6422\t1339           \t\t-8.2024\tmeant          \n",
      "\t-14.6422\t133x           \t\t-8.2032\tlearn          \n",
      "\t-14.6422\t1350           \t\t-8.2052\thold           \n",
      "\t-14.6422\t135in          \t\t-8.2080\tthoughtsduringschool\n",
      "\t-14.6422\t1366           \t\t-8.2088\tstory          \n",
      "\t-14.6422\t1366x768       \t\t-8.2091\tlovee          \n",
      "\t-14.6422\t1390           \t\t-8.2131\twaystomakemehappy\n",
      "\t-14.6422\t139114         \t\t-8.2140\ttrend          \n",
      "\t-14.6422\t139116         \t\t-8.2141\tshirt          \n",
      "\t-14.6422\t1394a          \t\t-8.2145\tnope           \n",
      "\t-14.6422\t1394b          \t\t-8.2163\tforgot         \n",
      "\t-14.6422\t13c            \t\t-8.2166\toutside        \n",
      "\t-14.6422\t13ft           \t\t-8.2199\tsun            \n",
      "\t-14.6422\t13mm           \t\t-8.2238\tpls            \n",
      "\t-14.6422\t13x            \t\t-8.2274\tda             \n",
      "\t-14.6422\t13x100mm       \t\t-8.2279\tanytime        \n",
      "\t-14.6422\t13x13          \t\t-8.2302\tcheers         \n",
      "\t-14.6422\t13x14          \t\t-8.2312\tdidnt          \n",
      "\t-14.6422\t13x15          \t\t-8.2315\topen           \n",
      "\t-14.6422\t13x16          \t\t-8.2320\tstarting       \n",
      "\t-14.6422\t13x17          \t\t-8.2322\tinteresting    \n",
      "\t-14.6422\t13x18          \t\t-8.2326\tgames          \n",
      "\t-14.6422\t13x19          \t\t-8.2345\tla             \n",
      "\t-14.6422\t13x20          \t\t-8.2370\tthanx          \n",
      "\t-14.6422\t13x21          \t\t-8.2371\tbody           \n",
      "\t-14.6422\t13x22          \t\t-8.2372\tinstead        \n",
      "\t-14.6422\t13x23          \t\t-8.2382\twont           \n",
      "\t-14.6422\t13x24          \t\t-8.2386\tcousin         \n",
      "\t-14.6422\t13x25          \t\t-8.2399\tworks          \n",
      "\t-14.6422\t13x26          \t\t-8.2452\tgiving         \n",
      "\t-14.6422\t13x27          \t\t-8.2454\tadorable       \n",
      "\t-14.6422\t13x28          \t\t-8.2485\tbus            \n",
      "\t-14.6422\t13x29          \t\t-8.2513\table           \n",
      "\t-14.6422\t13x30          \t\t-8.2533\tmonths         \n",
      "\t-14.6422\t13x31          \t\t-8.2535\theyy           \n",
      "\t-14.6422\t13x32          \t\t-8.2540\tfollowback     \n",
      "\t-14.6422\t13x33          \t\t-8.2567\talot           \n",
      "\t-14.6422\t13x34          \t\t-8.2570\tthankss        \n",
      "\t-14.6422\t13x35          \t\t-8.2596\ttrending       \n",
      "\t-14.6422\t13x36          \t\t-8.2600\tjus            \n",
      "\t-14.6422\t1400mah        \t\t-8.2601\tlist           \n",
      "\t-14.6422\t140mm          \t\t-8.2604\tminutes        \n",
      "\t-14.6422\t1414           \t\t-8.2630\tcollege        \n",
      "\t-14.6422\t1415           \t\t-8.2663\tstupid         \n",
      "\t-14.6422\t1420           \t\t-8.2667\tride           \n",
      "\t-14.6422\t1430           \t\t-8.2681\tshut           \n",
      "\t-14.6422\t1440           \t\t-8.2688\tpractice       \n",
      "\t-14.6422\t1442           \t\t-8.2693\tnah            \n",
      "\t-14.6422\t144pin         \t\t-8.2700\trandom         \n",
      "\t-14.6422\t1453           \t\t-8.2709\tcheer          \n",
      "\t-14.6422\t1457           \t\t-8.2726\ttweeted        \n",
      "\t-14.6422\t1490           \t\t-8.2736\tevening        \n",
      "\t-14.6422\t1492           \t\t-8.2752\ttruth          \n",
      "\t-14.6422\t14awg          \t\t-8.2767\tmessage        \n",
      "\t-14.6422\t14c            \t\t-8.2792\tmother         \n",
      "\t-14.6422\t14ft           \t\t-8.2806\tmommy          \n",
      "\t-14.6422\t14g            \t\t-8.2817\thomework       \n",
      "\t-14.6422\t14kt           \t\t-8.2830\tnp             \n",
      "\t-14.6422\t14lbs          \t\t-8.2853\tmeeting        \n",
      "\t-14.6422\t14mm           \t\t-8.2854\tyoung          \n",
      "\t-14.6422\t14mmx1         \t\t-8.2881\tlost           \n",
      "\t-14.6422\t14mp           \t\t-8.2885\tfollows        \n",
      "\t-14.6422\t14oz           \t\t-8.2936\tseason         \n",
      "\t-14.6422\t14w            \t\t-8.2950\tlikes          \n",
      "\t-14.6422\t14x14          \t\t-8.2955\tice            \n",
      "\t-14.6422\t14x15          \t\t-8.2963\too             \n",
      "\t-14.6422\t14x16          \t\t-8.2987\tcoffee         \n",
      "\t-14.6422\t14x17          \t\t-8.2990\tliked          \n",
      "\t-14.6422\t14x18          \t\t-8.3003\tsilly          \n",
      "\t-14.6422\t14x19          \t\t-8.3038\tvote           \n",
      "\t-14.6422\t14x20          \t\t-8.3056\tfavourite      \n",
      "\t-14.6422\t14x21          \t\t-8.3064\tespecially     \n",
      "\t-14.6422\t14x22          \t\t-8.3066\tmonday         \n",
      "\t-14.6422\t14x23          \t\t-8.3081\tyoutube        \n",
      "\t-14.6422\t14x24          \t\t-8.3088\tafternoon      \n",
      "\t-14.6422\t14x25          \t\t-8.3146\tfast           \n",
      "\t-14.6422\t14x26          \t\t-8.3150\tasking         \n",
      "\t-14.6422\t14x27          \t\t-8.3155\tanyways        \n",
      "\t-14.6422\t14x28          \t\t-8.3164\tadd            \n",
      "\t-14.6422\t14x29          \t\t-8.3174\tfact           \n",
      "\t-14.6422\t14x30          \t\t-8.3177\ttil            \n",
      "\t-14.6422\t14x31          \t\t-8.3184\tugly           \n",
      "\t-14.6422\t14x32          \t\t-8.3188\tnoo            \n",
      "\t-14.6422\t14x33          \t\t-8.3189\tkidding        \n",
      "\t-14.6422\t14x34          \t\t-8.3195\tcover          \n",
      "\t-14.6422\t14x35          \t\t-8.3196\thand           \n",
      "\t-14.6422\t14x36          \t\t-8.3219\tsave           \n",
      "\t-14.6422\t14x5           \t\t-8.3232\tawh            \n",
      "\t-14.6422\t1500va         \t\t-8.3278\tlouis          \n",
      "\t-14.6422\t1505           \t\t-8.3308\temail          \n",
      "\t-14.6422\t150mbps        \t\t-8.3333\tspend          \n",
      "\t-14.6422\t150ml          \t\t-8.3349\tpast           \n",
      "\t-14.6422\t150mm          \t\t-8.3364\tswear          \n",
      "\t-14.6422\t150n           \t\t-8.3375\tjune           \n",
      "\t-14.6422\t150w           \t\t-8.3382\tsmiling        \n",
      "\t-14.6422\t1517           \t\t-8.3385\twearing        \n",
      "\t-14.6422\t1520           \t\t-8.3425\tpay            \n",
      "\t-14.6422\t1521           \t\t-8.3428\twoman          \n",
      "\t-14.6422\t1522           \t\t-8.3455\tspeak          \n",
      "\t-14.6422\t1525           \t\t-8.3456\tyayy           \n",
      "\t-14.6422\t1526           \t\t-8.3473\twatched        \n",
      "\t-14.6422\t1532           \t\t-8.3476\tdeserve        \n",
      "\t-14.6422\t1546           \t\t-8.3502\tonline         \n",
      "\t-14.6422\t1550           \t\t-8.3504\t15             \n",
      "\t-14.6422\t1558           \t\t-8.3513\tenglish        \n",
      "\t-14.6422\t1560           \t\t-8.3518\trelationship   \n",
      "\t-14.6422\t1580           \t\t-8.3525\trock           \n",
      "\t-14.6422\t1590           \t\t-8.3543\ttown           \n",
      "\t-14.6422\t15a            \t\t-8.3606\thug            \n",
      "\t-14.6422\t15f            \t\t-8.3608\tquestion       \n",
      "\t-14.6422\t15g            \t\t-8.3630\tset            \n",
      "\t-14.6422\t15in           \t\t-8.3630\tmum            \n",
      "\t-14.6422\t15m            \t\t-8.3658\thuge           \n",
      "\t-14.6422\t15mm           \t\t-8.3664\tstrong         \n",
      "\t-14.6422\t15oz           \t\t-8.3676\tchocolate      \n",
      "\t-14.6422\t15pin          \t\t-8.3711\tdrive          \n",
      "\t-14.6422\t15r            \t\t-8.3727\tsleeping       \n",
      "\t-14.6422\t15x16          \t\t-8.3737\tworries        \n",
      "\t-14.6422\t15x17          \t\t-8.3738\tkill           \n",
      "\t-14.6422\t15x18          \t\t-8.3742\ttrack          \n",
      "\t-14.6422\t15x19          \t\t-8.3743\tabsolutely     \n",
      "\t-14.6422\t15x20          \t\t-8.3754\thappens        \n",
      "\t-14.6422\t15x21          \t\t-8.3761\tgunna          \n",
      "\t-14.6422\t15x22          \t\t-8.3814\tround          \n",
      "\t-14.6422\t15x23          \t\t-8.3822\tsmartnokialumia\n",
      "\t-14.6422\t15x24          \t\t-8.3828\tblack          \n",
      "\t-14.6422\t15x25          \t\t-8.3835\tinterview      \n",
      "\t-14.6422\t15x26          \t\t-8.3842\teh             \n",
      "\t-14.6422\t15x27          \t\t-8.3853\tchanged        \n",
      "\t-14.6422\t15x28          \t\t-8.3858\t1st            \n",
      "\t-14.6422\t15x29          \t\t-8.3885\tblog           \n",
      "\t-14.6422\t15x30          \t\t-8.3965\timagine        \n",
      "\t-14.6422\t15x31          \t\t-8.3970\tlie            \n",
      "\t-14.6422\t15x32          \t\t-8.3984\tdog            \n",
      "\t-14.6422\t15x33          \t\t-8.3999\tlooked         \n",
      "\t-14.6422\t15x34          \t\t-8.4017\tsad            \n",
      "\t-14.6422\t15x35          \t\t-8.4026\tfinish         \n",
      "\t-14.6422\t15x36          \t\t-8.4054\tfav            \n",
      "\t-14.6422\t1600mah        \t\t-8.4070\tcity           \n",
      "\t-14.6422\t1604           \t\t-8.4070\thehehe         \n",
      "\t-14.6422\t160gb          \t\t-8.4085\tsitting        \n",
      "\t-14.6422\t160mm          \t\t-8.4108\trunning        \n",
      "\t-14.6422\t1610           \t\t-8.4123\tsick           \n",
      "\t-14.6422\t1611           \t\t-8.4168\tluv            \n",
      "\t-14.6422\t1613           \t\t-8.4179\tive            \n",
      "\t-14.6422\t1633           \t\t-8.4185\ttea            \n",
      "\t-14.6422\t1634           \t\t-8.4200\tuk             \n",
      "\t-14.6422\t1640           \t\t-8.4231\thoping         \n",
      "\t-14.6422\t1641           \t\t-8.4239\tenjoying       \n",
      "\t-14.6422\t1650           \t\t-8.4252\tcountry        \n",
      "\t-14.6422\t16550          \t\t-8.4258\tgift           \n",
      "\t-14.6422\t1660           \t\t-8.4261\tpass           \n",
      "\t-14.6422\t1662           \t\t-8.4267\tweed           \n",
      "\t-14.6422\t1663           \t\t-8.4285\taf             \n",
      "\t-14.6422\t1664           \t\t-8.4322\tcream          \n",
      "\t-14.6422\t1665           \t\t-8.4323\tplans          \n",
      "\t-14.6422\t1667           \t\t-8.4344\tkno            \n",
      "\t-14.6422\t1668           \t\t-8.4363\tcutest         \n",
      "\t-14.6422\t1669           \t\t-8.4404\tband           \n",
      "\t-14.6422\t1669751        \t\t-8.4456\tlondon         \n",
      "\t-14.6422\t1680           \t\t-8.4476\tdirectioners   \n",
      "\t-14.6422\t168pin         \t\t-8.4492\tshort          \n",
      "\t-14.6422\t1690           \t\t-8.4584\tyoure          \n",
      "\t-14.6422\t16950          \t\t-8.4586\tsmart          \n",
      "\t-14.6422\t16awg          \t\t-8.4587\tself           \n",
      "\t-14.6422\t16b            \t\t-8.4606\tenjoyed        \n",
      "\t-14.6422\t16ft           \t\t-8.4668\tcutie          \n",
      "\t-14.6422\t16in           \t\t-8.4672\tnf             \n",
      "\t-14.6422\t16lbs          \t\t-8.4701\tpleasure       \n",
      "\t-14.6422\t16mb           \t\t-8.4708\tsit            \n",
      "\t-14.6422\t16mm           \t\t-8.4735\tdick           \n",
      "\t-14.6422\t16mp           \t\t-8.4773\tliving         \n",
      "\t-14.6422\t16mx64         \t\t-8.4829\tasleep         \n",
      "\t-14.6422\t16pt           \t\t-8.4834\tapril          \n",
      "\t-14.6422\t16v            \t\t-8.4836\ttelling        \n",
      "\t-14.6422\t16w            \t\t-8.4842\tteacher        \n",
      "\t-14.6422\t16x1           \t\t-8.4854\tlord           \n",
      "\t-14.6422\t16x125mm       \t\t-8.4867\tboss           \n",
      "\t-14.6422\t16x16          \t\t-8.4875\tsweetie        \n",
      "\t-14.6422\t16x17          \t\t-8.4893\tshes           \n",
      "\t-14.6422\t16x18          \t\t-8.4898\tcongratulations\n",
      "\t-14.6422\t16x19          \t\t-8.4918\tfight          \n",
      "\t-14.6422\t16x20          \t\t-8.4922\tlaughing       \n",
      "\t-14.6422\t16x21          \t\t-8.4995\twinning        \n",
      "\t-14.6422\t16x22          \t\t-8.5000\thonestly       \n",
      "\t-14.6422\t16x23          \t\t-8.5013\tgay            \n",
      "\t-14.6422\t16x24          \t\t-8.5030\tchat           \n",
      "\t-14.6422\t16x25          \t\t-8.5042\ttouch          \n",
      "\t-14.6422\t16x26          \t\t-8.5048\tfat            \n",
      "\t-14.6422\t16x27          \t\t-8.5056\tdeal           \n",
      "\t-14.6422\t16x28          \t\t-8.5069\tplus           \n",
      "\t-14.6422\t16x29          \t\t-8.5097\troll           \n",
      "\t-14.6422\t16x30          \t\t-8.5100\tawe            \n",
      "\t-14.6422\t16x31          \t\t-8.5128\tsign           \n",
      "\t-14.6422\t16x32          \t\t-8.5130\tstraight       \n",
      "\t-14.6422\t16x33          \t\t-8.5180\tumm            \n",
      "\t-14.6422\t16x34          \t\t-8.5200\tshoes          \n",
      "\t-14.6422\t16x35          \t\t-8.5207\tid             \n",
      "\t-14.6422\t16x36          \t\t-8.5215\ttht            \n",
      "\t-14.6422\t16x8           \t\t-8.5227\tyolo           \n",
      "\t-14.6422\t1701           \t\t-8.5229\twife           \n",
      "\t-14.6422\t17015          \t\t-8.5236\tmama           \n",
      "\t-14.6422\t17041          \t\t-8.5246\tstudy          \n",
      "\t-14.6422\t17093          \t\t-8.5264\tdie            \n",
      "\t-14.6422\t17096          \t\t-8.5269\twat            \n",
      "\t-14.6422\t1710           \t\t-8.5294\tjoke           \n",
      "\t-14.6422\t1712           \t\t-8.5295\tsurprise       \n",
      "\t-14.6422\t1719           \t\t-8.5302\tplz            \n",
      "\t-14.6422\t1720           \t\t-8.5306\thurt           \n",
      "\t-14.6422\t1721           \t\t-8.5324\tbiggest        \n",
      "\t-14.6422\t17273          \t\t-8.5349\tidol           \n",
      "\t-14.6422\t1730           \t\t-8.5350\ttype           \n",
      "\t-14.6422\t1738           \t\t-8.5387\ttumblr         \n",
      "\t-14.6422\t1740           \t\t-8.5388\ttaken          \n",
      "\t-14.6422\t1754           \t\t-8.5390\tparents        \n",
      "\t-14.6422\t175mm          \t\t-8.5390\tlight          \n",
      "\t-14.6422\t1760           \t\t-8.5422\thands          \n",
      "\t-14.6422\t1760686        \t\t-8.5449\ttexting        \n",
      "\t-14.6422\t1765           \t\t-8.5460\tblue           \n",
      "\t-14.6422\t1770           \t\t-8.5467\twalking        \n",
      "\t-14.6422\t1771           \t\t-8.5498\tgettin         \n",
      "\t-14.6422\t1776           \t\t-8.5499\texam           \n",
      "\t-14.6422\t1778           \t\t-8.5503\tbutt           \n",
      "\t-14.6422\t1780           \t\t-8.5516\ttl             \n",
      "\t-14.6422\t1787           \t\t-8.5552\twater          \n",
      "\t-14.6422\t1791           \t\t-8.5552\tyaa            \n",
      "\t-14.6422\t1792           \t\t-8.5593\tsmh            \n",
      "\t-14.6422\t1793           \t\t-8.5604\tpositive       \n",
      "\t-14.6422\t1794           \t\t-8.5628\ttried          \n",
      "\t-14.6422\t1798           \t\t-8.5632\tmarry          \n",
      "\t-14.6422\t17c            \t\t-8.5641\twednesday      \n",
      "\t-14.6422\t17g            \t\t-8.5642\tchicken        \n",
      "\t-14.6422\t17in           \t\t-8.5659\tpark           \n",
      "\t-14.6422\t17oz           \t\t-8.5664\thahahah        \n",
      "\t-14.6422\t17x17          \t\t-8.5691\thappened       \n",
      "\t-14.6422\t17x18          \t\t-8.5697\tradio          \n",
      "\t-14.6422\t17x19          \t\t-8.5706\ttuesday        \n",
      "\t-14.6422\t17x20          \t\t-8.5720\thahaa          \n",
      "\t-14.6422\t17x21          \t\t-8.5729\tclub           \n",
      "\t-14.6422\t17x22          \t\t-8.5740\thugs           \n",
      "\t-14.6422\t17x23          \t\t-8.5741\tearlier        \n",
      "\t-14.6422\t17x24          \t\t-8.5761\t18             \n",
      "\t-14.6422\t17x25          \t\t-8.5768\tsmall          \n",
      "\t-14.6422\t17x26          \t\t-8.5772\tcold           \n",
      "\t-14.6422\t17x27          \t\t-8.5773\tdat            \n",
      "\t-14.6422\t17x28          \t\t-8.5777\tpussy          \n",
      "\t-14.6422\t17x29          \t\t-8.5781\tcos            \n",
      "\t-14.6422\t17x30          \t\t-8.5788\tepisode        \n",
      "\t-14.6422\t17x31          \t\t-8.5808\tthinks         \n",
      "\t-14.6422\t17x32          \t\t-8.5810\tahead          \n",
      "\t-14.6422\t17x33          \t\t-8.5820\tfantastic      \n",
      "\t-14.6422\t17x34          \t\t-8.5835\tfrench         \n",
      "\t-14.6422\t17x35          \t\t-8.5870\thilarious      \n",
      "\t-14.6422\t17x36          \t\t-8.5880\tcase           \n",
      "\t-14.6422\t1800mah        \t\t-8.5896\tchelsea        \n",
      "\t-14.6422\t1800s          \t\t-8.5916\tdriving        \n",
      "\t-14.6422\t1801           \t\t-8.5953\taustralia      \n",
      "\t-14.6422\t1802           \t\t-8.5974\tsir            \n",
      "\t-14.6422\t1803           \t\t-8.5996\thoney          \n",
      "\t-14.6422\t1805           \t\t-8.6026\tofficially     \n",
      "\t-14.6422\t1806           \t\t-8.6034\tdnt            \n",
      "\t-14.6422\t1808           \t\t-8.6043\tphilippines    \n",
      "\t-14.6422\t1809           \t\t-8.6061\twaking         \n",
      "\t-14.6422\t180gm          \t\t-8.6083\tdancing        \n",
      "\t-14.6422\t180mm          \t\t-8.6121\tcantsayno      \n",
      "\t-14.6422\t1811           \t\t-8.6122\tconversation   \n",
      "\t-14.6422\t1812           \t\t-8.6124\t2012           \n",
      "\t-14.6422\t1813           \t\t-8.6136\tcut            \n",
      "\t-14.6422\t1814           \t\t-8.6152\tteamfollowback \n",
      "\t-14.6422\t1815           \t\t-8.6155\tdoin           \n",
      "\t-14.6422\t1817           \t\t-8.6166\thurry          \n",
      "\t-14.6422\t1820           \t\t-8.6169\tline           \n",
      "\t-14.6422\t1824           \t\t-8.6170\t2nd            \n",
      "\t-14.6422\t1825           \t\t-8.6193\tchris          \n",
      "\t-14.6422\t1826           \t\t-8.6205\tvideos         \n",
      "\t-14.6422\t1828           \t\t-8.6210\tdoe            \n",
      "\t-14.6422\t1829           \t\t-8.6223\ttexts          \n",
      "\t-14.6422\t1830           \t\t-8.6247\ttreat          \n",
      "\t-14.6422\t1831           \t\t-8.6267\tbio            \n",
      "\t-14.6422\t1834           \t\t-8.6271\thoe            \n",
      "\t-14.6422\t1835           \t\t-8.6273\tleaving        \n",
      "\t-14.6422\t1836           \t\t-8.6277\tnails          \n",
      "\t-14.6422\t1837           \t\t-8.6308\tact            \n",
      "\t-14.6422\t1839           \t\t-8.6344\ticon           \n",
      "\t-14.6422\t1840           \t\t-8.6352\texciting       \n",
      "\t-14.6422\t1840s          \t\t-8.6364\tfootball       \n",
      "\t-14.6422\t1841           \t\t-8.6403\tclothes        \n",
      "\t-14.6422\t1842           \t\t-8.6416\thanging        \n",
      "\t-14.6422\t1844           \t\t-8.6419\tsecret         \n",
      "\t-14.6422\t1845           \t\t-8.6424\ttattoo         \n",
      "\t-14.6422\t1848           \t\t-8.6435\tfair           \n",
      "\t-14.6422\t1849           \t\t-8.6439\tcook           \n",
      "\t-14.6422\t184p           \t\t-8.6459\thandsome       \n",
      "\t-14.6422\t184pin         \t\t-8.6462\tpray           \n",
      "\t-14.6422\t18500          \t\t-8.6484\thuh            \n",
      "\t-14.6422\t1851           \t\t-8.6489\tate            \n",
      "\t-14.6422\t1853           \t\t-8.6507\tbaseball       \n",
      "\t-14.6422\t1854           \t\t-8.6517\tmissing        \n",
      "\t-14.6422\t1857           \t\t-8.6536\tsuck           \n",
      "\t-14.6422\t1858           \t\t-8.6552\tson            \n",
      "\t-14.6422\t1859           \t\t-8.6553\tobviously      \n",
      "\t-14.6422\t1860           \t\t-8.6567\tindonesia      \n",
      "\t-14.6422\t1861           \t\t-8.6591\tsimple         \n",
      "\t-14.6422\t1864           \t\t-8.6616\tawkward        \n",
      "\t-14.6422\t1865           \t\t-8.6640\tkick           \n",
      "\t-14.6422\t1867           \t\t-8.6652\ttha            \n",
      "\t-14.6422\t1868           \t\t-8.6658\tpaper          \n",
      "\t-14.6422\t1869           \t\t-8.6660\tstaying        \n",
      "\t-14.6422\t1870           \t\t-8.6660\tstand          \n",
      "\t-14.6422\t1870s          \t\t-8.6672\ttalked         \n",
      "\t-14.6422\t1873           \t\t-8.6678\tsmell          \n",
      "\t-14.6422\t1874           \t\t-8.6678\ttakes          \n",
      "\t-14.6422\t1875           \t\t-8.6689\ttaste          \n",
      "\t-14.6422\t1876           \t\t-8.6721\thes            \n",
      "\t-14.6422\t1877           \t\t-8.6725\timportant      \n",
      "\t-14.6422\t1878           \t\t-8.6731\tpizza          \n",
      "\t-14.6422\t1879           \t\t-8.6749\tpresent        \n",
      "\t-14.6422\t1882           \t\t-8.6756\tclean          \n",
      "\t-14.6422\t1883           \t\t-8.6758\tmall           \n",
      "\t-14.6422\t1884           \t\t-8.6764\tiphone         \n",
      "\t-14.6422\t1886           \t\t-8.6767\tteach          \n",
      "\t-14.6422\t1887           \t\t-8.6781\tbusiness       \n",
      "\t-14.6422\t1890           \t\t-8.6788\tprincess       \n",
      "\t-14.6422\t1890s          \t\t-8.6838\tposted         \n",
      "\t-14.6422\t1892           \t\t-8.6871\tproject        \n",
      "\t-14.6422\t1893           \t\t-8.6872\tsense          \n",
      "\t-14.6422\t1896           \t\t-8.6896\tattention      \n",
      "\t-14.6422\t1897           \t\t-8.6914\tcont           \n",
      "\t-14.6422\t1898           \t\t-8.6928\tdirectioner    \n",
      "\t-14.6422\t18awg          \t\t-8.6937\ttryna          \n",
      "\t-14.6422\t18cm           \t\t-8.6995\troad           \n",
      "\t-14.6422\t18f            \t\t-8.6999\twebsite        \n",
      "\t-14.6422\t18in           \t\t-8.7006\tminute         \n",
      "\t-14.6422\t18kt           \t\t-8.7010\tstarts         \n",
      "\t-14.6422\t18m            \t\t-8.7057\twomen          \n",
      "\t-14.6422\t18mm           \t\t-8.7060\tfollback       \n",
      "\t-14.6422\t18months       \t\t-8.7070\tplayed         \n",
      "\t-14.6422\t18oz           \t\t-8.7112\torder          \n",
      "\t-14.6422\t18v            \t\t-8.7114\tchillin        \n",
      "\t-14.6422\t18w            \t\t-8.7134\tfresh          \n",
      "\t-14.6422\t18x            \t\t-8.7139\taye            \n",
      "\t-14.6422\t18x18          \t\t-8.7156\tusing          \n",
      "\t-14.6422\t18x19          \t\t-8.7160\tphotos         \n",
      "\t-14.6422\t18x20          \t\t-8.7161\twriting        \n",
      "\t-14.6422\t18x21          \t\t-8.7168\tlose           \n",
      "\t-14.6422\t18x22          \t\t-8.7169\tpossible       \n",
      "\t-14.6422\t18x23          \t\t-8.7176\tfelt           \n",
      "\t-14.6422\t18x24          \t\t-8.7178\tstore          \n",
      "\t-14.6422\t18x25          \t\t-8.7183\tinside         \n",
      "\t-14.6422\t18x26          \t\t-8.7209\tinfo           \n",
      "\t-14.6422\t18x27          \t\t-8.7211\tbabes          \n",
      "\t-14.6422\t18x28          \t\t-8.7234\tlls            \n",
      "\t-14.6422\t18x29          \t\t-8.7244\tsomeday        \n",
      "\t-14.6422\t18x30          \t\t-8.7259\twild           \n",
      "\t-14.6422\t18x31          \t\t-8.7260\tayee           \n",
      "\t-14.6422\t18x32          \t\t-8.7264\tgoodluck       \n",
      "\t-14.6422\t18x33          \t\t-8.7272\tbutton         \n",
      "\t-14.6422\t18x34          \t\t-8.7288\tchoice         \n",
      "\t-14.6422\t18x35          \t\t-8.7295\tnormal         \n",
      "\t-14.6422\t18x36          \t\t-8.7324\tnoticed        \n",
      "\t-14.6422\t1900s          \t\t-8.7342\tfilm           \n",
      "\t-14.6422\t1901           \t\t-8.7345\tdrunk          \n",
      "\t-14.6422\t1904           \t\t-8.7392\tdef            \n",
      "\t-14.6422\t1905           \t\t-8.7392\tlookin         \n",
      "\t-14.6422\t1907           \t\t-8.7395\tmoving         \n",
      "\t-14.6422\t1910           \t\t-8.7402\tquick          \n",
      "\t-14.6422\t1913           \t\t-8.7404\tmen            \n",
      "\t-14.6422\t1918           \t\t-8.7407\tfake           \n",
      "\t-14.6422\t1919           \t\t-8.7447\tmatch          \n",
      "\t-14.6422\t1920x1080      \t\t-8.7448\tinspiration    \n",
      "\t-14.6422\t1921           \t\t-8.7458\tswag           \n",
      "\t-14.6422\t1925           \t\t-8.7459\tcount          \n",
      "\t-14.6422\t1926           \t\t-8.7463\tsmoking        \n",
      "\t-14.6422\t1931           \t\t-8.7474\tsat            \n",
      "\t-14.6422\t1933           \t\t-8.7479\tscared         \n",
      "\t-14.6422\t1934           \t\t-8.7480\tboring         \n",
      "\t-14.6422\t1935           \t\t-8.7489\tfinna          \n",
      "\t-14.6422\t1938           \t\t-8.7498\tskype          \n",
      "\t-14.6422\t1939           \t\t-8.7509\tappreciated    \n",
      "\t-14.6422\t1946           \t\t-8.7535\tball           \n",
      "\t-14.6422\t1951           \t\t-8.7546\textra          \n",
      "\t-14.6422\t1952           \t\t-8.7547\teye            \n",
      "\t-14.6422\t1954           \t\t-8.7587\tgroup          \n",
      "\t-14.6422\t1961           \t\t-8.7602\thappiness      \n",
      "\t-14.6422\t1965           \t\t-8.7610\tpo             \n",
      "\t-14.6422\t1968           \t\t-8.7647\tfly            \n",
      "\t-14.6422\t19c            \t\t-8.7653\tahah           \n",
      "\t-14.6422\t19v            \t\t-8.7663\tpants          \n",
      "\t-14.6422\t19x19          \t\t-8.7664\tstep           \n",
      "\t-14.6422\t19x20          \t\t-8.7683\twedding        \n",
      "\t-14.6422\t19x21          \t\t-8.7703\tshot           \n",
      "\t-14.6422\t19x22          \t\t-8.7714\t19             \n",
      "\t-14.6422\t19x23          \t\t-8.7718\t21             \n",
      "\t-14.6422\t19x24          \t\t-8.7721\thah            \n",
      "\t-14.6422\t19x25          \t\t-8.7721\tstar           \n",
      "\t-14.6422\t19x26          \t\t-8.7764\tchick          \n",
      "\t-14.6422\t19x27          \t\t-8.7767\twondering      \n",
      "\t-14.6422\t19x28          \t\t-8.7785\ttxt            \n",
      "\t-14.6422\t19x29          \t\t-8.7789\tniggas         \n",
      "\t-14.6422\t19x30          \t\t-8.7805\tyeaah          \n",
      "\t-14.6422\t19x31          \t\t-8.7825\tjesus          \n",
      "\t-14.6422\t19x32          \t\t-8.7837\tshoot          \n",
      "\t-14.6422\t19x33          \t\t-8.7842\tdirty          \n",
      "\t-14.6422\t19x34          \t\t-8.7851\tbeauty         \n",
      "\t-14.6422\t19x35          \t\t-8.7853\tdecided        \n",
      "\t-14.6422\t19x36          \t\t-8.7862\tslow           \n",
      "\t-14.6422\t1av            \t\t-8.7896\tepic           \n",
      "\t-14.6422\t1bas           \t\t-8.7916\tbieber         \n",
      "\t-14.6422\t1br            \t\t-8.7918\tticket         \n",
      "\t-14.6422\t1brs           \t\t-8.7919\tholiday        \n",
      "\t-14.6422\t1c             \t\t-8.7944\tfam            \n",
      "\t-14.6422\t1cream         \t\t-8.7950\tifindthatattractive\n",
      "\t-14.6422\t1daddanothermontrealdate\t\t-8.7962\tyaay           \n",
      "\t-14.6422\t1device        \t\t-8.7964\tmarried        \n",
      "\t-14.6422\t1dfansleavetheboysalone\t\t-8.7965\tkisses         \n",
      "\t-14.6422\t1directionindo \t\t-8.7976\tyummy          \n",
      "\t-14.6422\t1ea            \t\t-8.7980\tshows          \n",
      "\t-14.6422\t1ft            \t\t-8.7983\twarm           \n",
      "\t-14.6422\t1gbx2          \t\t-8.7989\tsharing        \n",
      "\t-14.6422\t1inc           \t\t-8.7990\tfab            \n",
      "\t-14.6422\t1link          \t\t-8.7997\tcup            \n",
      "\t-14.6422\t1mb            \t\t-8.8020\tmiddle         \n",
      "\t-14.6422\t1millionteamsats\t\t-8.8027\tperiod         \n",
      "\t-14.6422\t1ml            \t\t-8.8041\tbabies         \n",
      "\t-14.6422\t1mm            \t\t-8.8053\tdraw           \n",
      "\t-14.6422\t1pk            \t\t-8.8057\tworkout        \n",
      "\t-14.6422\t1prp           \t\t-8.8079\tnights         \n",
      "\t-14.6422\t1q             \t\t-8.8096\tannoying       \n",
      "\t-14.6422\t1r             \t\t-8.8117\tthankful       \n",
      "\t-14.6422\t1rank          \t\t-8.8125\tbrilliant      \n",
      "\t-14.6422\t1smoothch      \t\t-8.8129\tcalm           \n",
      "\t-14.6422\t1ty            \t\t-8.8136\thoes           \n",
      "\t-14.6422\t1us            \t\t-8.8139\tunless         \n",
      "\t-14.6422\t1v             \t\t-8.8142\tsmiles         \n",
      "\t-14.6422\t1wb3bk         \t\t-8.8143\tspanish        \n",
      "\t-14.6422\t1wb3oak        \t\t-8.8150\tbrought        \n",
      "\t-14.6422\t1x2gb          \t\t-8.8161\tsoccer         \n",
      "\t-14.6422\t1x4            \t\t-8.8172\tcat            \n",
      "\t-14.6422\t1x793          \t\t-8.8172\tsweetheart     \n",
      "\t-14.6422\t1x793a00       \t\t-8.8176\tthrow          \n",
      "\t-14.6422\t1yearmyworldtourindonesia\t\t-8.8186\tdrop           \n",
      "\t-14.6422\t1yo            \t\t-8.8196\tadvice         \n",
      "\t-14.6422\t1z0            \t\t-8.8198\tchoose         \n",
      "\t-14.6422\t2008media      \t\t-8.8199\tgreen          \n",
      "\t-14.6422\t2009media      \t\t-8.8200\tspot           \n",
      "\t-14.6422\t200ash105      \t\t-8.8203\tchilling       \n",
      "\t-14.6422\t200ash216      \t\t-8.8203\tclasses        \n",
      "\t-14.6422\t200ashbk       \t\t-8.8205\tka             \n",
      "\t-14.6422\t200ashch       \t\t-8.8259\tpm             \n",
      "\t-14.6422\t200ashgr       \t\t-8.8263\tcrush          \n",
      "\t-14.6422\t200ashww       \t\t-8.8280\thelping        \n",
      "\t-14.6422\t200c           \t\t-8.8281\t50             \n",
      "\t-14.6422\t200g           \t\t-8.8286\texpect         \n",
      "\t-14.6422\t200mah         \t\t-8.8295\tsa             \n",
      "\t-14.6422\t200mbps        \t\t-8.8296\t16             \n",
      "\t-14.6422\t200mg          \t\t-8.8304\tconvo          \n",
      "\t-14.6422\t200ml          \t\t-8.8321\tspending       \n",
      "\t-14.6422\t200mm          \t\t-8.8322\trespect        \n",
      "\t-14.6422\t200p           \t\t-8.8326\tair            \n",
      "\t-14.6422\t200pin         \t\t-8.8327\tshop           \n",
      "\t-14.6422\t200ppm         \t\t-8.8330\tbff            \n",
      "\t-14.6422\t200r           \t\t-8.8335\tunfollow       \n",
      "\t-14.6422\t200w           \t\t-8.8337\tbf             \n",
      "\t-14.6422\t200x           \t\t-8.8338\tlazy           \n",
      "\t-14.6422\t200xpvista     \t\t-8.8340\ttruly          \n",
      "\t-14.6422\t2025bp         \t\t-8.8345\tcalling        \n"
     ]
    }
   ],
   "source": [
    "show_most_informative_features(tfidf_vectorizer, clf, n=1000)"
   ]
  },
  {
   "cell_type": "markdown",
   "metadata": {
    "collapsed": true
   },
   "source": [
    "## K fold Cross validation"
   ]
  },
  {
   "cell_type": "code",
   "execution_count": 33,
   "metadata": {
    "collapsed": false
   },
   "outputs": [
    {
     "name": "stdout",
     "output_type": "stream",
     "text": [
      "0.779766070884\n"
     ]
    }
   ],
   "source": [
    "cv = cross_validation_KFold(tweets.shape[0], shuffle = True, n_folds=2, random_state=4)\n",
    "tfidf_vectorizer = TfidfVectorizer(ngram_range=(1, 2),min_df=5, max_df = 0.8, sublinear_tf=True, use_idf=True, stop_words=my_stop_words)\n",
    "tfidf_train_vectors = tfidf_vectorizer.fit_transform(tweets['tweet'])\n",
    "clf = MultinomialNB()\n",
    "avg_test_accuracy = np.mean(cross_val_score(clf, tfidf_train_vectors, tweets['sentiment'], cv=cv, scoring='accuracy'))\n",
    "print(avg_test_accuracy)"
   ]
  },
  {
   "cell_type": "code",
   "execution_count": null,
   "metadata": {
    "collapsed": true
   },
   "outputs": [],
   "source": []
  },
  {
   "cell_type": "code",
   "execution_count": null,
   "metadata": {
    "collapsed": true
   },
   "outputs": [],
   "source": []
  },
  {
   "cell_type": "markdown",
   "metadata": {},
   "source": [
    "### SVM"
   ]
  },
  {
   "cell_type": "code",
   "execution_count": 34,
   "metadata": {
    "collapsed": false
   },
   "outputs": [],
   "source": [
    "# classifier_linear = svm.SVC(kernel='linear')\n",
    "# classifier_linear.fit(tfidf_train_vectors, y_train)\n",
    "# prediction_linear = classifier_linear.predict(tfidf_test_vectors)\n",
    "# prediction_linear.shape"
   ]
  },
  {
   "cell_type": "code",
   "execution_count": null,
   "metadata": {
    "collapsed": false
   },
   "outputs": [],
   "source": [
    "# print(classification_report(y_test, prediction_linear))\n",
    "# print(accuracy_score(y_test,prediction_bayes))"
   ]
  },
  {
   "cell_type": "markdown",
   "metadata": {},
   "source": [
    "## Learning curves"
   ]
  },
  {
   "cell_type": "markdown",
   "metadata": {},
   "source": [
    "### Naive Bayes"
   ]
  },
  {
   "cell_type": "code",
   "execution_count": null,
   "metadata": {
    "collapsed": false
   },
   "outputs": [],
   "source": [
    "tfidf_vectorizer = TfidfVectorizer(ngram_range=(1, 2),min_df=5, max_df = 0.8, sublinear_tf=True, use_idf=True, stop_words=my_stop_words)\n",
    "tfidf_train_vectors = tfidf_vectorizer.fit_transform(tweets['tweet'])\n",
    "clf = MultinomialNB()\n",
    "cv = cross_validation_KFold(tweets.shape[0],shuffle = True, n_folds=5, random_state=4)\n",
    "plot_learning_curve(clf, 'Learning Curve - Naive Bayes', tfidf_train_vectors, tweets['sentiment'], cv=cv)\n",
    "plt.show()"
   ]
  },
  {
   "cell_type": "markdown",
   "metadata": {},
   "source": [
    "## Write results to file"
   ]
  },
  {
   "cell_type": "code",
   "execution_count": null,
   "metadata": {
    "collapsed": false
   },
   "outputs": [],
   "source": [
    "pred_file = 'pred_submission.csv'\n",
    "create_csv_submission(prediction_bayes, data_path+pred_file)"
   ]
  },
  {
   "cell_type": "code",
   "execution_count": null,
   "metadata": {
    "collapsed": true
   },
   "outputs": [],
   "source": []
  },
  {
   "cell_type": "code",
   "execution_count": null,
   "metadata": {
    "collapsed": true
   },
   "outputs": [],
   "source": []
  },
  {
   "cell_type": "code",
   "execution_count": null,
   "metadata": {
    "collapsed": true
   },
   "outputs": [],
   "source": []
  },
  {
   "cell_type": "markdown",
   "metadata": {},
   "source": [
    "## Test Code"
   ]
  },
  {
   "cell_type": "code",
   "execution_count": null,
   "metadata": {
    "collapsed": false
   },
   "outputs": [],
   "source": [
    "from nltk.corpus import brown\n",
    "len(brown.words())"
   ]
  },
  {
   "cell_type": "code",
   "execution_count": null,
   "metadata": {
    "collapsed": true
   },
   "outputs": [],
   "source": []
  }
 ],
 "metadata": {
  "anaconda-cloud": {},
  "kernelspec": {
   "display_name": "Python 3",
   "language": "python",
   "name": "python3"
  },
  "language_info": {
   "codemirror_mode": {
    "name": "ipython",
    "version": 3
   },
   "file_extension": ".py",
   "mimetype": "text/x-python",
   "name": "python",
   "nbconvert_exporter": "python",
   "pygments_lexer": "ipython3",
   "version": "3.5.2"
  }
 },
 "nbformat": 4,
 "nbformat_minor": 1
}
