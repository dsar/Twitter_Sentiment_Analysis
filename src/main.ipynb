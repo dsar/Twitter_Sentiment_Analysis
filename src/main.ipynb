{
 "cells": [
  {
   "cell_type": "markdown",
   "metadata": {},
   "source": [
    "# Twitter Sentiment Analysis"
   ]
  },
  {
   "cell_type": "markdown",
   "metadata": {},
   "source": [
    "### Parameters"
   ]
  },
  {
   "cell_type": "code",
   "execution_count": 1,
   "metadata": {
    "collapsed": false
   },
   "outputs": [],
   "source": [
    "from options import *"
   ]
  },
  {
   "cell_type": "markdown",
   "metadata": {},
   "source": [
    "## Import Libraries"
   ]
  },
  {
   "cell_type": "code",
   "execution_count": 2,
   "metadata": {
    "collapsed": false
   },
   "outputs": [],
   "source": [
    "import numpy as np\n",
    "import pandas as pd\n",
    "%matplotlib inline"
   ]
  },
  {
   "cell_type": "markdown",
   "metadata": {},
   "source": [
    "#### Utils"
   ]
  },
  {
   "cell_type": "code",
   "execution_count": 3,
   "metadata": {
    "collapsed": false
   },
   "outputs": [],
   "source": [
    "from utils import *"
   ]
  },
  {
   "cell_type": "markdown",
   "metadata": {},
   "source": [
    "#### Plots"
   ]
  },
  {
   "cell_type": "code",
   "execution_count": 4,
   "metadata": {
    "collapsed": true
   },
   "outputs": [],
   "source": [
    "from plots import *"
   ]
  },
  {
   "cell_type": "markdown",
   "metadata": {},
   "source": [
    "#### Data Preprocessing"
   ]
  },
  {
   "cell_type": "code",
   "execution_count": 5,
   "metadata": {
    "collapsed": false
   },
   "outputs": [],
   "source": [
    "from preprocessing import *"
   ]
  },
  {
   "cell_type": "markdown",
   "metadata": {},
   "source": [
    "#### Feature Extraction"
   ]
  },
  {
   "cell_type": "code",
   "execution_count": 6,
   "metadata": {
    "collapsed": false
   },
   "outputs": [],
   "source": [
    "from sklearn.feature_extraction.text import TfidfVectorizer\n",
    "from sklearn.feature_extraction.text import CountVectorizer\n",
    "from sklearn.metrics import classification_report\n",
    "from sklearn.metrics import accuracy_score\n",
    "\n",
    "from sklearn.model_selection import train_test_split\n",
    "\n",
    "from vectorizer import init_tfidf_vectorizer"
   ]
  },
  {
   "cell_type": "markdown",
   "metadata": {},
   "source": [
    "#### Cross validation"
   ]
  },
  {
   "cell_type": "code",
   "execution_count": 7,
   "metadata": {
    "collapsed": false
   },
   "outputs": [
    {
     "name": "stderr",
     "output_type": "stream",
     "text": [
      "C:\\Anaconda3\\lib\\site-packages\\sklearn\\cross_validation.py:44: DeprecationWarning: This module was deprecated in version 0.18 in favor of the model_selection module into which all the refactored classes and functions are moved. Also note that the interface of the new CV iterators are different from that of this module. This module will be removed in 0.20.\n",
      "  \"This module will be removed in 0.20.\", DeprecationWarning)\n"
     ]
    }
   ],
   "source": [
    "from cross_validation import *"
   ]
  },
  {
   "cell_type": "markdown",
   "metadata": {},
   "source": [
    "#### Machine Learning"
   ]
  },
  {
   "cell_type": "code",
   "execution_count": 8,
   "metadata": {
    "collapsed": true
   },
   "outputs": [],
   "source": [
    "from sklearn.naive_bayes import MultinomialNB, GaussianNB, BernoulliNB\n",
    "from sklearn import svm\n",
    "from sklearn.ensemble import RandomForestClassifier"
   ]
  },
  {
   "cell_type": "markdown",
   "metadata": {},
   "source": [
    "#### Options"
   ]
  },
  {
   "cell_type": "code",
   "execution_count": 9,
   "metadata": {
    "collapsed": true
   },
   "outputs": [],
   "source": [
    "pd.options.mode.chained_assignment = None"
   ]
  },
  {
   "cell_type": "markdown",
   "metadata": {},
   "source": [
    "## Load Data"
   ]
  },
  {
   "cell_type": "markdown",
   "metadata": {},
   "source": [
    "### Train Data"
   ]
  },
  {
   "cell_type": "code",
   "execution_count": 10,
   "metadata": {
    "collapsed": false
   },
   "outputs": [],
   "source": [
    "pos_tweets = pd.read_table(DATA_PATH+POS_TWEETS_FILE, names=['tweet','sentiment'])\n",
    "pos_tweets['sentiment'] = 'pos'\n",
    "neg_tweets = pd.read_table(DATA_PATH+NEG_TWEETS_FILE ,names=['tweet','sentiment'])\n",
    "neg_tweets['sentiment'] = 'neg'"
   ]
  },
  {
   "cell_type": "code",
   "execution_count": 11,
   "metadata": {
    "collapsed": false
   },
   "outputs": [],
   "source": [
    "# pos_tweets.head()"
   ]
  },
  {
   "cell_type": "code",
   "execution_count": 12,
   "metadata": {
    "collapsed": false
   },
   "outputs": [],
   "source": [
    "# neg_tweets.head()"
   ]
  },
  {
   "cell_type": "code",
   "execution_count": 13,
   "metadata": {
    "collapsed": false
   },
   "outputs": [
    {
     "name": "stdout",
     "output_type": "stream",
     "text": [
      "positive tweets shape:  (971, 2)\n",
      "negative tweets shape:  (947, 2)\n"
     ]
    }
   ],
   "source": [
    "print('positive tweets shape: ',pos_tweets.shape)\n",
    "print('negative tweets shape: ',neg_tweets.shape)"
   ]
  },
  {
   "cell_type": "code",
   "execution_count": 14,
   "metadata": {
    "collapsed": false
   },
   "outputs": [
    {
     "data": {
      "text/plain": [
       "(1918, 2)"
      ]
     },
     "execution_count": 14,
     "metadata": {},
     "output_type": "execute_result"
    }
   ],
   "source": [
    "tweets = pd.concat([pos_tweets, neg_tweets], axis=0)\n",
    "tweets.shape"
   ]
  },
  {
   "cell_type": "code",
   "execution_count": 15,
   "metadata": {
    "collapsed": false
   },
   "outputs": [],
   "source": [
    "# tweets.head()"
   ]
  },
  {
   "cell_type": "code",
   "execution_count": 16,
   "metadata": {
    "collapsed": false
   },
   "outputs": [],
   "source": [
    "# tweets.tail()"
   ]
  },
  {
   "cell_type": "markdown",
   "metadata": {},
   "source": [
    "### Test Data"
   ]
  },
  {
   "cell_type": "code",
   "execution_count": 17,
   "metadata": {
    "collapsed": false
   },
   "outputs": [
    {
     "data": {
      "text/html": [
       "<div>\n",
       "<table border=\"1\" class=\"dataframe\">\n",
       "  <thead>\n",
       "    <tr style=\"text-align: right;\">\n",
       "      <th></th>\n",
       "      <th>tweet</th>\n",
       "      <th>sentiment</th>\n",
       "    </tr>\n",
       "  </thead>\n",
       "  <tbody>\n",
       "    <tr>\n",
       "      <th>0</th>\n",
       "      <td>sea doo pro sea scooter ( sports with the port...</td>\n",
       "      <td>NaN</td>\n",
       "    </tr>\n",
       "    <tr>\n",
       "      <th>1</th>\n",
       "      <td>&lt;user&gt; shucks well i work all week so now i ca...</td>\n",
       "      <td>NaN</td>\n",
       "    </tr>\n",
       "    <tr>\n",
       "      <th>2</th>\n",
       "      <td>i cant stay away from bug thats my baby</td>\n",
       "      <td>NaN</td>\n",
       "    </tr>\n",
       "    <tr>\n",
       "      <th>3</th>\n",
       "      <td>&lt;user&gt; no ma'am ! ! ! lol im perfectly fine an...</td>\n",
       "      <td>NaN</td>\n",
       "    </tr>\n",
       "    <tr>\n",
       "      <th>4</th>\n",
       "      <td>whenever i fall asleep watching the tv , i alw...</td>\n",
       "      <td>NaN</td>\n",
       "    </tr>\n",
       "  </tbody>\n",
       "</table>\n",
       "</div>"
      ],
      "text/plain": [
       "                                               tweet  sentiment\n",
       "0  sea doo pro sea scooter ( sports with the port...        NaN\n",
       "1  <user> shucks well i work all week so now i ca...        NaN\n",
       "2            i cant stay away from bug thats my baby        NaN\n",
       "3  <user> no ma'am ! ! ! lol im perfectly fine an...        NaN\n",
       "4  whenever i fall asleep watching the tv , i alw...        NaN"
      ]
     },
     "execution_count": 17,
     "metadata": {},
     "output_type": "execute_result"
    }
   ],
   "source": [
    "test_tweets = pd.read_table(DATA_PATH+TEST_TWEETS_FILE, names=['tweet','sentiment'])\n",
    "test_tweets['tweet'] = test_tweets.apply(lambda tweet: remove_tweet_id(tweet['tweet']), axis=1)\n",
    "test_tweets.head()"
   ]
  },
  {
   "cell_type": "markdown",
   "metadata": {},
   "source": [
    "## Tweets Preprocessing"
   ]
  },
  {
   "cell_type": "markdown",
   "metadata": {},
   "source": [
    "### Part of speech tagging"
   ]
  },
  {
   "cell_type": "code",
   "execution_count": 18,
   "metadata": {
    "collapsed": true
   },
   "outputs": [],
   "source": [
    "# tweets['tagged'] = tweets.apply(lambda tweet: pos_tag(tweet['tweet']), axis=1)"
   ]
  },
  {
   "cell_type": "code",
   "execution_count": 19,
   "metadata": {
    "collapsed": false,
    "scrolled": true
   },
   "outputs": [
    {
     "name": "stdout",
     "output_type": "stream",
     "text": [
      "Preprocessing Settings:\n",
      "\n",
      "fuser :\t True\n",
      "fhashtag :\t True\n",
      "fpunctuation :\t True\n",
      "furl :\t True\n",
      "fduplicates :\t True\n",
      "frepeated_chars :\t True\n",
      "fsmall_words :\t True\n",
      "fdigits :\t True\n",
      "save :\t False\n",
      "-\n",
      "\n",
      "Tweets Preprocessing for the Training set started\n",
      "\n",
      "\n",
      "There is no cached file for preprocessed tweets\n",
      "\n",
      "Number of tweets before duplicates removal:\t 1918\n",
      "Number of tweets after duplicates removal:\t 1791\n",
      "Duplicates removal DONE\n",
      "Repeated characters filtering DONE\n",
      "Punctuation filtering DONE\n",
      "User filtering DONE\n",
      "Url filtering DONE\n",
      "Hashtag filtering DONE\n",
      "Digits DONE\n",
      "Small words filtering DONE\n",
      "\n",
      " Preprocessed tweets did not saved...\n",
      "\n",
      "Tweets Preprocessing have been successfully finished!\n"
     ]
    }
   ],
   "source": [
    "tweets = preprocessing(tweets,train=True, params=preprocessing_params)"
   ]
  },
  {
   "cell_type": "markdown",
   "metadata": {},
   "source": [
    "### Tweets final representation"
   ]
  },
  {
   "cell_type": "code",
   "execution_count": 20,
   "metadata": {
    "collapsed": false,
    "scrolled": true
   },
   "outputs": [
    {
     "data": {
      "text/html": [
       "<div>\n",
       "<table border=\"1\" class=\"dataframe\">\n",
       "  <thead>\n",
       "    <tr style=\"text-align: right;\">\n",
       "      <th></th>\n",
       "      <th>tweet</th>\n",
       "      <th>sentiment</th>\n",
       "    </tr>\n",
       "  </thead>\n",
       "  <tbody>\n",
       "    <tr>\n",
       "      <th>0</th>\n",
       "      <td>dunno justin read mention not only justin and ...</td>\n",
       "      <td>pos</td>\n",
       "    </tr>\n",
       "    <tr>\n",
       "      <th>1</th>\n",
       "      <td>because your logic dumb won even crop out your...</td>\n",
       "      <td>pos</td>\n",
       "    </tr>\n",
       "    <tr>\n",
       "      <th>2</th>\n",
       "      <td>just put casper box looved the battle crakkbitch</td>\n",
       "      <td>pos</td>\n",
       "    </tr>\n",
       "    <tr>\n",
       "      <th>3</th>\n",
       "      <td>thanks sir don trip lil mama just keep doin thang</td>\n",
       "      <td>pos</td>\n",
       "    </tr>\n",
       "    <tr>\n",
       "      <th>4</th>\n",
       "      <td>visiting brother tmr the bestest birthday gift...</td>\n",
       "      <td>pos</td>\n",
       "    </tr>\n",
       "    <tr>\n",
       "      <th>5</th>\n",
       "      <td>yay lifecompleted tweet facebook let know please</td>\n",
       "      <td>pos</td>\n",
       "    </tr>\n",
       "    <tr>\n",
       "      <th>6</th>\n",
       "      <td>dnextalbumtitle feel for you rollercoaster lif...</td>\n",
       "      <td>pos</td>\n",
       "    </tr>\n",
       "    <tr>\n",
       "      <th>7</th>\n",
       "      <td>workin hard hardly workin hardee with future c...</td>\n",
       "      <td>pos</td>\n",
       "    </tr>\n",
       "    <tr>\n",
       "      <th>8</th>\n",
       "      <td>saw replying bit</td>\n",
       "      <td>pos</td>\n",
       "    </tr>\n",
       "    <tr>\n",
       "      <th>9</th>\n",
       "      <td>this were belong</td>\n",
       "      <td>pos</td>\n",
       "    </tr>\n",
       "    <tr>\n",
       "      <th>10</th>\n",
       "      <td>andd cheer nationals</td>\n",
       "      <td>pos</td>\n",
       "    </tr>\n",
       "    <tr>\n",
       "      <th>11</th>\n",
       "      <td>send invitation shop line here you will find e...</td>\n",
       "      <td>pos</td>\n",
       "    </tr>\n",
       "    <tr>\n",
       "      <th>12</th>\n",
       "      <td>just woke finna church</td>\n",
       "      <td>pos</td>\n",
       "    </tr>\n",
       "    <tr>\n",
       "      <th>13</th>\n",
       "      <td>agreed more days left tho</td>\n",
       "      <td>pos</td>\n",
       "    </tr>\n",
       "    <tr>\n",
       "      <th>14</th>\n",
       "      <td>monet with katemelo</td>\n",
       "      <td>pos</td>\n",
       "    </tr>\n",
       "    <tr>\n",
       "      <th>15</th>\n",
       "      <td>like damm lexis got lot say when twitter lol</td>\n",
       "      <td>pos</td>\n",
       "    </tr>\n",
       "    <tr>\n",
       "      <th>16</th>\n",
       "      <td>grateful today for dream fulfilled heart full ...</td>\n",
       "      <td>pos</td>\n",
       "    </tr>\n",
       "    <tr>\n",
       "      <th>17</th>\n",
       "      <td>home affairs shall later</td>\n",
       "      <td>pos</td>\n",
       "    </tr>\n",
       "    <tr>\n",
       "      <th>18</th>\n",
       "      <td>barca bout beat real madrid saturday doe</td>\n",
       "      <td>pos</td>\n",
       "    </tr>\n",
       "    <tr>\n",
       "      <th>19</th>\n",
       "      <td>lot parts asia especially rats that live the c...</td>\n",
       "      <td>pos</td>\n",
       "    </tr>\n",
       "    <tr>\n",
       "      <th>20</th>\n",
       "      <td>wasn even sleeping shut cho ole back sleep loo...</td>\n",
       "      <td>pos</td>\n",
       "    </tr>\n",
       "    <tr>\n",
       "      <th>21</th>\n",
       "      <td>have the worlds best dad</td>\n",
       "      <td>pos</td>\n",
       "    </tr>\n",
       "    <tr>\n",
       "      <th>22</th>\n",
       "      <td>jaeyay werna meeting khatam hojaeygi baaqi but...</td>\n",
       "      <td>pos</td>\n",
       "    </tr>\n",
       "    <tr>\n",
       "      <th>23</th>\n",
       "      <td>one doubts that ability</td>\n",
       "      <td>pos</td>\n",
       "    </tr>\n",
       "    <tr>\n",
       "      <th>24</th>\n",
       "      <td>check tweet pic out that was the outfit before...</td>\n",
       "      <td>pos</td>\n",
       "    </tr>\n",
       "    <tr>\n",
       "      <th>25</th>\n",
       "      <td>just got mid term and impressed happy</td>\n",
       "      <td>pos</td>\n",
       "    </tr>\n",
       "    <tr>\n",
       "      <th>26</th>\n",
       "      <td>summer days work from ish home shower eat out ...</td>\n",
       "      <td>pos</td>\n",
       "    </tr>\n",
       "    <tr>\n",
       "      <th>27</th>\n",
       "      <td>lol noo food friend</td>\n",
       "      <td>pos</td>\n",
       "    </tr>\n",
       "    <tr>\n",
       "      <th>28</th>\n",
       "      <td>millionbritneyfan and tweet</td>\n",
       "      <td>pos</td>\n",
       "    </tr>\n",
       "    <tr>\n",
       "      <th>29</th>\n",
       "      <td>but seriously though called vanity fairest</td>\n",
       "      <td>pos</td>\n",
       "    </tr>\n",
       "    <tr>\n",
       "      <th>...</th>\n",
       "      <td>...</td>\n",
       "      <td>...</td>\n",
       "    </tr>\n",
       "    <tr>\n",
       "      <th>910</th>\n",
       "      <td>and evil people lord will fight for</td>\n",
       "      <td>neg</td>\n",
       "    </tr>\n",
       "    <tr>\n",
       "      <th>911</th>\n",
       "      <td>lincoln navigator chrome door handles covers k...</td>\n",
       "      <td>neg</td>\n",
       "    </tr>\n",
       "    <tr>\n",
       "      <th>912</th>\n",
       "      <td>mario badescu buffering lotion health and beau...</td>\n",
       "      <td>neg</td>\n",
       "    </tr>\n",
       "    <tr>\n",
       "      <th>913</th>\n",
       "      <td>practitioner guide software test design hardco...</td>\n",
       "      <td>neg</td>\n",
       "    </tr>\n",
       "    <tr>\n",
       "      <th>914</th>\n",
       "      <td>custom picture frame poster frame wide complet...</td>\n",
       "      <td>neg</td>\n",
       "    </tr>\n",
       "    <tr>\n",
       "      <th>915</th>\n",
       "      <td>maxpedition inch clip phone holster khaki grea...</td>\n",
       "      <td>neg</td>\n",
       "    </tr>\n",
       "    <tr>\n",
       "      <th>916</th>\n",
       "      <td>and was right they let slide</td>\n",
       "      <td>neg</td>\n",
       "    </tr>\n",
       "    <tr>\n",
       "      <th>917</th>\n",
       "      <td>just love how never texts back</td>\n",
       "      <td>neg</td>\n",
       "    </tr>\n",
       "    <tr>\n",
       "      <th>918</th>\n",
       "      <td>can find one direction top can wear for dance ...</td>\n",
       "      <td>neg</td>\n",
       "    </tr>\n",
       "    <tr>\n",
       "      <th>919</th>\n",
       "      <td>you not coming grand march</td>\n",
       "      <td>neg</td>\n",
       "    </tr>\n",
       "    <tr>\n",
       "      <th>920</th>\n",
       "      <td>asics gel kinsei women white capri blue lightn...</td>\n",
       "      <td>neg</td>\n",
       "    </tr>\n",
       "    <tr>\n",
       "      <th>921</th>\n",
       "      <td>though</td>\n",
       "      <td>neg</td>\n",
       "    </tr>\n",
       "    <tr>\n",
       "      <th>922</th>\n",
       "      <td>garden life perfect food raw organic powder he...</td>\n",
       "      <td>neg</td>\n",
       "    </tr>\n",
       "    <tr>\n",
       "      <th>923</th>\n",
       "      <td>shine like does the anthology audio shine like...</td>\n",
       "      <td>neg</td>\n",
       "    </tr>\n",
       "    <tr>\n",
       "      <th>924</th>\n",
       "      <td>wondering has left yet</td>\n",
       "      <td>neg</td>\n",
       "    </tr>\n",
       "    <tr>\n",
       "      <th>925</th>\n",
       "      <td>awesome can believe that series done</td>\n",
       "      <td>neg</td>\n",
       "    </tr>\n",
       "    <tr>\n",
       "      <th>926</th>\n",
       "      <td>wooden mallet fold away wall desk oak whether ...</td>\n",
       "      <td>neg</td>\n",
       "    </tr>\n",
       "    <tr>\n",
       "      <th>928</th>\n",
       "      <td>water and scratch resistant case for garmin to...</td>\n",
       "      <td>neg</td>\n",
       "    </tr>\n",
       "    <tr>\n",
       "      <th>929</th>\n",
       "      <td>its pouring down robyn grim haha sitting sandw...</td>\n",
       "      <td>neg</td>\n",
       "    </tr>\n",
       "    <tr>\n",
       "      <th>930</th>\n",
       "      <td>apple ipod touch generation white</td>\n",
       "      <td>neg</td>\n",
       "    </tr>\n",
       "    <tr>\n",
       "      <th>937</th>\n",
       "      <td>niall please just one tweet for just one retwe...</td>\n",
       "      <td>neg</td>\n",
       "    </tr>\n",
       "    <tr>\n",
       "      <th>938</th>\n",
       "      <td>happy birthday thornsten husgss wishh you know...</td>\n",
       "      <td>neg</td>\n",
       "    </tr>\n",
       "    <tr>\n",
       "      <th>939</th>\n",
       "      <td>its like antarctica this bitch need the heat f...</td>\n",
       "      <td>neg</td>\n",
       "    </tr>\n",
       "    <tr>\n",
       "      <th>940</th>\n",
       "      <td>stylecraft spaced board and batten mahogany ex...</td>\n",
       "      <td>neg</td>\n",
       "    </tr>\n",
       "    <tr>\n",
       "      <th>941</th>\n",
       "      <td>please follow back you follow sister and reall...</td>\n",
       "      <td>neg</td>\n",
       "    </tr>\n",
       "    <tr>\n",
       "      <th>942</th>\n",
       "      <td>tis not bad people make seem don let twitter g...</td>\n",
       "      <td>neg</td>\n",
       "    </tr>\n",
       "    <tr>\n",
       "      <th>943</th>\n",
       "      <td>said that she tries respond least barbz day ou...</td>\n",
       "      <td>neg</td>\n",
       "    </tr>\n",
       "    <tr>\n",
       "      <th>944</th>\n",
       "      <td>shut not please don eat cause you eat all gone...</td>\n",
       "      <td>neg</td>\n",
       "    </tr>\n",
       "    <tr>\n",
       "      <th>945</th>\n",
       "      <td>sorry can come amazing show jakarta the fans w...</td>\n",
       "      <td>neg</td>\n",
       "    </tr>\n",
       "    <tr>\n",
       "      <th>946</th>\n",
       "      <td>nice congrats today failed math test and physi...</td>\n",
       "      <td>neg</td>\n",
       "    </tr>\n",
       "  </tbody>\n",
       "</table>\n",
       "<p>1791 rows × 2 columns</p>\n",
       "</div>"
      ],
      "text/plain": [
       "                                                 tweet sentiment\n",
       "0    dunno justin read mention not only justin and ...       pos\n",
       "1    because your logic dumb won even crop out your...       pos\n",
       "2     just put casper box looved the battle crakkbitch       pos\n",
       "3    thanks sir don trip lil mama just keep doin thang       pos\n",
       "4    visiting brother tmr the bestest birthday gift...       pos\n",
       "5     yay lifecompleted tweet facebook let know please       pos\n",
       "6    dnextalbumtitle feel for you rollercoaster lif...       pos\n",
       "7    workin hard hardly workin hardee with future c...       pos\n",
       "8                                     saw replying bit       pos\n",
       "9                                     this were belong       pos\n",
       "10                                andd cheer nationals       pos\n",
       "11   send invitation shop line here you will find e...       pos\n",
       "12                              just woke finna church       pos\n",
       "13                           agreed more days left tho       pos\n",
       "14                                 monet with katemelo       pos\n",
       "15        like damm lexis got lot say when twitter lol       pos\n",
       "16   grateful today for dream fulfilled heart full ...       pos\n",
       "17                            home affairs shall later       pos\n",
       "18            barca bout beat real madrid saturday doe       pos\n",
       "19   lot parts asia especially rats that live the c...       pos\n",
       "20   wasn even sleeping shut cho ole back sleep loo...       pos\n",
       "21                            have the worlds best dad       pos\n",
       "22   jaeyay werna meeting khatam hojaeygi baaqi but...       pos\n",
       "23                             one doubts that ability       pos\n",
       "24   check tweet pic out that was the outfit before...       pos\n",
       "25               just got mid term and impressed happy       pos\n",
       "26   summer days work from ish home shower eat out ...       pos\n",
       "27                                 lol noo food friend       pos\n",
       "28                         millionbritneyfan and tweet       pos\n",
       "29          but seriously though called vanity fairest       pos\n",
       "..                                                 ...       ...\n",
       "910                and evil people lord will fight for       neg\n",
       "911  lincoln navigator chrome door handles covers k...       neg\n",
       "912  mario badescu buffering lotion health and beau...       neg\n",
       "913  practitioner guide software test design hardco...       neg\n",
       "914  custom picture frame poster frame wide complet...       neg\n",
       "915  maxpedition inch clip phone holster khaki grea...       neg\n",
       "916                       and was right they let slide       neg\n",
       "917                     just love how never texts back       neg\n",
       "918  can find one direction top can wear for dance ...       neg\n",
       "919                         you not coming grand march       neg\n",
       "920  asics gel kinsei women white capri blue lightn...       neg\n",
       "921                                             though       neg\n",
       "922  garden life perfect food raw organic powder he...       neg\n",
       "923  shine like does the anthology audio shine like...       neg\n",
       "924                             wondering has left yet       neg\n",
       "925               awesome can believe that series done       neg\n",
       "926  wooden mallet fold away wall desk oak whether ...       neg\n",
       "928  water and scratch resistant case for garmin to...       neg\n",
       "929  its pouring down robyn grim haha sitting sandw...       neg\n",
       "930                  apple ipod touch generation white       neg\n",
       "937  niall please just one tweet for just one retwe...       neg\n",
       "938  happy birthday thornsten husgss wishh you know...       neg\n",
       "939  its like antarctica this bitch need the heat f...       neg\n",
       "940  stylecraft spaced board and batten mahogany ex...       neg\n",
       "941  please follow back you follow sister and reall...       neg\n",
       "942  tis not bad people make seem don let twitter g...       neg\n",
       "943  said that she tries respond least barbz day ou...       neg\n",
       "944  shut not please don eat cause you eat all gone...       neg\n",
       "945  sorry can come amazing show jakarta the fans w...       neg\n",
       "946  nice congrats today failed math test and physi...       neg\n",
       "\n",
       "[1791 rows x 2 columns]"
      ]
     },
     "execution_count": 20,
     "metadata": {},
     "output_type": "execute_result"
    }
   ],
   "source": [
    "tweets"
   ]
  },
  {
   "cell_type": "code",
   "execution_count": 21,
   "metadata": {
    "collapsed": false
   },
   "outputs": [],
   "source": [
    "# pd.isnull(tweets).any(1).nonzero()[0]"
   ]
  },
  {
   "cell_type": "markdown",
   "metadata": {},
   "source": [
    "## Feature Extraction"
   ]
  },
  {
   "cell_type": "markdown",
   "metadata": {},
   "source": [
    "### bag of words"
   ]
  },
  {
   "cell_type": "markdown",
   "metadata": {},
   "source": [
    "#### frequencies TF-IDF"
   ]
  },
  {
   "cell_type": "markdown",
   "metadata": {},
   "source": [
    "Initialize bag of words (TF-IDF)"
   ]
  },
  {
   "cell_type": "code",
   "execution_count": 22,
   "metadata": {
    "collapsed": false
   },
   "outputs": [
    {
     "name": "stdout",
     "output_type": "stream",
     "text": [
      "tf-idf Vectorizer settings\n",
      "\n",
      "use_idf :\t True\n",
      "min_df :\t 5\n",
      "tokenizer :\t True\n",
      "max_features :\t None\n",
      "max_df :\t 0.8\n",
      "number_of_stopwords :\t 10\n",
      "ngram_range :\t (1, 1)\n",
      "sublinear_tf :\t True\n",
      "-\n",
      "\n",
      "stopwords:\n",
      " frozenset({'mustn', 'before', 'always', 'hence', 'our', 'perhaps', 'empty', 'give', 'above', 'just', 'whom', 'few', 'whence', 'nine', 'if', 'will', 'along', 'being', 'their', 'behind', 'whoever', 'anything', 'everything', 'system', 'all', 'except', 'ie', 'however', 'see', 'mill', 'side', 'every', 'we', 'yours', 'someone', 'others', 'ever', 'although', 'cant', 'get', 'do', 'forty', 'whenever', 're', 'him', 'by', 'against', 'indeed', 'my', 'whereas', 'hasnt', 'last', 'anyway', 'and', 'below', 'cannot', 'or', 'be', 'sincere', 'each', 'name', 'one', 'thereby', 'first', 'yet', 'towards', 'at', 'eight', 'seemed', 'per', 'has', 'only', 'so', 'into', 'seem', 'mostly', 'even', 'became', 'onto', 'five', 'well', 'somewhere', 'top', 'us', 'former', 'very', 'un', 'whether', 'than', 'ltd', 'take', 'own', 'mine', 'about', 'serious', 'ten', 'hundred', 'hereupon', 'was', 'whose', 'its', 'again', 'co', 'with', 'you', 'etc', 'beside', 'three', 'under', 'which', 'without', 'no', 'something', 'wherever', 'down', 'both', 'whereby', 'hereby', 'while', 'whole', 'either', 'hereafter', 'seeming', 'could', 'thence', 'some', 'your', 'here', 'yourselves', 'more', 'detail', 'many', 'may', 'amongst', 'were', 'among', 'due', 'next', 'who', 'six', 'he', 'might', 'thereafter', 'else', 'such', 'back', 'therein', 'twenty', 'until', 'himself', 'noone', 'during', 'when', 'thick', 'further', 'never', 'not', 'what', 'upon', 'nothing', 'nobody', 'ourselves', 'through', 'from', 'still', 'less', 'me', 'there', 'where', 'elsewhere', 'found', 'herein', 'then', 'nowhere', 'other', 'whereafter', 'to', 'would', 'call', 'fifty', 'within', 'bill', 'for', 'have', 'somehow', 'enough', 'go', 'them', 'also', 'been', 'yourself', 'now', 'latterly', 'out', 'describe', 'around', 'con', 'as', 'after', 'latter', 'up', 'almost', 'rather', 'find', 'on', 'in', 'fire', 'eg', 'neither', 'de', 'third', 'therefore', 'several', 'sometime', 'thru', 'it', 'become', 'her', 'off', 'becomes', 'themselves', 'amoungst', 'same', 'but', 'moreover', 'least', 'the', 'keep', 'four', 'beyond', 'otherwise', 'meanwhile', 'most', 'everyone', 'they', 'whither', 'can', 'wherein', 'itself', 'though', 'much', 'am', 'sometimes', 'thus', 'too', 'this', 'none', 'are', 'seems', 'since', 'thin', 'becoming', 'together', 'another', 'twelve', 'because', 'part', 'over', 'afterwards', 'that', 'anyone', 'sixty', 'done', 'alone', 'across', 'any', 'anyhow', 'throughout', 'couldnt', 'i', 'full', 'move', 'nor', 'already', 'often', 'why', 'beforehand', 'ours', 'toward', 'his', 'two', 'made', 'hers', 'fill', 'show', 'whatever', 'put', 'amount', 'cry', 'namely', 'nevertheless', 'anywhere', 'those', 'bottom', 'once', 'whereupon', 'besides', 'is', 'please', 'everywhere', 'inc', 'formerly', 'had', 'she', 'via', 'fifteen', 'between', 'of', 'thereupon', 'front', 'herself', 'an', 'must', 'these', 'eleven', 'how', 'a', 'myself', 'interest', 'should'})\n"
     ]
    }
   ],
   "source": [
    "tfidf_vectorizer = init_tfidf_vectorizer()"
   ]
  },
  {
   "cell_type": "markdown",
   "metadata": {},
   "source": [
    "## Feature Expansion"
   ]
  },
  {
   "cell_type": "markdown",
   "metadata": {},
   "source": [
    "### polynomial expansion"
   ]
  },
  {
   "cell_type": "markdown",
   "metadata": {},
   "source": [
    "### standardization"
   ]
  },
  {
   "cell_type": "markdown",
   "metadata": {},
   "source": [
    "## Classification (simple training)"
   ]
  },
  {
   "cell_type": "code",
   "execution_count": 23,
   "metadata": {
    "collapsed": false
   },
   "outputs": [],
   "source": [
    "X_train, X_test, y_train, y_test = train_test_split(tweets['tweet'], tweets['sentiment'], test_size=split_params['test_size'], random_state=split_params['random_state'])\n",
    "tfidf_train_vectors = tfidf_vectorizer.fit_transform(X_train)\n",
    "tfidf_test_vectors = tfidf_vectorizer.transform(X_test)\n",
    "#shape: (number_of_tweets, all_words)"
   ]
  },
  {
   "cell_type": "markdown",
   "metadata": {},
   "source": [
    "### Naive Bayes"
   ]
  },
  {
   "cell_type": "code",
   "execution_count": 24,
   "metadata": {
    "collapsed": false
   },
   "outputs": [
    {
     "name": "stdout",
     "output_type": "stream",
     "text": [
      "(180,)\n",
      "             precision    recall  f1-score   support\n",
      "\n",
      "        neg       0.69      0.42      0.52        81\n",
      "        pos       0.64      0.85      0.73        99\n",
      "\n",
      "avg / total       0.66      0.66      0.64       180\n",
      "\n",
      "score:  0.655555555556\n"
     ]
    }
   ],
   "source": [
    "nbclf = MultinomialNB()\n",
    "nbclf.fit(tfidf_train_vectors, y_train)\n",
    "prediction_bayes = nbclf.predict(tfidf_test_vectors)\n",
    "print(prediction_bayes.shape)\n",
    "print(classification_report(y_test, prediction_bayes))\n",
    "print('score: ',accuracy_score(y_test,prediction_bayes))"
   ]
  },
  {
   "cell_type": "markdown",
   "metadata": {},
   "source": [
    "### Random Forests"
   ]
  },
  {
   "cell_type": "markdown",
   "metadata": {},
   "source": [
    "Very nice algorithm because it runs in parallel!"
   ]
  },
  {
   "cell_type": "code",
   "execution_count": 25,
   "metadata": {
    "collapsed": false
   },
   "outputs": [
    {
     "name": "stdout",
     "output_type": "stream",
     "text": [
      "             precision    recall  f1-score   support\n",
      "\n",
      "        neg       0.60      0.60      0.60        81\n",
      "        pos       0.67      0.67      0.67        99\n",
      "\n",
      "avg / total       0.64      0.64      0.64       180\n",
      "\n",
      "score:  0.638888888889\n"
     ]
    }
   ],
   "source": [
    "forest = RandomForestClassifier(n_estimators=100,max_depth=100,n_jobs=-1,random_state=4)\n",
    "forest.fit(tfidf_train_vectors, y_train)\n",
    "y_pred_forest = forest.predict(tfidf_test_vectors)\n",
    "\n",
    "print(classification_report(y_test, y_pred_forest))\n",
    "print('score: ',accuracy_score(y_test,y_pred_forest))"
   ]
  },
  {
   "cell_type": "markdown",
   "metadata": {},
   "source": [
    "### SVM"
   ]
  },
  {
   "cell_type": "code",
   "execution_count": 26,
   "metadata": {
    "collapsed": false
   },
   "outputs": [],
   "source": [
    "# classifier_linear = svm.SVC(kernel='linear')\n",
    "# classifier_linear.fit(tfidf_train_vectors, y_train)\n",
    "# prediction_linear = classifier_linear.predict(tfidf_test_vectors)\n",
    "\n",
    "# print(classification_report(y_test, prediction_linear))\n",
    "# print('score: ',accuracy_score(y_test,prediction_bayes))"
   ]
  },
  {
   "cell_type": "markdown",
   "metadata": {},
   "source": [
    "### Get top k most important features"
   ]
  },
  {
   "cell_type": "markdown",
   "metadata": {},
   "source": [
    "#### Naive Bayes"
   ]
  },
  {
   "cell_type": "code",
   "execution_count": 27,
   "metadata": {
    "collapsed": false
   },
   "outputs": [
    {
     "name": "stdout",
     "output_type": "stream",
     "text": [
      "['love', 'good', 'follow', 'thanks', 'lol', 'like', 'day', 'know', 'time', 'got']\n"
     ]
    }
   ],
   "source": [
    "print(topk_most_important_features(tfidf_vectorizer, nbclf, k=10))"
   ]
  },
  {
   "cell_type": "code",
   "execution_count": 28,
   "metadata": {
    "collapsed": false
   },
   "outputs": [
    {
     "name": "stdout",
     "output_type": "stream",
     "text": [
      "\t-7.4151\tbattery        \t\t-4.1147\tlove           \n",
      "\t-7.4151\tbrand          \t\t-4.1763\tgood           \n",
      "\t-7.4151\tcamera         \t\t-4.2003\tfollow         \n",
      "\t-7.4151\tcollege        \t\t-4.2945\tthanks         \n",
      "\t-7.4151\tcomplete       \t\t-4.3191\tlol            \n",
      "\t-7.4151\tcustom         \t\t-4.3322\tlike           \n",
      "\t-7.4151\tdamn           \t\t-4.3677\tday            \n",
      "\t-7.4151\tdigital        \t\t-4.4402\tknow           \n",
      "\t-7.4151\tdvd            \t\t-4.4913\ttime           \n",
      "\t-7.4151\tedition        \t\t-4.5472\tgot            \n",
      "\t-7.4151\telectronics    \t\t-4.6170\thaha           \n",
      "\t-7.4151\tframe          \t\t-4.7016\twa             \n",
      "\t-7.4151\tglass          \t\t-4.7468\tthank          \n",
      "\t-7.4151\thardcover      \t\t-4.7652\twant           \n",
      "\t-7.4151\thealth         \t\t-4.8843\tgirl           \n",
      "\t-7.4151\tinch           \t\t-4.8976\tmake           \n",
      "\t-7.4151\tkit            \t\t-4.9028\tnight          \n",
      "\t-7.4151\tmemory         \t\t-4.9880\twait           \n",
      "\t-7.4151\tpack           \t\t-5.0021\ttoday          \n",
      "\t-7.4151\tpaperback      \t\t-5.0232\tdon            \n",
      "\t-7.4151\tposter         \t\t-5.0423\tgoing          \n",
      "\t-7.4151\train           \t\t-5.0847\thappy          \n",
      "\t-7.4151\tram            \t\t-5.0916\tcome           \n",
      "\t-7.4151\treplacement    \t\t-5.1036\thope           \n",
      "\t-7.4151\tsad            \t\t-5.1142\tlook           \n",
      "\t-7.4151\tscience        \t\t-5.1345\tright          \n",
      "\t-7.4151\tseason         \t\t-5.1629\tthink          \n",
      "\t-7.4151\tsilver         \t\t-5.1807\they            \n",
      "\t-7.4151\ttest           \t\t-5.1850\ttweet          \n",
      "\t-7.4151\ttoy            \t\t-5.1870\tyeah           \n",
      "\t-7.4151\twide           \t\t-5.1968\tbirthday       \n",
      "\t-7.4151\tworst          \t\t-5.2104\tneed           \n",
      "\t-7.1459\tbrown          \t\t-5.2337\tbetter         \n",
      "\t-7.1217\tfinal          \t\t-5.3117\tna             \n",
      "\t-7.0810\twent           \t\t-5.3161\tgreat          \n",
      "\t-7.0719\tcont           \t\t-5.3181\thome           \n",
      "\t-7.0565\tago            \t\t-5.3222\tnew            \n",
      "\t-7.0508\tweather        \t\t-5.3328\tsay            \n",
      "\t-7.0382\tdesign         \t\t-5.3413\tgetting        \n",
      "\t-7.0354\ttech           \t\t-5.3852\tsong           \n",
      "\t-7.0350\tholiday        \t\t-5.3865\treally         \n",
      "\t-7.0344\thurt           \t\t-5.3961\ttwitter        \n",
      "\t-7.0331\tidk            \t\t-5.3992\tsleep          \n",
      "\t-7.0300\tbarca          \t\t-5.4004\tyes            \n",
      "\t-7.0269\tpost           \t\t-5.4056\tguy            \n",
      "\t-7.0201\tpaper          \t\t-5.4233\tmorning        \n",
      "\t-7.0129\tawake          \t\t-5.4742\tlife           \n",
      "\t-6.9903\tplayer         \t\t-5.5009\tha             \n",
      "\t-6.9894\tbusy           \t\t-5.5021\tsure           \n",
      "\t-6.9838\taway           \t\t-5.5054\tpeople         \n",
      "\t-6.9751\tmoney          \t\t-5.5151\tway            \n",
      "\t-6.9693\tenglish        \t\t-5.5169\tmaybe          \n",
      "\t-6.9693\tcase           \t\t-5.5171\tsoon           \n",
      "\t-6.9673\tpower          \t\t-5.5249\tlong           \n",
      "\t-6.9496\tjob            \t\t-5.5249\tmind           \n",
      "\t-6.9463\tmum            \t\t-5.5268\tsmile          \n",
      "\t-6.9424\tdoesn          \t\t-5.5340\tyear           \n",
      "\t-6.9415\tsick           \t\t-5.5457\tstart          \n",
      "\t-6.9374\tstory          \t\t-5.5470\tfollowing      \n",
      "\t-6.9358\tfast           \t\t-5.5526\tlot            \n",
      "\t-6.9148\tblack          \t\t-5.5542\tdid            \n",
      "\t-6.9130\tend            \t\t-5.5666\ttho            \n",
      "\t-6.9122\tset            \t\t-5.5701\tgon            \n",
      "\t-6.8878\twood           \t\t-5.5764\tlive           \n",
      "\t-6.8702\tseries         \t\t-5.5772\tgod            \n",
      "\t-6.8594\tmissed         \t\t-5.5782\ttonight        \n",
      "\t-6.8386\tsomebody       \t\t-5.5800\tokay           \n",
      "\t-6.8190\tcold           \t\t-5.5881\tnice           \n",
      "\t-6.8134\tstudy          \t\t-5.6383\tthing          \n",
      "\t-6.8096\tgreen          \t\t-5.6652\ttell           \n",
      "\t-6.8047\tperson         \t\t-5.6890\treal           \n",
      "\t-6.7933\tshort          \t\t-5.6967\tclass          \n",
      "\t-6.7678\tshare          \t\t-5.7010\tfree           \n",
      "\t-6.7645\twoman          \t\t-5.7023\ttomorrow       \n",
      "\t-6.7608\tseen           \t\t-5.7033\tamazing        \n",
      "\t-6.7438\tbook           \t\t-5.7035\tactually       \n",
      "\t-6.7357\tcare           \t\t-5.7077\tlittle         \n",
      "\t-6.7349\tdad            \t\t-5.7284\ttry            \n",
      "\t-6.7336\tnoo            \t\t-5.7337\ttext           \n",
      "\t-6.7305\tdidn           \t\t-5.7341\tgame           \n",
      "\t-6.7237\twanted         \t\t-5.7377\tmean           \n",
      "\t-6.7228\tstand          \t\t-5.7664\ttrying         \n",
      "\t-6.7226\tanswer         \t\t-5.7687\thehe           \n",
      "\t-6.7219\tmissing        \t\t-5.7701\tremember       \n",
      "\t-6.7123\tline           \t\t-5.7778\ttalking        \n",
      "\t-6.7039\tsaturday       \t\t-5.7826\tcause          \n",
      "\t-6.6890\ttired          \t\t-5.7847\thour           \n",
      "\t-6.6859\tred            \t\t-5.7966\tcute           \n",
      "\t-6.6759\tstar           \t\t-5.7981\tfriend         \n",
      "\t-6.6739\tlight          \t\t-5.7982\tpicture        \n",
      "\t-6.6631\thappened       \t\t-5.8029\twish           \n",
      "\t-6.6305\tsaw            \t\t-5.8041\tshit           \n",
      "\t-6.6301\tlost           \t\t-5.8052\tfun            \n",
      "\t-6.6246\tlil            \t\t-5.8121\tbaby           \n",
      "\t-6.6151\tcover          \t\t-5.8132\tbed            \n",
      "\t-6.6072\tleaving        \t\t-5.8283\told            \n",
      "\t-6.5845\treply          \t\t-5.8291\tweekend        \n",
      "\t-6.5738\tfall           \t\t-5.8330\tlooking        \n",
      "\t-6.5695\tnotice         \t\t-5.8360\tdont           \n",
      "\t-6.5616\tdidnt          \t\t-5.8439\tthought        \n",
      "\t-6.5601\tdog            \t\t-5.8498\tstay           \n",
      "\t-6.5564\tspecial        \t\t-5.8543\tearly          \n",
      "\t-6.5548\twear           \t\t-5.8605\tlmao           \n",
      "\t-6.5416\tanymore        \t\t-5.8636\twatch          \n",
      "\t-6.5380\tfeeling        \t\t-5.8651\tfeel           \n",
      "\t-6.5341\tused           \t\t-5.8656\tseriously      \n",
      "\t-6.5291\ttrack          \t\t-5.8693\tkiss           \n",
      "\t-6.5276\tcouldn         \t\t-5.8704\treason         \n",
      "\t-6.5220\twhite          \t\t-5.8753\tsweet          \n",
      "\t-6.5125\treview         \t\t-5.8828\thair           \n",
      "\t-6.5117\tgold           \t\t-5.8875\twork           \n",
      "\t-6.5084\tbox            \t\t-5.8906\tsend           \n",
      "\t-6.5083\tsingle         \t\t-5.8907\tlady           \n",
      "\t-6.4876\tticket         \t\t-5.8912\till            \n",
      "\t-6.4861\tfacebook       \t\t-5.8931\tbest           \n",
      "\t-6.4785\tsaying         \t\t-5.9015\taww            \n",
      "\t-6.4693\taha            \t\t-5.9047\tlet            \n",
      "\t-6.4658\tisn            \t\t-5.9168\tforever        \n",
      "\t-6.4653\teating         \t\t-5.9215\tlater          \n",
      "\t-6.4565\tbad            \t\t-5.9292\tschool         \n",
      "\t-6.4505\thaven          \t\t-5.9404\tdirection      \n",
      "\t-6.4492\tbreak          \t\t-5.9407\tlaugh          \n",
      "\t-6.4463\twrong          \t\t-5.9416\tglad           \n",
      "\t-6.4441\tthinking       \t\t-5.9443\ttrue           \n",
      "\t-6.4425\tfood           \t\t-5.9467\tsaid           \n",
      "\t-6.4370\tblue           \t\t-5.9475\thead           \n",
      "\t-6.4334\tohh            \t\t-5.9510\tproud          \n",
      "\t-6.4311\tsmall          \t\t-5.9547\tphone          \n",
      "\t-6.4297\tcrazy          \t\t-5.9642\tbring          \n",
      "\t-6.4258\tespecially     \t\t-5.9645\tima            \n",
      "\t-6.4249\tharry          \t\t-5.9688\tdate           \n",
      "\t-6.4179\tdick           \t\t-5.9702\tbrother        \n",
      "\t-6.4166\tonline         \t\t-5.9733\tdoin           \n",
      "\t-6.4114\tphoto          \t\t-5.9748\tboy            \n",
      "\t-6.4067\ttold           \t\t-5.9805\theard          \n",
      "\t-6.4020\tprom           \t\t-5.9856\tteam           \n",
      "\t-6.3976\teat            \t\t-5.9919\tclose          \n",
      "\t-6.3843\tamerican       \t\t-5.9985\tain            \n",
      "\t-6.3837\thalf           \t\t-5.9995\tteacher        \n",
      "\t-6.3802\ttravel         \t\t-6.0026\tfan            \n",
      "\t-6.3733\thigh           \t\t-6.0087\tfriday         \n",
      "\t-6.3663\tluck           \t\t-6.0119\tcheck          \n",
      "\t-6.3619\twon            \t\t-6.0136\tmom            \n",
      "\t-6.3506\twont           \t\t-6.0165\twatching       \n",
      "\t-6.3475\ttook           \t\t-6.0184\teye            \n",
      "\t-6.3405\tstop           \t\t-6.0223\tbit            \n",
      "\t-6.3393\thot            \t\t-6.0278\tcongrats       \n",
      "\t-6.3390\tcuddle         \t\t-6.0302\thell           \n",
      "\t-6.3390\tsister         \t\t-6.0332\thelp           \n",
      "\t-6.3375\tdoing          \t\t-6.0376\tfavorite       \n",
      "\t-6.3347\tchange         \t\t-6.0402\thahah          \n",
      "\t-6.3338\twin            \t\t-6.0462\tpic            \n",
      "\t-6.3284\tjealous        \t\t-6.0493\tjoin           \n",
      "\t-6.3266\tbitch          \t\t-6.0496\thate           \n",
      "\t-6.3203\tsuck           \t\t-6.0555\thello          \n",
      "\t-6.3189\tworking        \t\t-6.0581\task            \n",
      "\t-6.3175\tahh            \t\t-6.0590\tplaying        \n",
      "\t-6.3166\tsoo            \t\t-6.0614\tyouu           \n",
      "\t-6.3134\tsummer         \t\t-6.0690\twan            \n",
      "\t-6.3129\tbuy            \t\t-6.0704\tbig            \n",
      "\t-6.3122\tdude           \t\t-6.0730\thahaha         \n",
      "\t-6.3106\twow            \t\t-6.0772\tready          \n",
      "\t-6.3098\tcalled         \t\t-6.0786\tsorry          \n",
      "\t-6.3093\tjoke           \t\t-6.0890\tthats          \n",
      "\t-6.3065\tbeat           \t\t-6.0899\tyay            \n",
      "\t-6.3063\tpls            \t\t-6.0905\tplay           \n",
      "\t-6.2997\tmeet           \t\t-6.0962\tsound          \n",
      "\t-6.2968\tshower         \t\t-6.1073\tomg            \n",
      "\t-6.2869\tcool           \t\t-6.1161\tworry          \n",
      "\t-6.2867\tmatch          \t\t-6.1223\tcut            \n",
      "\t-6.2652\tawesome        \t\t-6.1230\tfollower       \n",
      "\t-6.2641\tbeautiful      \t\t-6.1289\tfine           \n",
      "\t-6.2601\tboyfriend      \t\t-6.1305\tturn           \n",
      "\t-6.2589\tdinner         \t\t-6.1469\tmovie          \n",
      "\t-6.2543\tweek           \t\t-6.1488\tguess          \n",
      "\t-6.2531\tdream          \t\t-6.1552\tuse            \n",
      "\t-6.2503\theart          \t\t-6.1599\tmiss           \n",
      "\t-6.2491\tcoming         \t\t-6.1623\texcited        \n",
      "\t-6.2490\tlool           \t\t-6.1639\tstarted        \n",
      "\t-6.2441\tjustin         \t\t-6.1671\tleft           \n",
      "\t-6.2413\tdoe            \t\t-6.1761\tlate           \n",
      "\t-6.2326\tword           \t\t-6.1834\tman            \n",
      "\t-6.2264\tlearn          \t\t-6.1834\tpretty         \n",
      "\t-6.2256\tfucking        \t\t-6.1875\tboo            \n",
      "\t-6.2246\tcar            \t\t-6.1898\thard           \n",
      "\t-6.2245\tread           \t\t-6.1902\tvideo          \n",
      "\t-6.2211\twoke           \t\t-6.2025\tworld          \n",
      "\t-6.2175\tshopping       \t\t-6.2093\tbelieve        \n",
      "\t-6.2166\tface           \t\t-6.2157\tsmh            \n",
      "\t-6.2158\tmaking         \t\t-6.2158\tmaking         \n",
      "\t-6.2157\tsmh            \t\t-6.2166\tface           \n",
      "\t-6.2093\tbelieve        \t\t-6.2175\tshopping       \n",
      "\t-6.2025\tworld          \t\t-6.2211\twoke           \n",
      "\t-6.1902\tvideo          \t\t-6.2245\tread           \n",
      "\t-6.1898\thard           \t\t-6.2246\tcar            \n",
      "\t-6.1875\tboo            \t\t-6.2256\tfucking        \n",
      "\t-6.1834\tpretty         \t\t-6.2264\tlearn          \n",
      "\t-6.1834\tman            \t\t-6.2326\tword           \n",
      "\t-6.1761\tlate           \t\t-6.2413\tdoe            \n",
      "\t-6.1671\tleft           \t\t-6.2441\tjustin         \n",
      "\t-6.1639\tstarted        \t\t-6.2490\tlool           \n",
      "\t-6.1623\texcited        \t\t-6.2491\tcoming         \n",
      "\t-6.1599\tmiss           \t\t-6.2503\theart          \n",
      "\t-6.1552\tuse            \t\t-6.2531\tdream          \n",
      "\t-6.1488\tguess          \t\t-6.2543\tweek           \n",
      "\t-6.1469\tmovie          \t\t-6.2589\tdinner         \n",
      "\t-6.1305\tturn           \t\t-6.2601\tboyfriend      \n",
      "\t-6.1289\tfine           \t\t-6.2641\tbeautiful      \n",
      "\t-6.1230\tfollower       \t\t-6.2652\tawesome        \n",
      "\t-6.1223\tcut            \t\t-6.2867\tmatch          \n",
      "\t-6.1161\tworry          \t\t-6.2869\tcool           \n",
      "\t-6.1073\tomg            \t\t-6.2968\tshower         \n",
      "\t-6.0962\tsound          \t\t-6.2997\tmeet           \n",
      "\t-6.0905\tplay           \t\t-6.3063\tpls            \n",
      "\t-6.0899\tyay            \t\t-6.3065\tbeat           \n",
      "\t-6.0890\tthats          \t\t-6.3093\tjoke           \n",
      "\t-6.0786\tsorry          \t\t-6.3098\tcalled         \n",
      "\t-6.0772\tready          \t\t-6.3106\twow            \n",
      "\t-6.0730\thahaha         \t\t-6.3122\tdude           \n",
      "\t-6.0704\tbig            \t\t-6.3129\tbuy            \n",
      "\t-6.0690\twan            \t\t-6.3134\tsummer         \n",
      "\t-6.0614\tyouu           \t\t-6.3166\tsoo            \n",
      "\t-6.0590\tplaying        \t\t-6.3175\tahh            \n",
      "\t-6.0581\task            \t\t-6.3189\tworking        \n",
      "\t-6.0555\thello          \t\t-6.3203\tsuck           \n",
      "\t-6.0496\thate           \t\t-6.3266\tbitch          \n",
      "\t-6.0493\tjoin           \t\t-6.3284\tjealous        \n",
      "\t-6.0462\tpic            \t\t-6.3338\twin            \n",
      "\t-6.0402\thahah          \t\t-6.3347\tchange         \n",
      "\t-6.0376\tfavorite       \t\t-6.3375\tdoing          \n",
      "\t-6.0332\thelp           \t\t-6.3390\tsister         \n",
      "\t-6.0302\thell           \t\t-6.3390\tcuddle         \n",
      "\t-6.0278\tcongrats       \t\t-6.3393\thot            \n",
      "\t-6.0223\tbit            \t\t-6.3405\tstop           \n",
      "\t-6.0184\teye            \t\t-6.3475\ttook           \n",
      "\t-6.0165\twatching       \t\t-6.3506\twont           \n",
      "\t-6.0136\tmom            \t\t-6.3619\twon            \n",
      "\t-6.0119\tcheck          \t\t-6.3663\tluck           \n",
      "\t-6.0087\tfriday         \t\t-6.3733\thigh           \n",
      "\t-6.0026\tfan            \t\t-6.3802\ttravel         \n",
      "\t-5.9995\tteacher        \t\t-6.3837\thalf           \n",
      "\t-5.9985\tain            \t\t-6.3843\tamerican       \n",
      "\t-5.9919\tclose          \t\t-6.3976\teat            \n",
      "\t-5.9856\tteam           \t\t-6.4020\tprom           \n",
      "\t-5.9805\theard          \t\t-6.4067\ttold           \n",
      "\t-5.9748\tboy            \t\t-6.4114\tphoto          \n",
      "\t-5.9733\tdoin           \t\t-6.4166\tonline         \n",
      "\t-5.9702\tbrother        \t\t-6.4179\tdick           \n",
      "\t-5.9688\tdate           \t\t-6.4249\tharry          \n",
      "\t-5.9645\tima            \t\t-6.4258\tespecially     \n",
      "\t-5.9642\tbring          \t\t-6.4297\tcrazy          \n",
      "\t-5.9547\tphone          \t\t-6.4311\tsmall          \n",
      "\t-5.9510\tproud          \t\t-6.4334\tohh            \n",
      "\t-5.9475\thead           \t\t-6.4370\tblue           \n",
      "\t-5.9467\tsaid           \t\t-6.4425\tfood           \n",
      "\t-5.9443\ttrue           \t\t-6.4441\tthinking       \n",
      "\t-5.9416\tglad           \t\t-6.4463\twrong          \n",
      "\t-5.9407\tlaugh          \t\t-6.4492\tbreak          \n",
      "\t-5.9404\tdirection      \t\t-6.4505\thaven          \n",
      "\t-5.9292\tschool         \t\t-6.4565\tbad            \n",
      "\t-5.9215\tlater          \t\t-6.4653\teating         \n",
      "\t-5.9168\tforever        \t\t-6.4658\tisn            \n",
      "\t-5.9047\tlet            \t\t-6.4693\taha            \n",
      "\t-5.9015\taww            \t\t-6.4785\tsaying         \n",
      "\t-5.8931\tbest           \t\t-6.4861\tfacebook       \n",
      "\t-5.8912\till            \t\t-6.4876\tticket         \n",
      "\t-5.8907\tlady           \t\t-6.5083\tsingle         \n",
      "\t-5.8906\tsend           \t\t-6.5084\tbox            \n",
      "\t-5.8875\twork           \t\t-6.5117\tgold           \n",
      "\t-5.8828\thair           \t\t-6.5125\treview         \n",
      "\t-5.8753\tsweet          \t\t-6.5220\twhite          \n",
      "\t-5.8704\treason         \t\t-6.5276\tcouldn         \n",
      "\t-5.8693\tkiss           \t\t-6.5291\ttrack          \n",
      "\t-5.8656\tseriously      \t\t-6.5341\tused           \n",
      "\t-5.8651\tfeel           \t\t-6.5380\tfeeling        \n",
      "\t-5.8636\twatch          \t\t-6.5416\tanymore        \n",
      "\t-5.8605\tlmao           \t\t-6.5548\twear           \n",
      "\t-5.8543\tearly          \t\t-6.5564\tspecial        \n",
      "\t-5.8498\tstay           \t\t-6.5601\tdog            \n",
      "\t-5.8439\tthought        \t\t-6.5616\tdidnt          \n",
      "\t-5.8360\tdont           \t\t-6.5695\tnotice         \n",
      "\t-5.8330\tlooking        \t\t-6.5738\tfall           \n",
      "\t-5.8291\tweekend        \t\t-6.5845\treply          \n",
      "\t-5.8283\told            \t\t-6.6072\tleaving        \n",
      "\t-5.8132\tbed            \t\t-6.6151\tcover          \n",
      "\t-5.8121\tbaby           \t\t-6.6246\tlil            \n",
      "\t-5.8052\tfun            \t\t-6.6301\tlost           \n",
      "\t-5.8041\tshit           \t\t-6.6305\tsaw            \n",
      "\t-5.8029\twish           \t\t-6.6631\thappened       \n",
      "\t-5.7982\tpicture        \t\t-6.6739\tlight          \n",
      "\t-5.7981\tfriend         \t\t-6.6759\tstar           \n",
      "\t-5.7966\tcute           \t\t-6.6859\tred            \n",
      "\t-5.7847\thour           \t\t-6.6890\ttired          \n",
      "\t-5.7826\tcause          \t\t-6.7039\tsaturday       \n",
      "\t-5.7778\ttalking        \t\t-6.7123\tline           \n",
      "\t-5.7701\tremember       \t\t-6.7219\tmissing        \n",
      "\t-5.7687\thehe           \t\t-6.7226\tanswer         \n",
      "\t-5.7664\ttrying         \t\t-6.7228\tstand          \n",
      "\t-5.7377\tmean           \t\t-6.7237\twanted         \n",
      "\t-5.7341\tgame           \t\t-6.7305\tdidn           \n",
      "\t-5.7337\ttext           \t\t-6.7336\tnoo            \n",
      "\t-5.7284\ttry            \t\t-6.7349\tdad            \n",
      "\t-5.7077\tlittle         \t\t-6.7357\tcare           \n",
      "\t-5.7035\tactually       \t\t-6.7438\tbook           \n",
      "\t-5.7033\tamazing        \t\t-6.7608\tseen           \n",
      "\t-5.7023\ttomorrow       \t\t-6.7645\twoman          \n",
      "\t-5.7010\tfree           \t\t-6.7678\tshare          \n",
      "\t-5.6967\tclass          \t\t-6.7933\tshort          \n",
      "\t-5.6890\treal           \t\t-6.8047\tperson         \n",
      "\t-5.6652\ttell           \t\t-6.8096\tgreen          \n",
      "\t-5.6383\tthing          \t\t-6.8134\tstudy          \n",
      "\t-5.5881\tnice           \t\t-6.8190\tcold           \n",
      "\t-5.5800\tokay           \t\t-6.8386\tsomebody       \n",
      "\t-5.5782\ttonight        \t\t-6.8594\tmissed         \n",
      "\t-5.5772\tgod            \t\t-6.8702\tseries         \n",
      "\t-5.5764\tlive           \t\t-6.8878\twood           \n",
      "\t-5.5701\tgon            \t\t-6.9122\tset            \n",
      "\t-5.5666\ttho            \t\t-6.9130\tend            \n",
      "\t-5.5542\tdid            \t\t-6.9148\tblack          \n",
      "\t-5.5526\tlot            \t\t-6.9358\tfast           \n",
      "\t-5.5470\tfollowing      \t\t-6.9374\tstory          \n",
      "\t-5.5457\tstart          \t\t-6.9415\tsick           \n",
      "\t-5.5340\tyear           \t\t-6.9424\tdoesn          \n",
      "\t-5.5268\tsmile          \t\t-6.9463\tmum            \n",
      "\t-5.5249\tmind           \t\t-6.9496\tjob            \n",
      "\t-5.5249\tlong           \t\t-6.9673\tpower          \n",
      "\t-5.5171\tsoon           \t\t-6.9693\tcase           \n",
      "\t-5.5169\tmaybe          \t\t-6.9693\tenglish        \n",
      "\t-5.5151\tway            \t\t-6.9751\tmoney          \n",
      "\t-5.5054\tpeople         \t\t-6.9838\taway           \n",
      "\t-5.5021\tsure           \t\t-6.9894\tbusy           \n",
      "\t-5.5009\tha             \t\t-6.9903\tplayer         \n",
      "\t-5.4742\tlife           \t\t-7.0129\tawake          \n",
      "\t-5.4233\tmorning        \t\t-7.0201\tpaper          \n",
      "\t-5.4056\tguy            \t\t-7.0269\tpost           \n",
      "\t-5.4004\tyes            \t\t-7.0300\tbarca          \n",
      "\t-5.3992\tsleep          \t\t-7.0331\tidk            \n",
      "\t-5.3961\ttwitter        \t\t-7.0344\thurt           \n",
      "\t-5.3865\treally         \t\t-7.0350\tholiday        \n",
      "\t-5.3852\tsong           \t\t-7.0354\ttech           \n",
      "\t-5.3413\tgetting        \t\t-7.0382\tdesign         \n",
      "\t-5.3328\tsay            \t\t-7.0508\tweather        \n",
      "\t-5.3222\tnew            \t\t-7.0565\tago            \n",
      "\t-5.3181\thome           \t\t-7.0719\tcont           \n",
      "\t-5.3161\tgreat          \t\t-7.0810\twent           \n",
      "\t-5.3117\tna             \t\t-7.1217\tfinal          \n",
      "\t-5.2337\tbetter         \t\t-7.1459\tbrown          \n",
      "\t-5.2104\tneed           \t\t-7.4151\tworst          \n",
      "\t-5.1968\tbirthday       \t\t-7.4151\twide           \n",
      "\t-5.1870\tyeah           \t\t-7.4151\ttoy            \n",
      "\t-5.1850\ttweet          \t\t-7.4151\ttest           \n",
      "\t-5.1807\they            \t\t-7.4151\tsilver         \n",
      "\t-5.1629\tthink          \t\t-7.4151\tseason         \n",
      "\t-5.1345\tright          \t\t-7.4151\tscience        \n",
      "\t-5.1142\tlook           \t\t-7.4151\tsad            \n",
      "\t-5.1036\thope           \t\t-7.4151\treplacement    \n",
      "\t-5.0916\tcome           \t\t-7.4151\tram            \n",
      "\t-5.0847\thappy          \t\t-7.4151\train           \n",
      "\t-5.0423\tgoing          \t\t-7.4151\tposter         \n",
      "\t-5.0232\tdon            \t\t-7.4151\tpaperback      \n",
      "\t-5.0021\ttoday          \t\t-7.4151\tpack           \n",
      "\t-4.9880\twait           \t\t-7.4151\tmemory         \n",
      "\t-4.9028\tnight          \t\t-7.4151\tkit            \n",
      "\t-4.8976\tmake           \t\t-7.4151\tinch           \n",
      "\t-4.8843\tgirl           \t\t-7.4151\thealth         \n",
      "\t-4.7652\twant           \t\t-7.4151\thardcover      \n",
      "\t-4.7468\tthank          \t\t-7.4151\tglass          \n",
      "\t-4.7016\twa             \t\t-7.4151\tframe          \n",
      "\t-4.6170\thaha           \t\t-7.4151\telectronics    \n",
      "\t-4.5472\tgot            \t\t-7.4151\tedition        \n",
      "\t-4.4913\ttime           \t\t-7.4151\tdvd            \n",
      "\t-4.4402\tknow           \t\t-7.4151\tdigital        \n",
      "\t-4.3677\tday            \t\t-7.4151\tdamn           \n",
      "\t-4.3322\tlike           \t\t-7.4151\tcustom         \n",
      "\t-4.3191\tlol            \t\t-7.4151\tcomplete       \n",
      "\t-4.2945\tthanks         \t\t-7.4151\tcollege        \n",
      "\t-4.2003\tfollow         \t\t-7.4151\tcamera         \n",
      "\t-4.1763\tgood           \t\t-7.4151\tbrand          \n",
      "\t-4.1147\tlove           \t\t-7.4151\tbattery        \n"
     ]
    }
   ],
   "source": [
    "show_most_informative_features(tfidf_vectorizer, nbclf, n=1000)"
   ]
  },
  {
   "cell_type": "markdown",
   "metadata": {
    "collapsed": true
   },
   "source": [
    "## K fold Cross validation & Model Selection"
   ]
  },
  {
   "cell_type": "code",
   "execution_count": 29,
   "metadata": {
    "collapsed": true
   },
   "outputs": [],
   "source": [
    "tfidf_train_vectors = tfidf_vectorizer.fit_transform(tweets['tweet'])"
   ]
  },
  {
   "cell_type": "markdown",
   "metadata": {},
   "source": [
    "### Naive Bayes"
   ]
  },
  {
   "cell_type": "code",
   "execution_count": 30,
   "metadata": {
    "collapsed": false
   },
   "outputs": [
    {
     "name": "stdout",
     "output_type": "stream",
     "text": [
      "avg score:  0.676713714384\n"
     ]
    }
   ],
   "source": [
    "# need to do a for loop to find best alpha param (when get access to server)\n",
    "naivebayesclf = MultinomialNB()\n",
    "avg_test_accuracy = cross_validation(naivebayesclf , tweets.shape[0], tfidf_train_vectors, tweets['sentiment'], n_folds=kfold['naive_bayes'])\n",
    "print('avg score: ',avg_test_accuracy)"
   ]
  },
  {
   "cell_type": "markdown",
   "metadata": {},
   "source": [
    "### Random Forests (Model Selection)"
   ]
  },
  {
   "cell_type": "code",
   "execution_count": 31,
   "metadata": {
    "collapsed": false
   },
   "outputs": [
    {
     "name": "stdout",
     "output_type": "stream",
     "text": [
      "avg score:  0.645455252797\n"
     ]
    }
   ],
   "source": [
    "# need to do a for loop to find best parameters (when get access to server)\n",
    "forest_clf = RandomForestClassifier(n_estimators=100,max_depth=100,n_jobs=-1,random_state=4)\n",
    "avg_test_accuracy = cross_validation(forest_clf , tweets.shape[0], tfidf_train_vectors, tweets['sentiment'], n_folds=kfold['random_forest'])\n",
    "print('avg score: ',avg_test_accuracy)"
   ]
  },
  {
   "cell_type": "markdown",
   "metadata": {},
   "source": [
    "## Learning curves"
   ]
  },
  {
   "cell_type": "markdown",
   "metadata": {},
   "source": [
    "### Naive Bayes"
   ]
  },
  {
   "cell_type": "code",
   "execution_count": 32,
   "metadata": {
    "collapsed": false
   },
   "outputs": [],
   "source": [
    "# plot_learning_curve(naivebayesclf, 'Learning Curve - Naive Bayes', tfidf_train_vectors, tweets['sentiment'], cv=cv)\n",
    "# plt.show()"
   ]
  },
  {
   "cell_type": "markdown",
   "metadata": {},
   "source": [
    "### Random Forests"
   ]
  },
  {
   "cell_type": "code",
   "execution_count": 33,
   "metadata": {
    "collapsed": true
   },
   "outputs": [],
   "source": [
    "# plot_learning_curve(forest_clf, 'Learning Curve - Random Forest', tfidf_train_vectors, tweets['sentiment'], cv=cv)\n",
    "# plt.show()"
   ]
  },
  {
   "cell_type": "markdown",
   "metadata": {},
   "source": [
    "## Write results to file"
   ]
  },
  {
   "cell_type": "code",
   "execution_count": 34,
   "metadata": {
    "collapsed": false
   },
   "outputs": [
    {
     "name": "stdout",
     "output_type": "stream",
     "text": [
      "Preprocessing Settings:\n",
      "\n",
      "fuser :\t True\n",
      "fhashtag :\t True\n",
      "fpunctuation :\t True\n",
      "furl :\t True\n",
      "fduplicates :\t True\n",
      "frepeated_chars :\t True\n",
      "fsmall_words :\t True\n",
      "fdigits :\t True\n",
      "save :\t False\n",
      "-\n",
      "\n",
      "Tweets Preprocessing for the Training set started\n",
      "\n",
      "\n",
      "There is no cached file for preprocessed tweets\n",
      "\n",
      "Repeated characters filtering DONE\n",
      "Punctuation filtering DONE\n",
      "User filtering DONE\n",
      "Url filtering DONE\n",
      "Hashtag filtering DONE\n",
      "Digits DONE\n",
      "Small words filtering DONE\n",
      "\n",
      " Preprocessed tweets did not saved...\n",
      "\n",
      "Tweets Preprocessing have been successfully finished!\n"
     ]
    },
    {
     "data": {
      "text/html": [
       "<div>\n",
       "<table border=\"1\" class=\"dataframe\">\n",
       "  <thead>\n",
       "    <tr style=\"text-align: right;\">\n",
       "      <th></th>\n",
       "      <th>tweet</th>\n",
       "      <th>sentiment</th>\n",
       "    </tr>\n",
       "  </thead>\n",
       "  <tbody>\n",
       "    <tr>\n",
       "      <th>0</th>\n",
       "      <td>sea doo pro sea scooter sports with the portab...</td>\n",
       "      <td>NaN</td>\n",
       "    </tr>\n",
       "    <tr>\n",
       "      <th>1</th>\n",
       "      <td>shucks well work all week now can come cheer y...</td>\n",
       "      <td>NaN</td>\n",
       "    </tr>\n",
       "    <tr>\n",
       "      <th>2</th>\n",
       "      <td>cant stay away from bug thats baby</td>\n",
       "      <td>NaN</td>\n",
       "    </tr>\n",
       "    <tr>\n",
       "      <th>3</th>\n",
       "      <td>lol perfectly fine and not contagious anymore ...</td>\n",
       "      <td>NaN</td>\n",
       "    </tr>\n",
       "    <tr>\n",
       "      <th>4</th>\n",
       "      <td>whenever fall asleep watching the always wake ...</td>\n",
       "      <td>NaN</td>\n",
       "    </tr>\n",
       "  </tbody>\n",
       "</table>\n",
       "</div>"
      ],
      "text/plain": [
       "                                               tweet  sentiment\n",
       "0  sea doo pro sea scooter sports with the portab...        NaN\n",
       "1  shucks well work all week now can come cheer y...        NaN\n",
       "2                 cant stay away from bug thats baby        NaN\n",
       "3  lol perfectly fine and not contagious anymore ...        NaN\n",
       "4  whenever fall asleep watching the always wake ...        NaN"
      ]
     },
     "execution_count": 34,
     "metadata": {},
     "output_type": "execute_result"
    }
   ],
   "source": [
    "test_tweets = preprocessing(test_tweets,train=False, params=preprocessing_params)\n",
    "test_tweets.head()"
   ]
  },
  {
   "cell_type": "code",
   "execution_count": 35,
   "metadata": {
    "collapsed": false
   },
   "outputs": [],
   "source": [
    "final_clf = MultinomialNB()\n",
    "tfidf_train_vectors = tfidf_vectorizer.fit_transform(tweets['tweet'])\n",
    "test_data = tfidf_vectorizer.transform(test_tweets['tweet'])\n",
    "final_clf.fit(tfidf_train_vectors, tweets['sentiment'])\n",
    "pred = final_clf.predict(test_data)"
   ]
  },
  {
   "cell_type": "code",
   "execution_count": 36,
   "metadata": {
    "collapsed": false
   },
   "outputs": [],
   "source": [
    "create_csv_submission(pred, DATA_PATH+PRED_SUBMISSION_FILE)"
   ]
  },
  {
   "cell_type": "code",
   "execution_count": null,
   "metadata": {
    "collapsed": true
   },
   "outputs": [],
   "source": []
  },
  {
   "cell_type": "code",
   "execution_count": null,
   "metadata": {
    "collapsed": true
   },
   "outputs": [],
   "source": []
  },
  {
   "cell_type": "code",
   "execution_count": null,
   "metadata": {
    "collapsed": true
   },
   "outputs": [],
   "source": []
  },
  {
   "cell_type": "markdown",
   "metadata": {},
   "source": [
    "## Test Code & Useful stuff"
   ]
  },
  {
   "cell_type": "code",
   "execution_count": 37,
   "metadata": {
    "collapsed": false
   },
   "outputs": [
    {
     "data": {
      "text/plain": [
       "1161192"
      ]
     },
     "execution_count": 37,
     "metadata": {},
     "output_type": "execute_result"
    }
   ],
   "source": [
    "from nltk.corpus import brown\n",
    "len(brown.words())"
   ]
  },
  {
   "cell_type": "code",
   "execution_count": 38,
   "metadata": {
    "collapsed": false
   },
   "outputs": [
    {
     "data": {
      "text/plain": [
       "{'actually': 0,\n",
       " 'ago': 1,\n",
       " 'aha': 2,\n",
       " 'ahh': 3,\n",
       " 'ain': 4,\n",
       " 'amazing': 5,\n",
       " 'american': 6,\n",
       " 'answer': 7,\n",
       " 'anymore': 8,\n",
       " 'anyways': 9,\n",
       " 'ask': 10,\n",
       " 'asleep': 11,\n",
       " 'awake': 12,\n",
       " 'away': 13,\n",
       " 'awesome': 14,\n",
       " 'aww': 15,\n",
       " 'babe': 16,\n",
       " 'baby': 17,\n",
       " 'bad': 18,\n",
       " 'barca': 19,\n",
       " 'battery': 20,\n",
       " 'beach': 21,\n",
       " 'beat': 22,\n",
       " 'beautiful': 23,\n",
       " 'beauty': 24,\n",
       " 'bed': 25,\n",
       " 'believe': 26,\n",
       " 'best': 27,\n",
       " 'better': 28,\n",
       " 'big': 29,\n",
       " 'birthday': 30,\n",
       " 'bit': 31,\n",
       " 'bitch': 32,\n",
       " 'black': 33,\n",
       " 'blue': 34,\n",
       " 'body': 35,\n",
       " 'boo': 36,\n",
       " 'book': 37,\n",
       " 'box': 38,\n",
       " 'boy': 39,\n",
       " 'boyfriend': 40,\n",
       " 'brand': 41,\n",
       " 'break': 42,\n",
       " 'bring': 43,\n",
       " 'brother': 44,\n",
       " 'brown': 45,\n",
       " 'btw': 46,\n",
       " 'busy': 47,\n",
       " 'buy': 48,\n",
       " 'called': 49,\n",
       " 'came': 50,\n",
       " 'camera': 51,\n",
       " 'car': 52,\n",
       " 'care': 53,\n",
       " 'case': 54,\n",
       " 'cause': 55,\n",
       " 'cell': 56,\n",
       " 'chance': 57,\n",
       " 'change': 58,\n",
       " 'check': 59,\n",
       " 'class': 60,\n",
       " 'classic': 61,\n",
       " 'close': 62,\n",
       " 'cold': 63,\n",
       " 'college': 64,\n",
       " 'color': 65,\n",
       " 'come': 66,\n",
       " 'coming': 67,\n",
       " 'complete': 68,\n",
       " 'congrats': 69,\n",
       " 'cont': 70,\n",
       " 'cool': 71,\n",
       " 'couldn': 72,\n",
       " 'course': 73,\n",
       " 'cover': 74,\n",
       " 'crazy': 75,\n",
       " 'cuddle': 76,\n",
       " 'custom': 77,\n",
       " 'cut': 78,\n",
       " 'cute': 79,\n",
       " 'dad': 80,\n",
       " 'damn': 81,\n",
       " 'dance': 82,\n",
       " 'date': 83,\n",
       " 'day': 84,\n",
       " 'ddr': 85,\n",
       " 'design': 86,\n",
       " 'dick': 87,\n",
       " 'did': 88,\n",
       " 'didn': 89,\n",
       " 'didnt': 90,\n",
       " 'die': 91,\n",
       " 'digital': 92,\n",
       " 'dinner': 93,\n",
       " 'direction': 94,\n",
       " 'doe': 95,\n",
       " 'doesn': 96,\n",
       " 'dog': 97,\n",
       " 'doin': 98,\n",
       " 'doing': 99,\n",
       " 'don': 100,\n",
       " 'dont': 101,\n",
       " 'dream': 102,\n",
       " 'dude': 103,\n",
       " 'dvd': 104,\n",
       " 'early': 105,\n",
       " 'eat': 106,\n",
       " 'eating': 107,\n",
       " 'edition': 108,\n",
       " 'electronics': 109,\n",
       " 'end': 110,\n",
       " 'english': 111,\n",
       " 'especially': 112,\n",
       " 'exam': 113,\n",
       " 'excited': 114,\n",
       " 'extra': 115,\n",
       " 'eye': 116,\n",
       " 'face': 117,\n",
       " 'facebook': 118,\n",
       " 'fall': 119,\n",
       " 'fan': 120,\n",
       " 'fast': 121,\n",
       " 'favorite': 122,\n",
       " 'feel': 123,\n",
       " 'feeling': 124,\n",
       " 'final': 125,\n",
       " 'fine': 126,\n",
       " 'follow': 127,\n",
       " 'follower': 128,\n",
       " 'following': 129,\n",
       " 'food': 130,\n",
       " 'foot': 131,\n",
       " 'forever': 132,\n",
       " 'forgot': 133,\n",
       " 'forward': 134,\n",
       " 'frame': 135,\n",
       " 'free': 136,\n",
       " 'friday': 137,\n",
       " 'friend': 138,\n",
       " 'fuck': 139,\n",
       " 'fucking': 140,\n",
       " 'fun': 141,\n",
       " 'game': 142,\n",
       " 'getting': 143,\n",
       " 'girl': 144,\n",
       " 'glad': 145,\n",
       " 'glass': 146,\n",
       " 'god': 147,\n",
       " 'going': 148,\n",
       " 'gold': 149,\n",
       " 'gon': 150,\n",
       " 'good': 151,\n",
       " 'goodnight': 152,\n",
       " 'got': 153,\n",
       " 'great': 154,\n",
       " 'green': 155,\n",
       " 'guess': 156,\n",
       " 'guy': 157,\n",
       " 'ha': 158,\n",
       " 'haha': 159,\n",
       " 'hahah': 160,\n",
       " 'hahaha': 161,\n",
       " 'hahahah': 162,\n",
       " 'hair': 163,\n",
       " 'half': 164,\n",
       " 'happened': 165,\n",
       " 'happy': 166,\n",
       " 'hard': 167,\n",
       " 'hardcover': 168,\n",
       " 'harry': 169,\n",
       " 'hate': 170,\n",
       " 'haven': 171,\n",
       " 'head': 172,\n",
       " 'health': 173,\n",
       " 'hear': 174,\n",
       " 'heard': 175,\n",
       " 'heart': 176,\n",
       " 'hehe': 177,\n",
       " 'hell': 178,\n",
       " 'hello': 179,\n",
       " 'help': 180,\n",
       " 'hey': 181,\n",
       " 'high': 182,\n",
       " 'hmm': 183,\n",
       " 'holiday': 184,\n",
       " 'home': 185,\n",
       " 'hope': 186,\n",
       " 'hopefully': 187,\n",
       " 'hot': 188,\n",
       " 'hour': 189,\n",
       " 'hurt': 190,\n",
       " 'idk': 191,\n",
       " 'ill': 192,\n",
       " 'ima': 193,\n",
       " 'inch': 194,\n",
       " 'isn': 195,\n",
       " 'jealous': 196,\n",
       " 'job': 197,\n",
       " 'join': 198,\n",
       " 'joke': 199,\n",
       " 'justin': 200,\n",
       " 'kiss': 201,\n",
       " 'kit': 202,\n",
       " 'know': 203,\n",
       " 'lady': 204,\n",
       " 'late': 205,\n",
       " 'later': 206,\n",
       " 'laugh': 207,\n",
       " 'learn': 208,\n",
       " 'leaving': 209,\n",
       " 'left': 210,\n",
       " 'let': 211,\n",
       " 'liam': 212,\n",
       " 'life': 213,\n",
       " 'light': 214,\n",
       " 'like': 215,\n",
       " 'lil': 216,\n",
       " 'line': 217,\n",
       " 'little': 218,\n",
       " 'live': 219,\n",
       " 'lmao': 220,\n",
       " 'lol': 221,\n",
       " 'long': 222,\n",
       " 'look': 223,\n",
       " 'looking': 224,\n",
       " 'lool': 225,\n",
       " 'lost': 226,\n",
       " 'lot': 227,\n",
       " 'love': 228,\n",
       " 'luck': 229,\n",
       " 'lucky': 230,\n",
       " 'mah': 231,\n",
       " 'make': 232,\n",
       " 'making': 233,\n",
       " 'man': 234,\n",
       " 'match': 235,\n",
       " 'maybe': 236,\n",
       " 'mean': 237,\n",
       " 'meet': 238,\n",
       " 'memory': 239,\n",
       " 'mind': 240,\n",
       " 'miss': 241,\n",
       " 'missed': 242,\n",
       " 'missing': 243,\n",
       " 'mom': 244,\n",
       " 'moment': 245,\n",
       " 'money': 246,\n",
       " 'morning': 247,\n",
       " 'movie': 248,\n",
       " 'mum': 249,\n",
       " 'music': 250,\n",
       " 'na': 251,\n",
       " 'need': 252,\n",
       " 'new': 253,\n",
       " 'nice': 254,\n",
       " 'night': 255,\n",
       " 'noo': 256,\n",
       " 'notice': 257,\n",
       " 'ohh': 258,\n",
       " 'okay': 259,\n",
       " 'old': 260,\n",
       " 'omg': 261,\n",
       " 'online': 262,\n",
       " 'oomf': 263,\n",
       " 'ounce': 264,\n",
       " 'pack': 265,\n",
       " 'paper': 266,\n",
       " 'paperback': 267,\n",
       " 'past': 268,\n",
       " 'people': 269,\n",
       " 'person': 270,\n",
       " 'phone': 271,\n",
       " 'photo': 272,\n",
       " 'pic': 273,\n",
       " 'picture': 274,\n",
       " 'place': 275,\n",
       " 'play': 276,\n",
       " 'player': 277,\n",
       " 'playing': 278,\n",
       " 'pls': 279,\n",
       " 'post': 280,\n",
       " 'poster': 281,\n",
       " 'power': 282,\n",
       " 'pretty': 283,\n",
       " 'probably': 284,\n",
       " 'prom': 285,\n",
       " 'proud': 286,\n",
       " 'radio': 287,\n",
       " 'rain': 288,\n",
       " 'ram': 289,\n",
       " 'read': 290,\n",
       " 'ready': 291,\n",
       " 'real': 292,\n",
       " 'really': 293,\n",
       " 'reason': 294,\n",
       " 'red': 295,\n",
       " 'remember': 296,\n",
       " 'replacement': 297,\n",
       " 'reply': 298,\n",
       " 'rest': 299,\n",
       " 'retweet': 300,\n",
       " 'review': 301,\n",
       " 'right': 302,\n",
       " 'room': 303,\n",
       " 'sad': 304,\n",
       " 'said': 305,\n",
       " 'saturday': 306,\n",
       " 'saw': 307,\n",
       " 'say': 308,\n",
       " 'saying': 309,\n",
       " 'school': 310,\n",
       " 'science': 311,\n",
       " 'season': 312,\n",
       " 'second': 313,\n",
       " 'seen': 314,\n",
       " 'send': 315,\n",
       " 'series': 316,\n",
       " 'seriously': 317,\n",
       " 'set': 318,\n",
       " 'sex': 319,\n",
       " 'share': 320,\n",
       " 'shit': 321,\n",
       " 'shopping': 322,\n",
       " 'short': 323,\n",
       " 'shower': 324,\n",
       " 'sick': 325,\n",
       " 'silver': 326,\n",
       " 'single': 327,\n",
       " 'sister': 328,\n",
       " 'sleep': 329,\n",
       " 'small': 330,\n",
       " 'smh': 331,\n",
       " 'smile': 332,\n",
       " 'somebody': 333,\n",
       " 'song': 334,\n",
       " 'soo': 335,\n",
       " 'soon': 336,\n",
       " 'sorry': 337,\n",
       " 'sound': 338,\n",
       " 'special': 339,\n",
       " 'stand': 340,\n",
       " 'star': 341,\n",
       " 'start': 342,\n",
       " 'started': 343,\n",
       " 'starting': 344,\n",
       " 'stay': 345,\n",
       " 'stick': 346,\n",
       " 'stop': 347,\n",
       " 'story': 348,\n",
       " 'study': 349,\n",
       " 'stuff': 350,\n",
       " 'suck': 351,\n",
       " 'summer': 352,\n",
       " 'sure': 353,\n",
       " 'sweet': 354,\n",
       " 'talk': 355,\n",
       " 'talking': 356,\n",
       " 'teacher': 357,\n",
       " 'team': 358,\n",
       " 'tech': 359,\n",
       " 'tell': 360,\n",
       " 'test': 361,\n",
       " 'text': 362,\n",
       " 'thank': 363,\n",
       " 'thanks': 364,\n",
       " 'thats': 365,\n",
       " 'thing': 366,\n",
       " 'think': 367,\n",
       " 'thinking': 368,\n",
       " 'tho': 369,\n",
       " 'thought': 370,\n",
       " 'ticket': 371,\n",
       " 'till': 372,\n",
       " 'time': 373,\n",
       " 'tired': 374,\n",
       " 'today': 375,\n",
       " 'told': 376,\n",
       " 'tomorrow': 377,\n",
       " 'tonight': 378,\n",
       " 'took': 379,\n",
       " 'town': 380,\n",
       " 'toy': 381,\n",
       " 'track': 382,\n",
       " 'travel': 383,\n",
       " 'tried': 384,\n",
       " 'true': 385,\n",
       " 'try': 386,\n",
       " 'trying': 387,\n",
       " 'turn': 388,\n",
       " 'tweet': 389,\n",
       " 'twitter': 390,\n",
       " 'usa': 391,\n",
       " 'use': 392,\n",
       " 'used': 393,\n",
       " 'video': 394,\n",
       " 'voice': 395,\n",
       " 'wa': 396,\n",
       " 'wait': 397,\n",
       " 'wan': 398,\n",
       " 'want': 399,\n",
       " 'wanted': 400,\n",
       " 'watch': 401,\n",
       " 'watching': 402,\n",
       " 'way': 403,\n",
       " 'wear': 404,\n",
       " 'weather': 405,\n",
       " 'week': 406,\n",
       " 'weekend': 407,\n",
       " 'went': 408,\n",
       " 'white': 409,\n",
       " 'wide': 410,\n",
       " 'win': 411,\n",
       " 'wish': 412,\n",
       " 'woke': 413,\n",
       " 'woman': 414,\n",
       " 'won': 415,\n",
       " 'wont': 416,\n",
       " 'wood': 417,\n",
       " 'word': 418,\n",
       " 'work': 419,\n",
       " 'working': 420,\n",
       " 'world': 421,\n",
       " 'worry': 422,\n",
       " 'worst': 423,\n",
       " 'wow': 424,\n",
       " 'wrong': 425,\n",
       " 'yay': 426,\n",
       " 'yea': 427,\n",
       " 'yeah': 428,\n",
       " 'year': 429,\n",
       " 'yes': 430,\n",
       " 'yesterday': 431,\n",
       " 'youu': 432}"
      ]
     },
     "execution_count": 38,
     "metadata": {},
     "output_type": "execute_result"
    }
   ],
   "source": [
    "tfidf_vectorizer.vocabulary_"
   ]
  },
  {
   "cell_type": "code",
   "execution_count": 39,
   "metadata": {
    "collapsed": false
   },
   "outputs": [
    {
     "name": "stdout",
     "output_type": "stream",
     "text": [
      "127\n"
     ]
    }
   ],
   "source": [
    "print(tfidf_vectorizer.vocabulary_['follow'])"
   ]
  },
  {
   "cell_type": "code",
   "execution_count": 40,
   "metadata": {
    "collapsed": false
   },
   "outputs": [
    {
     "name": "stdout",
     "output_type": "stream",
     "text": [
      "Stem studying: studi\n",
      "Lemmatise studying: studying\n",
      "Lemmatise studying: study\n"
     ]
    }
   ],
   "source": [
    "from nltk.stem import PorterStemmer, WordNetLemmatizer\n",
    " \n",
    "stemmer = PorterStemmer()\n",
    "lemmatiser = WordNetLemmatizer()\n",
    " \n",
    "print(\"Stem %s: %s\" % (\"studying\", stemmer.stem(\"studying\")))\n",
    "print(\"Lemmatise %s: %s\" % (\"studying\", lemmatiser.lemmatize(\"studying\")))\n",
    "print(\"Lemmatise %s: %s\" % (\"studying\", lemmatiser.lemmatize(\"studying\", pos=\"v\")))"
   ]
  },
  {
   "cell_type": "code",
   "execution_count": null,
   "metadata": {
    "collapsed": true
   },
   "outputs": [],
   "source": []
  }
 ],
 "metadata": {
  "anaconda-cloud": {},
  "kernelspec": {
   "display_name": "Python [Root]",
   "language": "python",
   "name": "Python [Root]"
  },
  "language_info": {
   "codemirror_mode": {
    "name": "ipython",
    "version": 3
   },
   "file_extension": ".py",
   "mimetype": "text/x-python",
   "name": "python",
   "nbconvert_exporter": "python",
   "pygments_lexer": "ipython3",
   "version": "3.5.2"
  }
 },
 "nbformat": 4,
 "nbformat_minor": 1
}
